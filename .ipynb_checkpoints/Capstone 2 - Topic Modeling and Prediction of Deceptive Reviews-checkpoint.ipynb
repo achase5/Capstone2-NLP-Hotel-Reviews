{
 "cells": [
  {
   "cell_type": "markdown",
   "metadata": {},
   "source": [
    "# Overview\n",
    "\n",
    "The purpose of this jupyter notebook is to outline a the problem, approach, and outcomes associated with the detection of \"truthful\" and \"deceptive\" hotel reviews that a typical hotel review aggregator (or some sort of similar service) would come across as important to business operations.\n",
    "\n",
    "This notebook is structured in the following manner:\n",
    "0. **Motivation**: The problem, and why it is important\n",
    "1. **Setting up**: Tools, models, Data utilized\n",
    "2. **Description**: A description of the data\n",
    "3. **Data transformation**: Steps that facilitate the detection stage\n",
    "4. **Classification and Tuning**: The actual dete\n",
    "5. **Results**"
   ]
  },
  {
   "cell_type": "markdown",
   "metadata": {},
   "source": [
    "## 1. Motivation\n",
    "\n",
    "The problem of detecting truthful versus deceptive content is an important focus in many areas including spam detection, consumer-facing information about businesses, and even political information in democratic societies (fake news). \n",
    "\n",
    "The purpose of this project focuses on consumer-facing information. Given a data set of about 1600 hotel reviews, where 800 are truthful (pulled from sources such as Trip Advisor), and 800 are deceptive (Generated using Amazon's Mechanical Turk -- a market place for tasks requiring human intelligence), this notebook seeks to detect deceptive reviews by using latent semantic indexing and machine learning. "
   ]
  },
  {
   "cell_type": "markdown",
   "metadata": {},
   "source": [
    "## 2. Setting Up"
   ]
  },
  {
   "cell_type": "code",
   "execution_count": 181,
   "metadata": {
    "scrolled": true
   },
   "outputs": [],
   "source": [
    "# General Data Manipulation\n",
    "import pandas\n",
    "import numpy\n",
    "import re\n",
    "\n",
    "# Feature Engineering, Descriptives\n",
    "from scipy.stats import ttest_ind\n",
    "from nltk.corpus import stopwords\n",
    "from collections import defaultdict\n",
    "\n",
    "# NLP Modules\n",
    "import gensim \n",
    "import spacy\n",
    "\n",
    "# Supervised Learning Modules\n",
    "from sklearn.lda import LDA \n",
    "from sklearn.model_selection import GridSearchCV\n",
    "from sklearn.model_selection import KFold\n",
    "from sklearn.metrics import classification_report\n",
    "\n",
    "from sklearn import model_selection\n",
    "from sklearn.linear_model import LogisticRegression\n",
    "from sklearn.tree import DecisionTreeClassifier\n",
    "from sklearn.neighbors import KNeighborsClassifier\n",
    "from sklearn.discriminant_analysis import LinearDiscriminantAnalysis\n",
    "from sklearn.naive_bayes import GaussianNB\n",
    "from sklearn.svm import SVC\n",
    "from sklearn.ensemble import RandomForestClassifier\n",
    "\n",
    "# Package Results\n",
    "from sklearn.externals import joblib\n",
    "\n",
    "# Plotting\n",
    "from matplotlib import pyplot\n",
    "%matplotlib inline\n",
    "\n",
    "# Read Data\n",
    "data_in = pandas.read_csv('deceptive-opinion.csv')\n",
    "stop = set(stopwords.words('english'))\n",
    "\n",
    "import warnings\n",
    "warnings.filterwarnings('ignore')"
   ]
  },
  {
   "cell_type": "markdown",
   "metadata": {},
   "source": [
    "## 3. Description of Data\n",
    "\n",
    "    A. Show the top 5 and bottom 5 records.\n",
    "    B. Pivot table on categorical labels, and count.\n",
    "    C. Barplot data\n",
    "    D. Hypothesis testing"
   ]
  },
  {
   "cell_type": "markdown",
   "metadata": {},
   "source": [
    "### A. Head / Tail of Data"
   ]
  },
  {
   "cell_type": "code",
   "execution_count": 192,
   "metadata": {
    "scrolled": true
   },
   "outputs": [
    {
     "data": {
      "text/html": [
       "<div>\n",
       "<table border=\"1\" class=\"dataframe\">\n",
       "  <thead>\n",
       "    <tr style=\"text-align: right;\">\n",
       "      <th></th>\n",
       "      <th>deceptive</th>\n",
       "      <th>hotel</th>\n",
       "      <th>polarity</th>\n",
       "      <th>source</th>\n",
       "      <th>text</th>\n",
       "    </tr>\n",
       "  </thead>\n",
       "  <tbody>\n",
       "    <tr>\n",
       "      <th>0</th>\n",
       "      <td>truthful</td>\n",
       "      <td>conrad</td>\n",
       "      <td>positive</td>\n",
       "      <td>TripAdvisor</td>\n",
       "      <td>We stayed for a one night getaway with family ...</td>\n",
       "    </tr>\n",
       "    <tr>\n",
       "      <th>1</th>\n",
       "      <td>truthful</td>\n",
       "      <td>hyatt</td>\n",
       "      <td>positive</td>\n",
       "      <td>TripAdvisor</td>\n",
       "      <td>Triple A rate with upgrade to view room was le...</td>\n",
       "    </tr>\n",
       "    <tr>\n",
       "      <th>2</th>\n",
       "      <td>truthful</td>\n",
       "      <td>hyatt</td>\n",
       "      <td>positive</td>\n",
       "      <td>TripAdvisor</td>\n",
       "      <td>This comes a little late as I'm finally catchi...</td>\n",
       "    </tr>\n",
       "    <tr>\n",
       "      <th>1597</th>\n",
       "      <td>deceptive</td>\n",
       "      <td>intercontinental</td>\n",
       "      <td>negative</td>\n",
       "      <td>MTurk</td>\n",
       "      <td>The Intercontinental Chicago Magnificent Mile ...</td>\n",
       "    </tr>\n",
       "    <tr>\n",
       "      <th>1598</th>\n",
       "      <td>deceptive</td>\n",
       "      <td>palmer</td>\n",
       "      <td>negative</td>\n",
       "      <td>MTurk</td>\n",
       "      <td>The Palmer House Hilton, while it looks good i...</td>\n",
       "    </tr>\n",
       "    <tr>\n",
       "      <th>1599</th>\n",
       "      <td>deceptive</td>\n",
       "      <td>amalfi</td>\n",
       "      <td>negative</td>\n",
       "      <td>MTurk</td>\n",
       "      <td>As a former Chicagoan, I'm appalled at the Ama...</td>\n",
       "    </tr>\n",
       "  </tbody>\n",
       "</table>\n",
       "</div>"
      ],
      "text/plain": [
       "      deceptive             hotel  polarity       source  \\\n",
       "0      truthful            conrad  positive  TripAdvisor   \n",
       "1      truthful             hyatt  positive  TripAdvisor   \n",
       "2      truthful             hyatt  positive  TripAdvisor   \n",
       "1597  deceptive  intercontinental  negative        MTurk   \n",
       "1598  deceptive            palmer  negative        MTurk   \n",
       "1599  deceptive            amalfi  negative        MTurk   \n",
       "\n",
       "                                                   text  \n",
       "0     We stayed for a one night getaway with family ...  \n",
       "1     Triple A rate with upgrade to view room was le...  \n",
       "2     This comes a little late as I'm finally catchi...  \n",
       "1597  The Intercontinental Chicago Magnificent Mile ...  \n",
       "1598  The Palmer House Hilton, while it looks good i...  \n",
       "1599  As a former Chicagoan, I'm appalled at the Ama...  "
      ]
     },
     "execution_count": 192,
     "metadata": {},
     "output_type": "execute_result"
    }
   ],
   "source": [
    "data_in.head(3).append(data_in.tail(3))"
   ]
  },
  {
   "cell_type": "markdown",
   "metadata": {},
   "source": [
    "### B. Pivot Table by Categories"
   ]
  },
  {
   "cell_type": "code",
   "execution_count": 4,
   "metadata": {},
   "outputs": [
    {
     "data": {
      "text/html": [
       "<div>\n",
       "<table border=\"1\" class=\"dataframe\">\n",
       "  <thead>\n",
       "    <tr>\n",
       "      <th></th>\n",
       "      <th colspan=\"4\" halign=\"left\">source</th>\n",
       "      <th colspan=\"4\" halign=\"left\">text</th>\n",
       "    </tr>\n",
       "    <tr>\n",
       "      <th>deceptive</th>\n",
       "      <th colspan=\"2\" halign=\"left\">deceptive</th>\n",
       "      <th colspan=\"2\" halign=\"left\">truthful</th>\n",
       "      <th colspan=\"2\" halign=\"left\">deceptive</th>\n",
       "      <th colspan=\"2\" halign=\"left\">truthful</th>\n",
       "    </tr>\n",
       "    <tr>\n",
       "      <th>polarity</th>\n",
       "      <th>negative</th>\n",
       "      <th>positive</th>\n",
       "      <th>negative</th>\n",
       "      <th>positive</th>\n",
       "      <th>negative</th>\n",
       "      <th>positive</th>\n",
       "      <th>negative</th>\n",
       "      <th>positive</th>\n",
       "    </tr>\n",
       "    <tr>\n",
       "      <th>hotel</th>\n",
       "      <th></th>\n",
       "      <th></th>\n",
       "      <th></th>\n",
       "      <th></th>\n",
       "      <th></th>\n",
       "      <th></th>\n",
       "      <th></th>\n",
       "      <th></th>\n",
       "    </tr>\n",
       "  </thead>\n",
       "  <tbody>\n",
       "    <tr>\n",
       "      <th>affinia</th>\n",
       "      <td>20</td>\n",
       "      <td>20</td>\n",
       "      <td>20</td>\n",
       "      <td>20</td>\n",
       "      <td>20</td>\n",
       "      <td>20</td>\n",
       "      <td>20</td>\n",
       "      <td>20</td>\n",
       "    </tr>\n",
       "    <tr>\n",
       "      <th>allegro</th>\n",
       "      <td>20</td>\n",
       "      <td>20</td>\n",
       "      <td>20</td>\n",
       "      <td>20</td>\n",
       "      <td>20</td>\n",
       "      <td>20</td>\n",
       "      <td>20</td>\n",
       "      <td>20</td>\n",
       "    </tr>\n",
       "    <tr>\n",
       "      <th>amalfi</th>\n",
       "      <td>20</td>\n",
       "      <td>20</td>\n",
       "      <td>20</td>\n",
       "      <td>20</td>\n",
       "      <td>20</td>\n",
       "      <td>20</td>\n",
       "      <td>20</td>\n",
       "      <td>20</td>\n",
       "    </tr>\n",
       "    <tr>\n",
       "      <th>ambassador</th>\n",
       "      <td>20</td>\n",
       "      <td>20</td>\n",
       "      <td>20</td>\n",
       "      <td>20</td>\n",
       "      <td>20</td>\n",
       "      <td>20</td>\n",
       "      <td>20</td>\n",
       "      <td>20</td>\n",
       "    </tr>\n",
       "    <tr>\n",
       "      <th>conrad</th>\n",
       "      <td>20</td>\n",
       "      <td>20</td>\n",
       "      <td>20</td>\n",
       "      <td>20</td>\n",
       "      <td>20</td>\n",
       "      <td>20</td>\n",
       "      <td>20</td>\n",
       "      <td>20</td>\n",
       "    </tr>\n",
       "    <tr>\n",
       "      <th>fairmont</th>\n",
       "      <td>20</td>\n",
       "      <td>20</td>\n",
       "      <td>20</td>\n",
       "      <td>20</td>\n",
       "      <td>20</td>\n",
       "      <td>20</td>\n",
       "      <td>20</td>\n",
       "      <td>20</td>\n",
       "    </tr>\n",
       "    <tr>\n",
       "      <th>hardrock</th>\n",
       "      <td>20</td>\n",
       "      <td>20</td>\n",
       "      <td>20</td>\n",
       "      <td>20</td>\n",
       "      <td>20</td>\n",
       "      <td>20</td>\n",
       "      <td>20</td>\n",
       "      <td>20</td>\n",
       "    </tr>\n",
       "    <tr>\n",
       "      <th>hilton</th>\n",
       "      <td>20</td>\n",
       "      <td>20</td>\n",
       "      <td>20</td>\n",
       "      <td>20</td>\n",
       "      <td>20</td>\n",
       "      <td>20</td>\n",
       "      <td>20</td>\n",
       "      <td>20</td>\n",
       "    </tr>\n",
       "    <tr>\n",
       "      <th>homewood</th>\n",
       "      <td>20</td>\n",
       "      <td>20</td>\n",
       "      <td>20</td>\n",
       "      <td>20</td>\n",
       "      <td>20</td>\n",
       "      <td>20</td>\n",
       "      <td>20</td>\n",
       "      <td>20</td>\n",
       "    </tr>\n",
       "    <tr>\n",
       "      <th>hyatt</th>\n",
       "      <td>20</td>\n",
       "      <td>20</td>\n",
       "      <td>20</td>\n",
       "      <td>20</td>\n",
       "      <td>20</td>\n",
       "      <td>20</td>\n",
       "      <td>20</td>\n",
       "      <td>20</td>\n",
       "    </tr>\n",
       "    <tr>\n",
       "      <th>intercontinental</th>\n",
       "      <td>20</td>\n",
       "      <td>20</td>\n",
       "      <td>20</td>\n",
       "      <td>20</td>\n",
       "      <td>20</td>\n",
       "      <td>20</td>\n",
       "      <td>20</td>\n",
       "      <td>20</td>\n",
       "    </tr>\n",
       "    <tr>\n",
       "      <th>james</th>\n",
       "      <td>20</td>\n",
       "      <td>20</td>\n",
       "      <td>20</td>\n",
       "      <td>20</td>\n",
       "      <td>20</td>\n",
       "      <td>20</td>\n",
       "      <td>20</td>\n",
       "      <td>20</td>\n",
       "    </tr>\n",
       "    <tr>\n",
       "      <th>knickerbocker</th>\n",
       "      <td>20</td>\n",
       "      <td>20</td>\n",
       "      <td>20</td>\n",
       "      <td>20</td>\n",
       "      <td>20</td>\n",
       "      <td>20</td>\n",
       "      <td>20</td>\n",
       "      <td>20</td>\n",
       "    </tr>\n",
       "    <tr>\n",
       "      <th>monaco</th>\n",
       "      <td>20</td>\n",
       "      <td>20</td>\n",
       "      <td>20</td>\n",
       "      <td>20</td>\n",
       "      <td>20</td>\n",
       "      <td>20</td>\n",
       "      <td>20</td>\n",
       "      <td>20</td>\n",
       "    </tr>\n",
       "    <tr>\n",
       "      <th>omni</th>\n",
       "      <td>20</td>\n",
       "      <td>20</td>\n",
       "      <td>20</td>\n",
       "      <td>20</td>\n",
       "      <td>20</td>\n",
       "      <td>20</td>\n",
       "      <td>20</td>\n",
       "      <td>20</td>\n",
       "    </tr>\n",
       "    <tr>\n",
       "      <th>palmer</th>\n",
       "      <td>20</td>\n",
       "      <td>20</td>\n",
       "      <td>20</td>\n",
       "      <td>20</td>\n",
       "      <td>20</td>\n",
       "      <td>20</td>\n",
       "      <td>20</td>\n",
       "      <td>20</td>\n",
       "    </tr>\n",
       "    <tr>\n",
       "      <th>sheraton</th>\n",
       "      <td>20</td>\n",
       "      <td>20</td>\n",
       "      <td>20</td>\n",
       "      <td>20</td>\n",
       "      <td>20</td>\n",
       "      <td>20</td>\n",
       "      <td>20</td>\n",
       "      <td>20</td>\n",
       "    </tr>\n",
       "    <tr>\n",
       "      <th>sofitel</th>\n",
       "      <td>20</td>\n",
       "      <td>20</td>\n",
       "      <td>20</td>\n",
       "      <td>20</td>\n",
       "      <td>20</td>\n",
       "      <td>20</td>\n",
       "      <td>20</td>\n",
       "      <td>20</td>\n",
       "    </tr>\n",
       "    <tr>\n",
       "      <th>swissotel</th>\n",
       "      <td>20</td>\n",
       "      <td>20</td>\n",
       "      <td>20</td>\n",
       "      <td>20</td>\n",
       "      <td>20</td>\n",
       "      <td>20</td>\n",
       "      <td>20</td>\n",
       "      <td>20</td>\n",
       "    </tr>\n",
       "    <tr>\n",
       "      <th>talbott</th>\n",
       "      <td>20</td>\n",
       "      <td>20</td>\n",
       "      <td>20</td>\n",
       "      <td>20</td>\n",
       "      <td>20</td>\n",
       "      <td>20</td>\n",
       "      <td>20</td>\n",
       "      <td>20</td>\n",
       "    </tr>\n",
       "  </tbody>\n",
       "</table>\n",
       "</div>"
      ],
      "text/plain": [
       "                    source                                 text           \\\n",
       "deceptive        deceptive          truthful          deceptive            \n",
       "polarity          negative positive negative positive  negative positive   \n",
       "hotel                                                                      \n",
       "affinia                 20       20       20       20        20       20   \n",
       "allegro                 20       20       20       20        20       20   \n",
       "amalfi                  20       20       20       20        20       20   \n",
       "ambassador              20       20       20       20        20       20   \n",
       "conrad                  20       20       20       20        20       20   \n",
       "fairmont                20       20       20       20        20       20   \n",
       "hardrock                20       20       20       20        20       20   \n",
       "hilton                  20       20       20       20        20       20   \n",
       "homewood                20       20       20       20        20       20   \n",
       "hyatt                   20       20       20       20        20       20   \n",
       "intercontinental        20       20       20       20        20       20   \n",
       "james                   20       20       20       20        20       20   \n",
       "knickerbocker           20       20       20       20        20       20   \n",
       "monaco                  20       20       20       20        20       20   \n",
       "omni                    20       20       20       20        20       20   \n",
       "palmer                  20       20       20       20        20       20   \n",
       "sheraton                20       20       20       20        20       20   \n",
       "sofitel                 20       20       20       20        20       20   \n",
       "swissotel               20       20       20       20        20       20   \n",
       "talbott                 20       20       20       20        20       20   \n",
       "\n",
       "                                    \n",
       "deceptive        truthful           \n",
       "polarity         negative positive  \n",
       "hotel                               \n",
       "affinia                20       20  \n",
       "allegro                20       20  \n",
       "amalfi                 20       20  \n",
       "ambassador             20       20  \n",
       "conrad                 20       20  \n",
       "fairmont               20       20  \n",
       "hardrock               20       20  \n",
       "hilton                 20       20  \n",
       "homewood               20       20  \n",
       "hyatt                  20       20  \n",
       "intercontinental       20       20  \n",
       "james                  20       20  \n",
       "knickerbocker          20       20  \n",
       "monaco                 20       20  \n",
       "omni                   20       20  \n",
       "palmer                 20       20  \n",
       "sheraton               20       20  \n",
       "sofitel                20       20  \n",
       "swissotel              20       20  \n",
       "talbott                20       20  "
      ]
     },
     "execution_count": 4,
     "metadata": {},
     "output_type": "execute_result"
    }
   ],
   "source": [
    "data_in.pivot_table(\n",
    "    columns=['deceptive','polarity'],\n",
    "    index = ['hotel'],\n",
    "    aggfunc = len).fillna(0)"
   ]
  },
  {
   "cell_type": "markdown",
   "metadata": {},
   "source": [
    "### C. Barplot of Various Text Features\n",
    "\n",
    "From the descriptive charts below, there seems to be no difference in deceptive review length on average. On average, Positive reviews are shorter than negative."
   ]
  },
  {
   "cell_type": "code",
   "execution_count": 5,
   "metadata": {
    "collapsed": true,
    "scrolled": true
   },
   "outputs": [],
   "source": [
    "#Mean Length Funciton\n",
    "def mean_len(group, mean = True):\n",
    "    if mean == True:\n",
    "        return numpy.mean(group.text.str.len())\n",
    "    else:\n",
    "        return group.text.str.len()"
   ]
  },
  {
   "cell_type": "code",
   "execution_count": 6,
   "metadata": {
    "collapsed": true,
    "scrolled": false
   },
   "outputs": [],
   "source": [
    "a = data_in.groupby(\n",
    "    ['deceptive']).apply(\n",
    "    mean_len, mean = True)\n",
    "\n",
    "b = data_in.groupby(\n",
    "    ['polarity']).apply(\n",
    "    mean_len, mean = True)\n",
    "\n",
    "c = data_in.groupby(\n",
    "    ['deceptive','polarity']).apply(\n",
    "    mean_len, mean = True)\n",
    "\n",
    "d = data_in.groupby(\n",
    "    ['hotel','polarity']).apply(\n",
    "    mean_len, mean = True)"
   ]
  },
  {
   "cell_type": "code",
   "execution_count": 7,
   "metadata": {},
   "outputs": [
    {
     "data": {
      "text/plain": [
       "<matplotlib.axes._subplots.AxesSubplot at 0x28201c9d0b8>"
      ]
     },
     "execution_count": 7,
     "metadata": {},
     "output_type": "execute_result"
    },
    {
     "data": {
      "image/png": "[encoded data removed]",
      "text/plain": [
       "<matplotlib.figure.Figure at 0x282017ed4e0>"
      ]
     },
     "metadata": {},
     "output_type": "display_data"
    }
   ],
   "source": [
    "fig, ax =pyplot.subplots(4,1,figsize=(15,14))\n",
    "\n",
    "a.plot('bar',ax = ax[0], rot = 0 )\n",
    "\n",
    "b.plot('bar',ax = ax[1], rot = 0 )\n",
    "\n",
    "c.plot('bar',ax = ax[2], rot = 0)\n",
    "\n",
    "d.plot('bar',ax = ax[3])"
   ]
  },
  {
   "cell_type": "markdown",
   "metadata": {},
   "source": [
    "### A. Hypothesis Tests on Text Features"
   ]
  },
  {
   "cell_type": "markdown",
   "metadata": {},
   "source": [
    "From the results of hypotheses tests we cna see that:\n",
    "\n",
    "1. There is a statistically signifincant difference between positive and negative average length of words (p-value of about 0)\n",
    "2. There is a statistically signifincant difference between trip advisor and non trip advisor sources (p-value of about 0)\n",
    "3. There is a no detectable statistical significance when it comes to deceptive and genuine reviews. (p-value = .2)"
   ]
  },
  {
   "cell_type": "code",
   "execution_count": 8,
   "metadata": {},
   "outputs": [],
   "source": [
    "pandas.set_option('display.float_format', lambda x: '%.f' % x)\n",
    "\n",
    "test_a = ttest_ind(\n",
    "    data_in[data_in.polarity == 'positive'].text.str.len(),\n",
    "    data_in[data_in.polarity == 'negative'].text.str.len())\n",
    "\n",
    "test_b = ttest_ind(\n",
    "    data_in[data_in.source == 'TripAdvisor'].text.str.len(),\n",
    "    data_in[data_in.source != 'TripAdvisor'].text.str.len())\n",
    "\n",
    "test_c = ttest_ind(\n",
    "    data_in[data_in.deceptive == 'deceptive'].text.str.len(),\n",
    "    data_in[data_in.deceptive == 'truthful'].text.str.len())\n"
   ]
  },
  {
   "cell_type": "code",
   "execution_count": 9,
   "metadata": {},
   "outputs": [
    {
     "name": "stdout",
     "output_type": "stream",
     "text": [
      "Positive vs Negative: Statisitcally Significant\n",
      "Ttest_indResult(statistic=-13.507204854821099, pvalue=1.8968798894685588e-39)\n"
     ]
    }
   ],
   "source": [
    "print('Positive vs Negative: Statisitcally Significant'), \n",
    "print(test_a)"
   ]
  },
  {
   "cell_type": "code",
   "execution_count": 10,
   "metadata": {},
   "outputs": [
    {
     "name": "stdout",
     "output_type": "stream",
     "text": [
      "TripAdvisor vs Non TripAdvisor:  Statisitcally Significant\n",
      "Ttest_indResult(statistic=-6.4399626289335314, pvalue=1.5767614748756925e-10)\n"
     ]
    }
   ],
   "source": [
    "print('TripAdvisor vs Non TripAdvisor:  Statisitcally Significant'), \n",
    "print(test_b)"
   ]
  },
  {
   "cell_type": "code",
   "execution_count": 11,
   "metadata": {},
   "outputs": [
    {
     "name": "stdout",
     "output_type": "stream",
     "text": [
      "Deceptive vs Truthfull: Not Statistically Significant\n",
      "Ttest_indResult(statistic=-1.2520931090803307, pvalue=0.21071916472895064)\n"
     ]
    }
   ],
   "source": [
    "print('Deceptive vs Truthfull: Not Statistically Significant'), \n",
    "print(test_c)"
   ]
  },
  {
   "cell_type": "markdown",
   "metadata": {},
   "source": [
    "# 4. Data Transformations\n",
    "\n",
    "    A. Parse Data\n",
    "    B. Create Features\n",
    "    C. Topic Modeling\n",
    "    D. Dummy variables"
   ]
  },
  {
   "cell_type": "markdown",
   "metadata": {},
   "source": [
    "## A. Set up Instance and Parse Data"
   ]
  },
  {
   "cell_type": "code",
   "execution_count": 12,
   "metadata": {
    "collapsed": true
   },
   "outputs": [],
   "source": [
    "# Create Instance and Add Data to NLP object.\n",
    "data_nlp = data_in.copy()\n",
    "import en_core_web_md\n",
    "nlp = en_core_web_md.load()"
   ]
  },
  {
   "cell_type": "code",
   "execution_count": 13,
   "metadata": {},
   "outputs": [
    {
     "data": {
      "text/html": [
       "<div>\n",
       "<table border=\"1\" class=\"dataframe\">\n",
       "  <thead>\n",
       "    <tr style=\"text-align: right;\">\n",
       "      <th></th>\n",
       "      <th>deceptive</th>\n",
       "      <th>hotel</th>\n",
       "      <th>polarity</th>\n",
       "      <th>source</th>\n",
       "      <th>text</th>\n",
       "      <th>tokens</th>\n",
       "      <th>tokens_stopwords</th>\n",
       "      <th>lemma</th>\n",
       "      <th>pos</th>\n",
       "      <th>stopword</th>\n",
       "    </tr>\n",
       "  </thead>\n",
       "  <tbody>\n",
       "    <tr>\n",
       "      <th>0</th>\n",
       "      <td>truthful</td>\n",
       "      <td>conrad</td>\n",
       "      <td>positive</td>\n",
       "      <td>TripAdvisor</td>\n",
       "      <td>We stayed for a one night getaway with family ...</td>\n",
       "      <td>[We, stayed, for, a, one, night, getaway, with...</td>\n",
       "      <td>[We, stayed, one, night, getaway, family, thur...</td>\n",
       "      <td>[-PRON-, stay, for, a, one, night, getaway, wi...</td>\n",
       "      <td>[PRON, VERB, ADP, DET, NUM, NOUN, NOUN, ADP, N...</td>\n",
       "      <td>[False, False, False, False, False, False, Fal...</td>\n",
       "    </tr>\n",
       "    <tr>\n",
       "      <th>1</th>\n",
       "      <td>truthful</td>\n",
       "      <td>hyatt</td>\n",
       "      <td>positive</td>\n",
       "      <td>TripAdvisor</td>\n",
       "      <td>Triple A rate with upgrade to view room was le...</td>\n",
       "      <td>[Triple, A, rate, with, upgrade, to, view, roo...</td>\n",
       "      <td>[Triple, A, rate, upgrade, view, room, less, $...</td>\n",
       "      <td>[triple, a, rate, with, upgrade, to, view, roo...</td>\n",
       "      <td>[ADJ, DET, NOUN, ADP, NOUN, PART, NOUN, NOUN, ...</td>\n",
       "      <td>[False, False, False, False, False, False, Fal...</td>\n",
       "    </tr>\n",
       "    <tr>\n",
       "      <th>1598</th>\n",
       "      <td>deceptive</td>\n",
       "      <td>palmer</td>\n",
       "      <td>negative</td>\n",
       "      <td>MTurk</td>\n",
       "      <td>The Palmer House Hilton, while it looks good i...</td>\n",
       "      <td>[The, Palmer, House, Hilton, ,, while, it, loo...</td>\n",
       "      <td>[The, Palmer, House, Hilton, ,, looks, good, p...</td>\n",
       "      <td>[the, palmer, house, hilton, ,, while, -PRON-,...</td>\n",
       "      <td>[DET, PROPN, PROPN, PROPN, PUNCT, ADP, PRON, V...</td>\n",
       "      <td>[False, False, False, False, False, False, Fal...</td>\n",
       "    </tr>\n",
       "    <tr>\n",
       "      <th>1599</th>\n",
       "      <td>deceptive</td>\n",
       "      <td>amalfi</td>\n",
       "      <td>negative</td>\n",
       "      <td>MTurk</td>\n",
       "      <td>As a former Chicagoan, I'm appalled at the Ama...</td>\n",
       "      <td>[As, a, former, Chicagoan, ,, I, 'm, appalled,...</td>\n",
       "      <td>[As, former, Chicagoan, ,, I, 'm, appalled, Am...</td>\n",
       "      <td>[as, a, former, chicagoan, ,, -PRON-, be, appa...</td>\n",
       "      <td>[ADP, DET, ADJ, PROPN, PUNCT, PRON, VERB, VERB...</td>\n",
       "      <td>[False, False, False, False, False, False, Fal...</td>\n",
       "    </tr>\n",
       "  </tbody>\n",
       "</table>\n",
       "</div>"
      ],
      "text/plain": [
       "      deceptive   hotel  polarity       source  \\\n",
       "0      truthful  conrad  positive  TripAdvisor   \n",
       "1      truthful   hyatt  positive  TripAdvisor   \n",
       "1598  deceptive  palmer  negative        MTurk   \n",
       "1599  deceptive  amalfi  negative        MTurk   \n",
       "\n",
       "                                                   text  \\\n",
       "0     We stayed for a one night getaway with family ...   \n",
       "1     Triple A rate with upgrade to view room was le...   \n",
       "1598  The Palmer House Hilton, while it looks good i...   \n",
       "1599  As a former Chicagoan, I'm appalled at the Ama...   \n",
       "\n",
       "                                                 tokens  \\\n",
       "0     [We, stayed, for, a, one, night, getaway, with...   \n",
       "1     [Triple, A, rate, with, upgrade, to, view, roo...   \n",
       "1598  [The, Palmer, House, Hilton, ,, while, it, loo...   \n",
       "1599  [As, a, former, Chicagoan, ,, I, 'm, appalled,...   \n",
       "\n",
       "                                       tokens_stopwords  \\\n",
       "0     [We, stayed, one, night, getaway, family, thur...   \n",
       "1     [Triple, A, rate, upgrade, view, room, less, $...   \n",
       "1598  [The, Palmer, House, Hilton, ,, looks, good, p...   \n",
       "1599  [As, former, Chicagoan, ,, I, 'm, appalled, Am...   \n",
       "\n",
       "                                                  lemma  \\\n",
       "0     [-PRON-, stay, for, a, one, night, getaway, wi...   \n",
       "1     [triple, a, rate, with, upgrade, to, view, roo...   \n",
       "1598  [the, palmer, house, hilton, ,, while, -PRON-,...   \n",
       "1599  [as, a, former, chicagoan, ,, -PRON-, be, appa...   \n",
       "\n",
       "                                                    pos  \\\n",
       "0     [PRON, VERB, ADP, DET, NUM, NOUN, NOUN, ADP, N...   \n",
       "1     [ADJ, DET, NOUN, ADP, NOUN, PART, NOUN, NOUN, ...   \n",
       "1598  [DET, PROPN, PROPN, PROPN, PUNCT, ADP, PRON, V...   \n",
       "1599  [ADP, DET, ADJ, PROPN, PUNCT, PRON, VERB, VERB...   \n",
       "\n",
       "                                               stopword  \n",
       "0     [False, False, False, False, False, False, Fal...  \n",
       "1     [False, False, False, False, False, False, Fal...  \n",
       "1598  [False, False, False, False, False, False, Fal...  \n",
       "1599  [False, False, False, False, False, False, Fal...  "
      ]
     },
     "execution_count": 13,
     "metadata": {},
     "output_type": "execute_result"
    }
   ],
   "source": [
    "parsed = nlp.pipe(iter(data_nlp['text']), batch_size=1, n_threads=4)\n",
    "\n",
    "# Create Features\n",
    "tokens, lemma, parts, stopword = [], [], [], []\n",
    "\n",
    "for parsed_doc in parsed:\n",
    "    tokens.append([n.text for n in parsed_doc])\n",
    "    lemma.append([n.lemma_ for n in parsed_doc])\n",
    "    parts.append([n.pos_ for n in parsed_doc])\n",
    "    stopword.append([n.is_stop for n in parsed_doc])\n",
    "\n",
    "# Assign Parsed into Dataframe\n",
    "data_nlp['tokens'] = tokens     \n",
    "data_nlp['tokens_stopwords'] = data_nlp['tokens'].apply(lambda x: [item for item in x if item not in stop])\n",
    "data_nlp['lemma'] = lemma\n",
    "data_nlp['pos'] = parts\n",
    "data_nlp['stopword'] = stopword\n",
    "\n",
    "# Describe resulting frame\n",
    "data_nlp.head(2).append(data_nlp.tail(2))"
   ]
  },
  {
   "cell_type": "markdown",
   "metadata": {},
   "source": [
    "## B. Create Features from Parsed Data"
   ]
  },
  {
   "cell_type": "code",
   "execution_count": 14,
   "metadata": {},
   "outputs": [
    {
     "data": {
      "text/html": [
       "<div>\n",
       "<table border=\"1\" class=\"dataframe\">\n",
       "  <thead>\n",
       "    <tr style=\"text-align: right;\">\n",
       "      <th></th>\n",
       "      <th>deceptive</th>\n",
       "      <th>hotel</th>\n",
       "      <th>polarity</th>\n",
       "      <th>source</th>\n",
       "      <th>text</th>\n",
       "      <th>tokens</th>\n",
       "      <th>tokens_stopwords</th>\n",
       "      <th>lemma</th>\n",
       "      <th>pos</th>\n",
       "      <th>stopword</th>\n",
       "      <th>pron_ct</th>\n",
       "      <th>noun_ct</th>\n",
       "      <th>punct_ct</th>\n",
       "      <th>verb_ct</th>\n",
       "      <th>stoprow</th>\n",
       "    </tr>\n",
       "  </thead>\n",
       "  <tbody>\n",
       "    <tr>\n",
       "      <th>0</th>\n",
       "      <td>truthful</td>\n",
       "      <td>conrad</td>\n",
       "      <td>positive</td>\n",
       "      <td>TripAdvisor</td>\n",
       "      <td>We stayed for a one night getaway with family ...</td>\n",
       "      <td>[We, stayed, for, a, one, night, getaway, with...</td>\n",
       "      <td>[We, stayed, one, night, getaway, family, thur...</td>\n",
       "      <td>[-PRON-, stay, for, a, one, night, getaway, wi...</td>\n",
       "      <td>[PRON, VERB, ADP, DET, NUM, NOUN, NOUN, ADP, N...</td>\n",
       "      <td>[False, False, False, False, False, False, Fal...</td>\n",
       "      <td>5</td>\n",
       "      <td>30</td>\n",
       "      <td>12</td>\n",
       "      <td>14</td>\n",
       "      <td>0</td>\n",
       "    </tr>\n",
       "    <tr>\n",
       "      <th>1</th>\n",
       "      <td>truthful</td>\n",
       "      <td>hyatt</td>\n",
       "      <td>positive</td>\n",
       "      <td>TripAdvisor</td>\n",
       "      <td>Triple A rate with upgrade to view room was le...</td>\n",
       "      <td>[Triple, A, rate, with, upgrade, to, view, roo...</td>\n",
       "      <td>[Triple, A, rate, upgrade, view, room, less, $...</td>\n",
       "      <td>[triple, a, rate, with, upgrade, to, view, roo...</td>\n",
       "      <td>[ADJ, DET, NOUN, ADP, NOUN, PART, NOUN, NOUN, ...</td>\n",
       "      <td>[False, False, False, False, False, False, Fal...</td>\n",
       "      <td>0</td>\n",
       "      <td>14</td>\n",
       "      <td>9</td>\n",
       "      <td>4</td>\n",
       "      <td>0</td>\n",
       "    </tr>\n",
       "    <tr>\n",
       "      <th>1598</th>\n",
       "      <td>deceptive</td>\n",
       "      <td>palmer</td>\n",
       "      <td>negative</td>\n",
       "      <td>MTurk</td>\n",
       "      <td>The Palmer House Hilton, while it looks good i...</td>\n",
       "      <td>[The, Palmer, House, Hilton, ,, while, it, loo...</td>\n",
       "      <td>[The, Palmer, House, Hilton, ,, looks, good, p...</td>\n",
       "      <td>[the, palmer, house, hilton, ,, while, -PRON-,...</td>\n",
       "      <td>[DET, PROPN, PROPN, PROPN, PUNCT, ADP, PRON, V...</td>\n",
       "      <td>[False, False, False, False, False, False, Fal...</td>\n",
       "      <td>10</td>\n",
       "      <td>17</td>\n",
       "      <td>13</td>\n",
       "      <td>20</td>\n",
       "      <td>0</td>\n",
       "    </tr>\n",
       "    <tr>\n",
       "      <th>1599</th>\n",
       "      <td>deceptive</td>\n",
       "      <td>amalfi</td>\n",
       "      <td>negative</td>\n",
       "      <td>MTurk</td>\n",
       "      <td>As a former Chicagoan, I'm appalled at the Ama...</td>\n",
       "      <td>[As, a, former, Chicagoan, ,, I, 'm, appalled,...</td>\n",
       "      <td>[As, former, Chicagoan, ,, I, 'm, appalled, Am...</td>\n",
       "      <td>[as, a, former, chicagoan, ,, -PRON-, be, appa...</td>\n",
       "      <td>[ADP, DET, ADJ, PROPN, PUNCT, PRON, VERB, VERB...</td>\n",
       "      <td>[False, False, False, False, False, False, Fal...</td>\n",
       "      <td>25</td>\n",
       "      <td>40</td>\n",
       "      <td>29</td>\n",
       "      <td>61</td>\n",
       "      <td>0</td>\n",
       "    </tr>\n",
       "  </tbody>\n",
       "</table>\n",
       "</div>"
      ],
      "text/plain": [
       "      deceptive   hotel  polarity       source  \\\n",
       "0      truthful  conrad  positive  TripAdvisor   \n",
       "1      truthful   hyatt  positive  TripAdvisor   \n",
       "1598  deceptive  palmer  negative        MTurk   \n",
       "1599  deceptive  amalfi  negative        MTurk   \n",
       "\n",
       "                                                   text  \\\n",
       "0     We stayed for a one night getaway with family ...   \n",
       "1     Triple A rate with upgrade to view room was le...   \n",
       "1598  The Palmer House Hilton, while it looks good i...   \n",
       "1599  As a former Chicagoan, I'm appalled at the Ama...   \n",
       "\n",
       "                                                 tokens  \\\n",
       "0     [We, stayed, for, a, one, night, getaway, with...   \n",
       "1     [Triple, A, rate, with, upgrade, to, view, roo...   \n",
       "1598  [The, Palmer, House, Hilton, ,, while, it, loo...   \n",
       "1599  [As, a, former, Chicagoan, ,, I, 'm, appalled,...   \n",
       "\n",
       "                                       tokens_stopwords  \\\n",
       "0     [We, stayed, one, night, getaway, family, thur...   \n",
       "1     [Triple, A, rate, upgrade, view, room, less, $...   \n",
       "1598  [The, Palmer, House, Hilton, ,, looks, good, p...   \n",
       "1599  [As, former, Chicagoan, ,, I, 'm, appalled, Am...   \n",
       "\n",
       "                                                  lemma  \\\n",
       "0     [-PRON-, stay, for, a, one, night, getaway, wi...   \n",
       "1     [triple, a, rate, with, upgrade, to, view, roo...   \n",
       "1598  [the, palmer, house, hilton, ,, while, -PRON-,...   \n",
       "1599  [as, a, former, chicagoan, ,, -PRON-, be, appa...   \n",
       "\n",
       "                                                    pos  \\\n",
       "0     [PRON, VERB, ADP, DET, NUM, NOUN, NOUN, ADP, N...   \n",
       "1     [ADJ, DET, NOUN, ADP, NOUN, PART, NOUN, NOUN, ...   \n",
       "1598  [DET, PROPN, PROPN, PROPN, PUNCT, ADP, PRON, V...   \n",
       "1599  [ADP, DET, ADJ, PROPN, PUNCT, PRON, VERB, VERB...   \n",
       "\n",
       "                                               stopword  pron_ct  noun_ct  \\\n",
       "0     [False, False, False, False, False, False, Fal...        5       30   \n",
       "1     [False, False, False, False, False, False, Fal...        0       14   \n",
       "1598  [False, False, False, False, False, False, Fal...       10       17   \n",
       "1599  [False, False, False, False, False, False, Fal...       25       40   \n",
       "\n",
       "      punct_ct  verb_ct  stoprow  \n",
       "0           12       14        0  \n",
       "1            9        4        0  \n",
       "1598        13       20        0  \n",
       "1599        29       61        0  "
      ]
     },
     "execution_count": 14,
     "metadata": {},
     "output_type": "execute_result"
    }
   ],
   "source": [
    "# Set up dataframe columns for new metrics\n",
    "pron_ct = []\n",
    "noun_ct = []\n",
    "punct_ct = []\n",
    "verb_ct = []\n",
    "# tag parts of speech\n",
    "for row in data_nlp.pos:\n",
    "    pron_ct.append(sum([i == 'PRON'  for i in row]))\n",
    "    noun_ct.append(sum([i == 'NOUN'  for i in row]))\n",
    "    punct_ct.append(sum([i == 'PUNCT'  for i in row]))\n",
    "    verb_ct.append(sum([i == 'VERB'  for i in row]))\n",
    "\n",
    "## Create Number of stopword\n",
    "stop_row = []\n",
    "for row in data_nlp.stopword:\n",
    "    stop_row.append(sum(row))\n",
    "    \n",
    "# Create POS Counts\n",
    "data_nlp['pron_ct'] = pron_ct\n",
    "data_nlp['noun_ct'] = noun_ct\n",
    "data_nlp['punct_ct'] = punct_ct\n",
    "data_nlp['verb_ct'] = verb_ct\n",
    "data_nlp['stoprow'] = stop_row\n",
    "# Describe Data\n",
    "data_nlp.head(2).append(data_nlp.tail(2))"
   ]
  },
  {
   "cell_type": "markdown",
   "metadata": {},
   "source": [
    "## C. Topic Modeling\n",
    "- Latent Semantic Analysis by setting the number of topics to 300"
   ]
  },
  {
   "cell_type": "code",
   "execution_count": 15,
   "metadata": {
    "collapsed": true
   },
   "outputs": [],
   "source": [
    "# helper function\n",
    "\n",
    "def build_model(train_data, topic_n):\n",
    "    frequency = defaultdict(int)\n",
    "    for text in train_data:\n",
    "        for token in text:\n",
    "            frequency[token] += 1\n",
    "    # get freq > 1\n",
    "    word_freq_1plus = [[x for x in words if frequency[x] > 1] for words in train_data]\n",
    "    # Create dictionary\n",
    "    dictionary = gensim.corpora.Dictionary(word_freq_1plus)\n",
    "    # Create Corpus\n",
    "    corpus = [dictionary.doc2bow(text) for text in train_data]\n",
    "    # corpus to tfidf\n",
    "    tfidf = gensim.models.TfidfModel(corpus) \n",
    "    corp_tf = tfidf[corpus] \n",
    "    # Unsupervised Component. Reduce space into 300 topics. \n",
    "    topic_n = topic_n\n",
    "    lsi = gensim.models.LsiModel(corp_tf, id2word=dictionary, num_topics = topic_n)\n",
    "    corp_topics = lsi[corp_tf] \n",
    "    return corp_topics, dictionary, tfidf, lsi  \n",
    "\n",
    "train_data = data_nlp.tokens_stopwords\n",
    "topic_n = 300\n",
    "\n",
    "built = build_model(\n",
    "    train_data = train_data,\n",
    "    topic_n = 300)"
   ]
  },
  {
   "cell_type": "markdown",
   "metadata": {},
   "source": [
    "## D. Build Dataframe from Topics"
   ]
  },
  {
   "cell_type": "code",
   "execution_count": 16,
   "metadata": {
    "collapsed": true
   },
   "outputs": [],
   "source": [
    "data_nlp_decomposed = pandas.DataFrame([dict(row) for row in built[0]])\n",
    "topic_only = data_nlp_decomposed"
   ]
  },
  {
   "cell_type": "markdown",
   "metadata": {},
   "source": [
    "# 5. Classification and Tuning\n",
    "\n",
    "Below, three sets of 6 models are run with 10 folds cross validation. Each set successively adds more data:\n",
    "\n",
    "- Topics (300 Variables)\n",
    "- Topics (300 Variables) + Parts of Speech Metrics (4 variables)\n",
    "- Topics (300 Variables) + Parts of Speech Metrics (4 variables) + Dummy Variables (22 variables)\n",
    "\n",
    "This approach is used as it is cheaper (computationally) when compared to feature selection being run for each model. Feature selection is important as the curse of dimensionality and overfitting can occur in this application. \n",
    "\n",
    "## A.  Setting up data + Models"
   ]
  },
  {
   "cell_type": "code",
   "execution_count": 17,
   "metadata": {
    "collapsed": true
   },
   "outputs": [],
   "source": [
    "# Setting Up Three Datasets\n",
    "X1 = topic_only\n",
    "X2 = pandas.concat(\n",
    "    [topic_only,\n",
    "     data_nlp[['pron_ct', 'noun_ct', 'punct_ct', 'verb_ct']]],\n",
    "    axis = 1)\n",
    "X3 = pandas.concat(\n",
    "    [X2,\n",
    "     pandas.get_dummies(data_nlp[['hotel','polarity']])],\n",
    "    axis = 1)\n",
    "Y = data_nlp.deceptive == 'deceptive'"
   ]
  },
  {
   "cell_type": "code",
   "execution_count": 23,
   "metadata": {
    "collapsed": true,
    "scrolled": true
   },
   "outputs": [],
   "source": [
    "# prepare configuration for cross validation test harness\n",
    "seed = 7\n",
    "# prepare models\n",
    "models = []\n",
    "models.append(('LR', LogisticRegression()))\n",
    "models.append(('LDA', LinearDiscriminantAnalysis()))\n",
    "models.append(('KNN', KNeighborsClassifier()))\n",
    "models.append(('CART', DecisionTreeClassifier()))\n",
    "models.append(('NB', GaussianNB()))\n",
    "models.append(('SVM', SVC()))\n",
    "models.append(('RF', RandomForestClassifier(n_jobs = -1, n_estimators = 500)))"
   ]
  },
  {
   "cell_type": "code",
   "execution_count": 24,
   "metadata": {
    "collapsed": true
   },
   "outputs": [],
   "source": [
    "# evaluate each model in turn\n",
    "\n",
    "def run_models(train_data, title):\n",
    "    results = []\n",
    "    names = []\n",
    "\n",
    "    for name, model in models:\n",
    "        kfold = model_selection.KFold(n_splits=10, random_state=seed)\n",
    "        cv_results = model_selection.cross_val_score(model, train_data, Y, cv=kfold, scoring='accuracy')\n",
    "        results.append(cv_results)\n",
    "        names.append(name)\n",
    "        msg = \"%s: %f (%f)\" % (name, cv_results.mean(), cv_results.std())\n",
    "        print(msg)\n",
    "\n",
    "    # boxplot algorithm comparison\n",
    "    fig = pyplot.figure()\n",
    "    fig.suptitle(title)\n",
    "    ax = fig.add_subplot(111)\n",
    "    pyplot.boxplot(results)\n",
    "    ax.set_xticklabels(names)\n",
    "    pyplot.ylim(0,1)\n",
    "    pyplot.show()"
   ]
  },
  {
   "cell_type": "markdown",
   "metadata": {},
   "source": [
    "### Model Comparison 1:\n",
    "Compare 6 Models with variables:\n",
    "- Topics (300 Variables)\n"
   ]
  },
  {
   "cell_type": "code",
   "execution_count": 20,
   "metadata": {},
   "outputs": [
    {
     "data": {
      "text/plain": [
       "(1600, 300)"
      ]
     },
     "execution_count": 20,
     "metadata": {},
     "output_type": "execute_result"
    }
   ],
   "source": [
    "X1.shape"
   ]
  },
  {
   "cell_type": "code",
   "execution_count": 25,
   "metadata": {},
   "outputs": [
    {
     "name": "stdout",
     "output_type": "stream",
     "text": [
      "LR: 0.760625 (0.074270)\n",
      "LDA: 0.820000 (0.046503)\n",
      "KNN: 0.573125 (0.102928)\n",
      "CART: 0.725000 (0.047021)\n",
      "NB: 0.664375 (0.138802)\n",
      "SVM: 0.171875 (0.343753)\n",
      "RF: 0.750000 (0.072780)\n"
     ]
    },
    {
     "data": {
      "image/png": "[encoded data removed]",
      "text/plain": [
       "<matplotlib.figure.Figure at 0x28297233ac8>"
      ]
     },
     "metadata": {},
     "output_type": "display_data"
    }
   ],
   "source": [
    "run_models(X1, title= 'Set 1, Algorithm Comparison')"
   ]
  },
  {
   "cell_type": "markdown",
   "metadata": {},
   "source": [
    "### Model Comparison 2:\n",
    "Compare 6 Models with variables:\n",
    "- Topics (300 Variables)\n",
    "- Parts of Speech Metrics (4 variables)"
   ]
  },
  {
   "cell_type": "code",
   "execution_count": 33,
   "metadata": {},
   "outputs": [
    {
     "data": {
      "text/plain": [
       "(1600, 304)"
      ]
     },
     "execution_count": 33,
     "metadata": {},
     "output_type": "execute_result"
    }
   ],
   "source": [
    "X2.shape"
   ]
  },
  {
   "cell_type": "code",
   "execution_count": 26,
   "metadata": {},
   "outputs": [
    {
     "name": "stdout",
     "output_type": "stream",
     "text": [
      "LR: 0.731250 (0.067373)\n",
      "LDA: 0.816875 (0.046102)\n",
      "KNN: 0.496250 (0.083301)\n",
      "CART: 0.725000 (0.053107)\n",
      "NB: 0.658750 (0.128641)\n",
      "SVM: 0.468125 (0.107654)\n",
      "RF: 0.743125 (0.080790)\n"
     ]
    },
    {
     "data": {
      "image/png": "[encoded data removed]",
      "text/plain": [
       "<matplotlib.figure.Figure at 0x28292ba65c0>"
      ]
     },
     "metadata": {},
     "output_type": "display_data"
    }
   ],
   "source": [
    "run_models(X2, title= 'Set 2, Algorithm Comparison')"
   ]
  },
  {
   "cell_type": "markdown",
   "metadata": {},
   "source": [
    "### Model Comparison 3:\n",
    "Compare 6 Models with variables:\n",
    "- Topics (300 Variables)\n",
    "- Parts of Speech Metrics (4 variables)\n",
    "- Dummy Variables (22 variables)"
   ]
  },
  {
   "cell_type": "code",
   "execution_count": 36,
   "metadata": {},
   "outputs": [
    {
     "data": {
      "text/plain": [
       "(1600, 326)"
      ]
     },
     "execution_count": 36,
     "metadata": {},
     "output_type": "execute_result"
    }
   ],
   "source": [
    "X3.shape"
   ]
  },
  {
   "cell_type": "code",
   "execution_count": 27,
   "metadata": {
    "scrolled": false
   },
   "outputs": [
    {
     "name": "stdout",
     "output_type": "stream",
     "text": [
      "LR: 0.450000 (0.125281)\n",
      "LDA: 0.775000 (0.053619)\n",
      "KNN: 0.480000 (0.079491)\n",
      "CART: 0.731875 (0.046975)\n",
      "NB: 0.075000 (0.043928)\n",
      "SVM: 0.436875 (0.111329)\n",
      "RF: 0.720000 (0.088468)\n"
     ]
    },
    {
     "data": {
      "image/png": "[encoded data removed]",
      "text/plain": [
       "<matplotlib.figure.Figure at 0x28292a5b400>"
      ]
     },
     "metadata": {},
     "output_type": "display_data"
    }
   ],
   "source": [
    "run_models(X3, title= 'Set 3, Algorithm Comparison')"
   ]
  },
  {
   "cell_type": "markdown",
   "metadata": {},
   "source": [
    "#### Model Comparison Results:\n",
    "\n",
    "Of the three sets of features, "
   ]
  },
  {
   "cell_type": "markdown",
   "metadata": {},
   "source": [
    "### Tune Random Forest Model\n",
    "From the above results, an untuned random forest model is performing well. \n",
    "\n",
    "The parameters to tune:\n",
    "1. n_estimators: The number of trees for the model to create\n",
    "2. max_features: The number of features per tree, where auto is set to the square root of total features\n",
    "3. criterion: Gauge of split quality; Gini or Entropy\n",
    "4. min_samples_split: Affects the depth of each tree by setting the minimum number of observations required to split a tree.\n"
   ]
  },
  {
   "cell_type": "markdown",
   "metadata": {},
   "source": [
    "#### Train Test Split\n",
    "- Save 10% for final hold out\n",
    "- look at distribution of final hold out"
   ]
  },
  {
   "cell_type": "code",
   "execution_count": 38,
   "metadata": {
    "collapsed": true
   },
   "outputs": [],
   "source": [
    "X_train, X_test, Y_train, Y_test = model_selection.train_test_split(X3, Y, test_size=0.10, random_state=42)\n"
   ]
  },
  {
   "cell_type": "code",
   "execution_count": 76,
   "metadata": {},
   "outputs": [
    {
     "data": {
      "text/plain": [
       "deceptive\n",
       "False    83\n",
       "True     77\n",
       "dtype: int64"
      ]
     },
     "execution_count": 76,
     "metadata": {},
     "output_type": "execute_result"
    }
   ],
   "source": [
    "pandas.DataFrame(Y_test).groupby('deceptive').size()"
   ]
  },
  {
   "cell_type": "markdown",
   "metadata": {},
   "source": [
    "#### Tune for Accuracy, Precision, Recall"
   ]
  },
  {
   "cell_type": "code",
   "execution_count": 30,
   "metadata": {
    "scrolled": true
   },
   "outputs": [
    {
     "name": "stdout",
     "output_type": "stream",
     "text": [
      "# Tuning hyper-parameters for recall\n",
      "\n",
      "Best parameters set found on development set:\n",
      "\n",
      "RandomForestClassifier(bootstrap=True, class_weight='auto', criterion='gini',\n",
      "            max_depth=None, max_features=5, max_leaf_nodes=None,\n",
      "            min_impurity_split=1e-07, min_samples_leaf=1,\n",
      "            min_samples_split=8, min_weight_fraction_leaf=0.0,\n",
      "            n_estimators=750, n_jobs=-1, oob_score=False,\n",
      "            random_state=None, verbose=0, warm_start=False)\n",
      "Grid scores on development set:\n",
      "\n",
      "0.798 (+/-0.011) for {'criterion': 'gini', 'max_features': 2, 'min_samples_split': 2, 'n_estimators': 500}\n",
      "0.813 (+/-0.020) for {'criterion': 'gini', 'max_features': 2, 'min_samples_split': 2, 'n_estimators': 750}\n",
      "0.787 (+/-0.015) for {'criterion': 'gini', 'max_features': 2, 'min_samples_split': 4, 'n_estimators': 500}\n",
      "0.833 (+/-0.010) for {'criterion': 'gini', 'max_features': 2, 'min_samples_split': 4, 'n_estimators': 750}\n",
      "0.808 (+/-0.021) for {'criterion': 'gini', 'max_features': 2, 'min_samples_split': 6, 'n_estimators': 500}\n",
      "0.837 (+/-0.006) for {'criterion': 'gini', 'max_features': 2, 'min_samples_split': 6, 'n_estimators': 750}\n",
      "0.788 (+/-0.008) for {'criterion': 'gini', 'max_features': 2, 'min_samples_split': 8, 'n_estimators': 500}\n",
      "0.824 (+/-0.006) for {'criterion': 'gini', 'max_features': 2, 'min_samples_split': 8, 'n_estimators': 750}\n",
      "0.827 (+/-0.017) for {'criterion': 'gini', 'max_features': 3, 'min_samples_split': 2, 'n_estimators': 500}\n",
      "0.831 (+/-0.006) for {'criterion': 'gini', 'max_features': 3, 'min_samples_split': 2, 'n_estimators': 750}\n",
      "0.830 (+/-0.008) for {'criterion': 'gini', 'max_features': 3, 'min_samples_split': 4, 'n_estimators': 500}\n",
      "0.846 (+/-0.004) for {'criterion': 'gini', 'max_features': 3, 'min_samples_split': 4, 'n_estimators': 750}\n",
      "0.852 (+/-0.011) for {'criterion': 'gini', 'max_features': 3, 'min_samples_split': 6, 'n_estimators': 500}\n",
      "0.864 (+/-0.009) for {'criterion': 'gini', 'max_features': 3, 'min_samples_split': 6, 'n_estimators': 750}\n",
      "0.823 (+/-0.003) for {'criterion': 'gini', 'max_features': 3, 'min_samples_split': 8, 'n_estimators': 500}\n",
      "0.848 (+/-0.013) for {'criterion': 'gini', 'max_features': 3, 'min_samples_split': 8, 'n_estimators': 750}\n",
      "0.863 (+/-0.004) for {'criterion': 'gini', 'max_features': 4, 'min_samples_split': 2, 'n_estimators': 500}\n",
      "0.863 (+/-0.011) for {'criterion': 'gini', 'max_features': 4, 'min_samples_split': 2, 'n_estimators': 750}\n",
      "0.862 (+/-0.011) for {'criterion': 'gini', 'max_features': 4, 'min_samples_split': 4, 'n_estimators': 500}\n",
      "0.863 (+/-0.008) for {'criterion': 'gini', 'max_features': 4, 'min_samples_split': 4, 'n_estimators': 750}\n",
      "0.851 (+/-0.005) for {'criterion': 'gini', 'max_features': 4, 'min_samples_split': 6, 'n_estimators': 500}\n",
      "0.864 (+/-0.005) for {'criterion': 'gini', 'max_features': 4, 'min_samples_split': 6, 'n_estimators': 750}\n",
      "0.866 (+/-0.015) for {'criterion': 'gini', 'max_features': 4, 'min_samples_split': 8, 'n_estimators': 500}\n",
      "0.869 (+/-0.005) for {'criterion': 'gini', 'max_features': 4, 'min_samples_split': 8, 'n_estimators': 750}\n",
      "0.862 (+/-0.002) for {'criterion': 'gini', 'max_features': 5, 'min_samples_split': 2, 'n_estimators': 500}\n",
      "0.862 (+/-0.006) for {'criterion': 'gini', 'max_features': 5, 'min_samples_split': 2, 'n_estimators': 750}\n",
      "0.859 (+/-0.011) for {'criterion': 'gini', 'max_features': 5, 'min_samples_split': 4, 'n_estimators': 500}\n",
      "0.862 (+/-0.006) for {'criterion': 'gini', 'max_features': 5, 'min_samples_split': 4, 'n_estimators': 750}\n",
      "0.853 (+/-0.002) for {'criterion': 'gini', 'max_features': 5, 'min_samples_split': 6, 'n_estimators': 500}\n",
      "0.866 (+/-0.007) for {'criterion': 'gini', 'max_features': 5, 'min_samples_split': 6, 'n_estimators': 750}\n",
      "0.856 (+/-0.008) for {'criterion': 'gini', 'max_features': 5, 'min_samples_split': 8, 'n_estimators': 500}\n",
      "0.885 (+/-0.006) for {'criterion': 'gini', 'max_features': 5, 'min_samples_split': 8, 'n_estimators': 750}\n",
      "0.806 (+/-0.006) for {'criterion': 'entropy', 'max_features': 2, 'min_samples_split': 2, 'n_estimators': 500}\n",
      "0.802 (+/-0.012) for {'criterion': 'entropy', 'max_features': 2, 'min_samples_split': 2, 'n_estimators': 750}\n",
      "0.826 (+/-0.022) for {'criterion': 'entropy', 'max_features': 2, 'min_samples_split': 4, 'n_estimators': 500}\n",
      "0.849 (+/-0.011) for {'criterion': 'entropy', 'max_features': 2, 'min_samples_split': 4, 'n_estimators': 750}\n",
      "0.829 (+/-0.019) for {'criterion': 'entropy', 'max_features': 2, 'min_samples_split': 6, 'n_estimators': 500}\n",
      "0.822 (+/-0.012) for {'criterion': 'entropy', 'max_features': 2, 'min_samples_split': 6, 'n_estimators': 750}\n",
      "0.822 (+/-0.012) for {'criterion': 'entropy', 'max_features': 2, 'min_samples_split': 8, 'n_estimators': 500}\n",
      "0.819 (+/-0.017) for {'criterion': 'entropy', 'max_features': 2, 'min_samples_split': 8, 'n_estimators': 750}\n",
      "0.833 (+/-0.009) for {'criterion': 'entropy', 'max_features': 3, 'min_samples_split': 2, 'n_estimators': 500}\n",
      "0.852 (+/-0.010) for {'criterion': 'entropy', 'max_features': 3, 'min_samples_split': 2, 'n_estimators': 750}\n",
      "0.827 (+/-0.004) for {'criterion': 'entropy', 'max_features': 3, 'min_samples_split': 4, 'n_estimators': 500}\n",
      "0.841 (+/-0.012) for {'criterion': 'entropy', 'max_features': 3, 'min_samples_split': 4, 'n_estimators': 750}\n",
      "0.834 (+/-0.004) for {'criterion': 'entropy', 'max_features': 3, 'min_samples_split': 6, 'n_estimators': 500}\n",
      "0.851 (+/-0.013) for {'criterion': 'entropy', 'max_features': 3, 'min_samples_split': 6, 'n_estimators': 750}\n",
      "0.852 (+/-0.019) for {'criterion': 'entropy', 'max_features': 3, 'min_samples_split': 8, 'n_estimators': 500}\n",
      "0.848 (+/-0.012) for {'criterion': 'entropy', 'max_features': 3, 'min_samples_split': 8, 'n_estimators': 750}\n",
      "0.858 (+/-0.008) for {'criterion': 'entropy', 'max_features': 4, 'min_samples_split': 2, 'n_estimators': 500}\n",
      "0.848 (+/-0.010) for {'criterion': 'entropy', 'max_features': 4, 'min_samples_split': 2, 'n_estimators': 750}\n",
      "0.849 (+/-0.011) for {'criterion': 'entropy', 'max_features': 4, 'min_samples_split': 4, 'n_estimators': 500}\n",
      "0.869 (+/-0.010) for {'criterion': 'entropy', 'max_features': 4, 'min_samples_split': 4, 'n_estimators': 750}\n",
      "0.863 (+/-0.006) for {'criterion': 'entropy', 'max_features': 4, 'min_samples_split': 6, 'n_estimators': 500}\n",
      "0.858 (+/-0.011) for {'criterion': 'entropy', 'max_features': 4, 'min_samples_split': 6, 'n_estimators': 750}\n",
      "0.858 (+/-0.009) for {'criterion': 'entropy', 'max_features': 4, 'min_samples_split': 8, 'n_estimators': 500}\n",
      "0.863 (+/-0.005) for {'criterion': 'entropy', 'max_features': 4, 'min_samples_split': 8, 'n_estimators': 750}\n",
      "0.856 (+/-0.010) for {'criterion': 'entropy', 'max_features': 5, 'min_samples_split': 2, 'n_estimators': 500}\n",
      "0.873 (+/-0.006) for {'criterion': 'entropy', 'max_features': 5, 'min_samples_split': 2, 'n_estimators': 750}\n",
      "0.870 (+/-0.010) for {'criterion': 'entropy', 'max_features': 5, 'min_samples_split': 4, 'n_estimators': 500}\n",
      "0.873 (+/-0.006) for {'criterion': 'entropy', 'max_features': 5, 'min_samples_split': 4, 'n_estimators': 750}\n",
      "0.864 (+/-0.012) for {'criterion': 'entropy', 'max_features': 5, 'min_samples_split': 6, 'n_estimators': 500}\n",
      "0.871 (+/-0.008) for {'criterion': 'entropy', 'max_features': 5, 'min_samples_split': 6, 'n_estimators': 750}\n",
      "0.855 (+/-0.006) for {'criterion': 'entropy', 'max_features': 5, 'min_samples_split': 8, 'n_estimators': 500}\n",
      "0.863 (+/-0.006) for {'criterion': 'entropy', 'max_features': 5, 'min_samples_split': 8, 'n_estimators': 750}\n",
      "Detailed classification report:\n",
      "The model is trained on the full development set.\n",
      "The scores are computed on the full evaluation set.\n",
      "             precision    recall  f1-score   support\n",
      "\n",
      "      False       0.88      0.86      0.87        83\n",
      "       True       0.85      0.87      0.86        77\n",
      "\n",
      "avg / total       0.86      0.86      0.86       160\n",
      "\n",
      "\n",
      "# Tuning hyper-parameters for accuracy\n",
      "\n",
      "Best parameters set found on development set:\n",
      "\n",
      "RandomForestClassifier(bootstrap=True, class_weight='auto',\n",
      "            criterion='entropy', max_depth=None, max_features=5,\n",
      "            max_leaf_nodes=None, min_impurity_split=1e-07,\n",
      "            min_samples_leaf=1, min_samples_split=2,\n",
      "            min_weight_fraction_leaf=0.0, n_estimators=500, n_jobs=-1,\n",
      "            oob_score=False, random_state=None, verbose=0,\n"
     ]
    },
    {
     "name": "stdout",
     "output_type": "stream",
     "text": [
      "            warm_start=False)\n",
      "Grid scores on development set:\n",
      "\n",
      "0.783 (+/-0.011) for {'criterion': 'gini', 'max_features': 2, 'min_samples_split': 2, 'n_estimators': 500}\n",
      "0.791 (+/-0.009) for {'criterion': 'gini', 'max_features': 2, 'min_samples_split': 2, 'n_estimators': 750}\n",
      "0.776 (+/-0.012) for {'criterion': 'gini', 'max_features': 2, 'min_samples_split': 4, 'n_estimators': 500}\n",
      "0.789 (+/-0.012) for {'criterion': 'gini', 'max_features': 2, 'min_samples_split': 4, 'n_estimators': 750}\n",
      "0.769 (+/-0.006) for {'criterion': 'gini', 'max_features': 2, 'min_samples_split': 6, 'n_estimators': 500}\n",
      "0.801 (+/-0.006) for {'criterion': 'gini', 'max_features': 2, 'min_samples_split': 6, 'n_estimators': 750}\n",
      "0.774 (+/-0.012) for {'criterion': 'gini', 'max_features': 2, 'min_samples_split': 8, 'n_estimators': 500}\n",
      "0.798 (+/-0.011) for {'criterion': 'gini', 'max_features': 2, 'min_samples_split': 8, 'n_estimators': 750}\n",
      "0.821 (+/-0.011) for {'criterion': 'gini', 'max_features': 3, 'min_samples_split': 2, 'n_estimators': 500}\n",
      "0.810 (+/-0.009) for {'criterion': 'gini', 'max_features': 3, 'min_samples_split': 2, 'n_estimators': 750}\n",
      "0.809 (+/-0.008) for {'criterion': 'gini', 'max_features': 3, 'min_samples_split': 4, 'n_estimators': 500}\n",
      "0.824 (+/-0.005) for {'criterion': 'gini', 'max_features': 3, 'min_samples_split': 4, 'n_estimators': 750}\n",
      "0.798 (+/-0.005) for {'criterion': 'gini', 'max_features': 3, 'min_samples_split': 6, 'n_estimators': 500}\n",
      "0.825 (+/-0.012) for {'criterion': 'gini', 'max_features': 3, 'min_samples_split': 6, 'n_estimators': 750}\n",
      "0.806 (+/-0.008) for {'criterion': 'gini', 'max_features': 3, 'min_samples_split': 8, 'n_estimators': 500}\n",
      "0.822 (+/-0.008) for {'criterion': 'gini', 'max_features': 3, 'min_samples_split': 8, 'n_estimators': 750}\n",
      "0.823 (+/-0.009) for {'criterion': 'gini', 'max_features': 4, 'min_samples_split': 2, 'n_estimators': 500}\n",
      "0.836 (+/-0.007) for {'criterion': 'gini', 'max_features': 4, 'min_samples_split': 2, 'n_estimators': 750}\n",
      "0.818 (+/-0.012) for {'criterion': 'gini', 'max_features': 4, 'min_samples_split': 4, 'n_estimators': 500}\n",
      "0.839 (+/-0.008) for {'criterion': 'gini', 'max_features': 4, 'min_samples_split': 4, 'n_estimators': 750}\n",
      "0.824 (+/-0.015) for {'criterion': 'gini', 'max_features': 4, 'min_samples_split': 6, 'n_estimators': 500}\n",
      "0.830 (+/-0.006) for {'criterion': 'gini', 'max_features': 4, 'min_samples_split': 6, 'n_estimators': 750}\n",
      "0.829 (+/-0.011) for {'criterion': 'gini', 'max_features': 4, 'min_samples_split': 8, 'n_estimators': 500}\n",
      "0.840 (+/-0.012) for {'criterion': 'gini', 'max_features': 4, 'min_samples_split': 8, 'n_estimators': 750}\n",
      "0.828 (+/-0.009) for {'criterion': 'gini', 'max_features': 5, 'min_samples_split': 2, 'n_estimators': 500}\n",
      "0.844 (+/-0.008) for {'criterion': 'gini', 'max_features': 5, 'min_samples_split': 2, 'n_estimators': 750}\n",
      "0.835 (+/-0.011) for {'criterion': 'gini', 'max_features': 5, 'min_samples_split': 4, 'n_estimators': 500}\n",
      "0.842 (+/-0.011) for {'criterion': 'gini', 'max_features': 5, 'min_samples_split': 4, 'n_estimators': 750}\n",
      "0.847 (+/-0.009) for {'criterion': 'gini', 'max_features': 5, 'min_samples_split': 6, 'n_estimators': 500}\n",
      "0.841 (+/-0.008) for {'criterion': 'gini', 'max_features': 5, 'min_samples_split': 6, 'n_estimators': 750}\n",
      "0.832 (+/-0.007) for {'criterion': 'gini', 'max_features': 5, 'min_samples_split': 8, 'n_estimators': 500}\n",
      "0.846 (+/-0.011) for {'criterion': 'gini', 'max_features': 5, 'min_samples_split': 8, 'n_estimators': 750}\n",
      "0.791 (+/-0.002) for {'criterion': 'entropy', 'max_features': 2, 'min_samples_split': 2, 'n_estimators': 500}\n",
      "0.784 (+/-0.010) for {'criterion': 'entropy', 'max_features': 2, 'min_samples_split': 2, 'n_estimators': 750}\n",
      "0.790 (+/-0.008) for {'criterion': 'entropy', 'max_features': 2, 'min_samples_split': 4, 'n_estimators': 500}\n",
      "0.801 (+/-0.007) for {'criterion': 'entropy', 'max_features': 2, 'min_samples_split': 4, 'n_estimators': 750}\n",
      "0.794 (+/-0.015) for {'criterion': 'entropy', 'max_features': 2, 'min_samples_split': 6, 'n_estimators': 500}\n",
      "0.801 (+/-0.008) for {'criterion': 'entropy', 'max_features': 2, 'min_samples_split': 6, 'n_estimators': 750}\n",
      "0.792 (+/-0.012) for {'criterion': 'entropy', 'max_features': 2, 'min_samples_split': 8, 'n_estimators': 500}\n",
      "0.812 (+/-0.006) for {'criterion': 'entropy', 'max_features': 2, 'min_samples_split': 8, 'n_estimators': 750}\n",
      "0.807 (+/-0.009) for {'criterion': 'entropy', 'max_features': 3, 'min_samples_split': 2, 'n_estimators': 500}\n",
      "0.825 (+/-0.011) for {'criterion': 'entropy', 'max_features': 3, 'min_samples_split': 2, 'n_estimators': 750}\n",
      "0.810 (+/-0.008) for {'criterion': 'entropy', 'max_features': 3, 'min_samples_split': 4, 'n_estimators': 500}\n",
      "0.809 (+/-0.013) for {'criterion': 'entropy', 'max_features': 3, 'min_samples_split': 4, 'n_estimators': 750}\n",
      "0.814 (+/-0.005) for {'criterion': 'entropy', 'max_features': 3, 'min_samples_split': 6, 'n_estimators': 500}\n",
      "0.819 (+/-0.009) for {'criterion': 'entropy', 'max_features': 3, 'min_samples_split': 6, 'n_estimators': 750}\n",
      "0.815 (+/-0.011) for {'criterion': 'entropy', 'max_features': 3, 'min_samples_split': 8, 'n_estimators': 500}\n",
      "0.828 (+/-0.006) for {'criterion': 'entropy', 'max_features': 3, 'min_samples_split': 8, 'n_estimators': 750}\n",
      "0.831 (+/-0.008) for {'criterion': 'entropy', 'max_features': 4, 'min_samples_split': 2, 'n_estimators': 500}\n",
      "0.834 (+/-0.009) for {'criterion': 'entropy', 'max_features': 4, 'min_samples_split': 2, 'n_estimators': 750}\n",
      "0.817 (+/-0.010) for {'criterion': 'entropy', 'max_features': 4, 'min_samples_split': 4, 'n_estimators': 500}\n",
      "0.838 (+/-0.006) for {'criterion': 'entropy', 'max_features': 4, 'min_samples_split': 4, 'n_estimators': 750}\n",
      "0.833 (+/-0.006) for {'criterion': 'entropy', 'max_features': 4, 'min_samples_split': 6, 'n_estimators': 500}\n",
      "0.826 (+/-0.006) for {'criterion': 'entropy', 'max_features': 4, 'min_samples_split': 6, 'n_estimators': 750}\n",
      "0.824 (+/-0.002) for {'criterion': 'entropy', 'max_features': 4, 'min_samples_split': 8, 'n_estimators': 500}\n",
      "0.842 (+/-0.004) for {'criterion': 'entropy', 'max_features': 4, 'min_samples_split': 8, 'n_estimators': 750}\n",
      "0.849 (+/-0.011) for {'criterion': 'entropy', 'max_features': 5, 'min_samples_split': 2, 'n_estimators': 500}\n",
      "0.836 (+/-0.012) for {'criterion': 'entropy', 'max_features': 5, 'min_samples_split': 2, 'n_estimators': 750}\n",
      "0.842 (+/-0.010) for {'criterion': 'entropy', 'max_features': 5, 'min_samples_split': 4, 'n_estimators': 500}\n",
      "0.847 (+/-0.007) for {'criterion': 'entropy', 'max_features': 5, 'min_samples_split': 4, 'n_estimators': 750}\n",
      "0.830 (+/-0.006) for {'criterion': 'entropy', 'max_features': 5, 'min_samples_split': 6, 'n_estimators': 500}\n",
      "0.844 (+/-0.009) for {'criterion': 'entropy', 'max_features': 5, 'min_samples_split': 6, 'n_estimators': 750}\n",
      "0.842 (+/-0.011) for {'criterion': 'entropy', 'max_features': 5, 'min_samples_split': 8, 'n_estimators': 500}\n",
      "0.839 (+/-0.008) for {'criterion': 'entropy', 'max_features': 5, 'min_samples_split': 8, 'n_estimators': 750}\n",
      "Detailed classification report:\n",
      "The model is trained on the full development set.\n",
      "The scores are computed on the full evaluation set.\n",
      "             precision    recall  f1-score   support\n",
      "\n",
      "      False       0.89      0.80      0.84        83\n",
      "       True       0.80      0.90      0.85        77\n",
      "\n",
      "avg / total       0.85      0.84      0.84       160\n",
      "\n",
      "\n",
      "# Tuning hyper-parameters for precision\n",
      "\n",
      "Best parameters set found on development set:\n",
      "\n",
      "RandomForestClassifier(bootstrap=True, class_weight='auto', criterion='gini',\n",
      "            max_depth=None, max_features=5, max_leaf_nodes=None,\n",
      "            min_impurity_split=1e-07, min_samples_leaf=1,\n",
      "            min_samples_split=6, min_weight_fraction_leaf=0.0,\n",
      "            n_estimators=750, n_jobs=-1, oob_score=False,\n",
      "            random_state=None, verbose=0, warm_start=False)\n",
      "Grid scores on development set:\n",
      "\n",
      "0.769 (+/-0.016) for {'criterion': 'gini', 'max_features': 2, 'min_samples_split': 2, 'n_estimators': 500}\n",
      "0.789 (+/-0.013) for {'criterion': 'gini', 'max_features': 2, 'min_samples_split': 2, 'n_estimators': 750}\n",
      "0.771 (+/-0.017) for {'criterion': 'gini', 'max_features': 2, 'min_samples_split': 4, 'n_estimators': 500}\n"
     ]
    },
    {
     "name": "stdout",
     "output_type": "stream",
     "text": [
      "0.775 (+/-0.010) for {'criterion': 'gini', 'max_features': 2, 'min_samples_split': 4, 'n_estimators': 750}\n",
      "0.763 (+/-0.007) for {'criterion': 'gini', 'max_features': 2, 'min_samples_split': 6, 'n_estimators': 500}\n",
      "0.786 (+/-0.004) for {'criterion': 'gini', 'max_features': 2, 'min_samples_split': 6, 'n_estimators': 750}\n",
      "0.750 (+/-0.008) for {'criterion': 'gini', 'max_features': 2, 'min_samples_split': 8, 'n_estimators': 500}\n",
      "0.793 (+/-0.020) for {'criterion': 'gini', 'max_features': 2, 'min_samples_split': 8, 'n_estimators': 750}\n",
      "0.798 (+/-0.012) for {'criterion': 'gini', 'max_features': 3, 'min_samples_split': 2, 'n_estimators': 500}\n",
      "0.811 (+/-0.009) for {'criterion': 'gini', 'max_features': 3, 'min_samples_split': 2, 'n_estimators': 750}\n",
      "0.791 (+/-0.011) for {'criterion': 'gini', 'max_features': 3, 'min_samples_split': 4, 'n_estimators': 500}\n",
      "0.804 (+/-0.011) for {'criterion': 'gini', 'max_features': 3, 'min_samples_split': 4, 'n_estimators': 750}\n",
      "0.798 (+/-0.015) for {'criterion': 'gini', 'max_features': 3, 'min_samples_split': 6, 'n_estimators': 500}\n",
      "0.810 (+/-0.015) for {'criterion': 'gini', 'max_features': 3, 'min_samples_split': 6, 'n_estimators': 750}\n",
      "0.792 (+/-0.008) for {'criterion': 'gini', 'max_features': 3, 'min_samples_split': 8, 'n_estimators': 500}\n",
      "0.813 (+/-0.005) for {'criterion': 'gini', 'max_features': 3, 'min_samples_split': 8, 'n_estimators': 750}\n",
      "0.819 (+/-0.010) for {'criterion': 'gini', 'max_features': 4, 'min_samples_split': 2, 'n_estimators': 500}\n",
      "0.809 (+/-0.011) for {'criterion': 'gini', 'max_features': 4, 'min_samples_split': 2, 'n_estimators': 750}\n",
      "0.815 (+/-0.012) for {'criterion': 'gini', 'max_features': 4, 'min_samples_split': 4, 'n_estimators': 500}\n",
      "0.823 (+/-0.016) for {'criterion': 'gini', 'max_features': 4, 'min_samples_split': 4, 'n_estimators': 750}\n",
      "0.813 (+/-0.004) for {'criterion': 'gini', 'max_features': 4, 'min_samples_split': 6, 'n_estimators': 500}\n",
      "0.803 (+/-0.015) for {'criterion': 'gini', 'max_features': 4, 'min_samples_split': 6, 'n_estimators': 750}\n",
      "0.807 (+/-0.007) for {'criterion': 'gini', 'max_features': 4, 'min_samples_split': 8, 'n_estimators': 500}\n",
      "0.819 (+/-0.022) for {'criterion': 'gini', 'max_features': 4, 'min_samples_split': 8, 'n_estimators': 750}\n",
      "0.827 (+/-0.013) for {'criterion': 'gini', 'max_features': 5, 'min_samples_split': 2, 'n_estimators': 500}\n",
      "0.816 (+/-0.011) for {'criterion': 'gini', 'max_features': 5, 'min_samples_split': 2, 'n_estimators': 750}\n",
      "0.826 (+/-0.008) for {'criterion': 'gini', 'max_features': 5, 'min_samples_split': 4, 'n_estimators': 500}\n",
      "0.823 (+/-0.014) for {'criterion': 'gini', 'max_features': 5, 'min_samples_split': 4, 'n_estimators': 750}\n",
      "0.815 (+/-0.015) for {'criterion': 'gini', 'max_features': 5, 'min_samples_split': 6, 'n_estimators': 500}\n",
      "0.836 (+/-0.010) for {'criterion': 'gini', 'max_features': 5, 'min_samples_split': 6, 'n_estimators': 750}\n",
      "0.833 (+/-0.012) for {'criterion': 'gini', 'max_features': 5, 'min_samples_split': 8, 'n_estimators': 500}\n",
      "0.829 (+/-0.014) for {'criterion': 'gini', 'max_features': 5, 'min_samples_split': 8, 'n_estimators': 750}\n",
      "0.759 (+/-0.010) for {'criterion': 'entropy', 'max_features': 2, 'min_samples_split': 2, 'n_estimators': 500}\n",
      "0.788 (+/-0.021) for {'criterion': 'entropy', 'max_features': 2, 'min_samples_split': 2, 'n_estimators': 750}\n",
      "0.779 (+/-0.018) for {'criterion': 'entropy', 'max_features': 2, 'min_samples_split': 4, 'n_estimators': 500}\n",
      "0.785 (+/-0.013) for {'criterion': 'entropy', 'max_features': 2, 'min_samples_split': 4, 'n_estimators': 750}\n",
      "0.806 (+/-0.010) for {'criterion': 'entropy', 'max_features': 2, 'min_samples_split': 6, 'n_estimators': 500}\n",
      "0.786 (+/-0.006) for {'criterion': 'entropy', 'max_features': 2, 'min_samples_split': 6, 'n_estimators': 750}\n",
      "0.774 (+/-0.012) for {'criterion': 'entropy', 'max_features': 2, 'min_samples_split': 8, 'n_estimators': 500}\n",
      "0.794 (+/-0.021) for {'criterion': 'entropy', 'max_features': 2, 'min_samples_split': 8, 'n_estimators': 750}\n",
      "0.784 (+/-0.015) for {'criterion': 'entropy', 'max_features': 3, 'min_samples_split': 2, 'n_estimators': 500}\n",
      "0.804 (+/-0.008) for {'criterion': 'entropy', 'max_features': 3, 'min_samples_split': 2, 'n_estimators': 750}\n",
      "0.813 (+/-0.011) for {'criterion': 'entropy', 'max_features': 3, 'min_samples_split': 4, 'n_estimators': 500}\n",
      "0.816 (+/-0.006) for {'criterion': 'entropy', 'max_features': 3, 'min_samples_split': 4, 'n_estimators': 750}\n",
      "0.792 (+/-0.015) for {'criterion': 'entropy', 'max_features': 3, 'min_samples_split': 6, 'n_estimators': 500}\n",
      "0.815 (+/-0.012) for {'criterion': 'entropy', 'max_features': 3, 'min_samples_split': 6, 'n_estimators': 750}\n",
      "0.808 (+/-0.018) for {'criterion': 'entropy', 'max_features': 3, 'min_samples_split': 8, 'n_estimators': 500}\n",
      "0.800 (+/-0.008) for {'criterion': 'entropy', 'max_features': 3, 'min_samples_split': 8, 'n_estimators': 750}\n",
      "0.825 (+/-0.014) for {'criterion': 'entropy', 'max_features': 4, 'min_samples_split': 2, 'n_estimators': 500}\n",
      "0.817 (+/-0.010) for {'criterion': 'entropy', 'max_features': 4, 'min_samples_split': 2, 'n_estimators': 750}\n",
      "0.809 (+/-0.017) for {'criterion': 'entropy', 'max_features': 4, 'min_samples_split': 4, 'n_estimators': 500}\n",
      "0.813 (+/-0.011) for {'criterion': 'entropy', 'max_features': 4, 'min_samples_split': 4, 'n_estimators': 750}\n",
      "0.811 (+/-0.016) for {'criterion': 'entropy', 'max_features': 4, 'min_samples_split': 6, 'n_estimators': 500}\n",
      "0.820 (+/-0.014) for {'criterion': 'entropy', 'max_features': 4, 'min_samples_split': 6, 'n_estimators': 750}\n",
      "0.824 (+/-0.012) for {'criterion': 'entropy', 'max_features': 4, 'min_samples_split': 8, 'n_estimators': 500}\n",
      "0.815 (+/-0.015) for {'criterion': 'entropy', 'max_features': 4, 'min_samples_split': 8, 'n_estimators': 750}\n",
      "0.820 (+/-0.014) for {'criterion': 'entropy', 'max_features': 5, 'min_samples_split': 2, 'n_estimators': 500}\n",
      "0.832 (+/-0.016) for {'criterion': 'entropy', 'max_features': 5, 'min_samples_split': 2, 'n_estimators': 750}\n",
      "0.831 (+/-0.015) for {'criterion': 'entropy', 'max_features': 5, 'min_samples_split': 4, 'n_estimators': 500}\n",
      "0.810 (+/-0.015) for {'criterion': 'entropy', 'max_features': 5, 'min_samples_split': 4, 'n_estimators': 750}\n",
      "0.817 (+/-0.014) for {'criterion': 'entropy', 'max_features': 5, 'min_samples_split': 6, 'n_estimators': 500}\n",
      "0.816 (+/-0.011) for {'criterion': 'entropy', 'max_features': 5, 'min_samples_split': 6, 'n_estimators': 750}\n",
      "0.823 (+/-0.007) for {'criterion': 'entropy', 'max_features': 5, 'min_samples_split': 8, 'n_estimators': 500}\n",
      "0.827 (+/-0.011) for {'criterion': 'entropy', 'max_features': 5, 'min_samples_split': 8, 'n_estimators': 750}\n",
      "Detailed classification report:\n",
      "The model is trained on the full development set.\n",
      "The scores are computed on the full evaluation set.\n",
      "             precision    recall  f1-score   support\n",
      "\n",
      "      False       0.88      0.80      0.84        83\n",
      "       True       0.80      0.88      0.84        77\n",
      "\n",
      "avg / total       0.84      0.84      0.84       160\n",
      "\n",
      "\n"
     ]
    }
   ],
   "source": [
    "#http://scikit-learn.org/0.15/auto_examples/grid_search_digits.html\n",
    "\n",
    "# for classification, square root of # of featuyres is a good starting point. Try that value divided by 2 and 3.\n",
    "max_features = [round(numpy.sqrt(X_train.shape[1])/x) for x in [1,2,3]]\n",
    "\n",
    "tuned_parameters = [\n",
    "    {'n_estimators' : [500,750],'max_features':max_features, 'criterion':['gini','entropy'], 'min_samples_split':[2,4,6,8]}]\n",
    "\n",
    "scores = ['recall', 'accuracy', 'precision']\n",
    "\n",
    "for score in scores:\n",
    "    print(\"# Tuning hyper-parameters for %s\" % score)\n",
    "    print()\n",
    "    clf = GridSearchCV(RandomForestClassifier(class_weight='auto', n_jobs=-1), tuned_parameters, cv=5, scoring=score)\n",
    "    clf.fit(X_train, Y_train)\n",
    "    print(\"Best parameters set found on development set:\")\n",
    "    print()\n",
    "    print(clf.best_estimator_)\n",
    "    \n",
    "    print(\"Grid scores on development set:\")\n",
    "    print()\n",
    "    for params, mean_score, scores in clf.grid_scores_:\n",
    "        print(\"%0.3f (+/-%0.03f) for %r\"\n",
    "              % (mean_score, scores.std() / 2, params))\n",
    "    print(\"Detailed classification report:\")\n",
    "    print(\"The model is trained on the full development set.\")\n",
    "    print(\"The scores are computed on the full evaluation set.\")\n",
    "    y_true, y_pred = Y_test, clf.predict(X_test)\n",
    "    print(classification_report(y_true, y_pred))\n",
    "    print()"
   ]
  },
  {
   "cell_type": "markdown",
   "metadata": {},
   "source": [
    "#### Show the best estimator for Precision\n",
    "Based on tuning procedure above, the best estimator for precision is what's shown below:"
   ]
  },
  {
   "cell_type": "code",
   "execution_count": 77,
   "metadata": {},
   "outputs": [
    {
     "data": {
      "text/plain": [
       "RandomForestClassifier(bootstrap=True, class_weight='auto', criterion='gini',\n",
       "            max_depth=None, max_features=5, max_leaf_nodes=None,\n",
       "            min_impurity_split=1e-07, min_samples_leaf=1,\n",
       "            min_samples_split=6, min_weight_fraction_leaf=0.0,\n",
       "            n_estimators=750, n_jobs=-1, oob_score=False,\n",
       "            random_state=None, verbose=0, warm_start=False)"
      ]
     },
     "execution_count": 77,
     "metadata": {},
     "output_type": "execute_result"
    }
   ],
   "source": [
    "clf.best_estimator_"
   ]
  },
  {
   "cell_type": "markdown",
   "metadata": {},
   "source": [
    "# 6. Results\n",
    "\n",
    "From results above, a tuned random forest model on feature set 3 (all variables) out performs a Linear Discriminant Model on features set 2.\n",
    "\n",
    "#### Winning Random Forest Model based on Precision\n"
   ]
  },
  {
   "cell_type": "code",
   "execution_count": 191,
   "metadata": {
    "scrolled": true
   },
   "outputs": [
    {
     "name": "stdout",
     "output_type": "stream",
     "text": [
      "             precision    recall  f1-score   support\n",
      "\n",
      "      False       0.88      0.80      0.84        83\n",
      "       True       0.80      0.88      0.84        77\n",
      "\n",
      "avg / total       0.84      0.84      0.84       160\n",
      "\n"
     ]
    }
   ],
   "source": [
    "pandas.crosstab(clf.best_estimator_.predict(X_test),Y_test)\n",
    "print(classification_report(y_true=Y_test, y_pred=clf.predict(X_test)))"
   ]
  },
  {
   "cell_type": "markdown",
   "metadata": {},
   "source": [
    "#### Show Feature Importance\n",
    "Based on tuning procedure above, the best estimator for accuracy and precision is what's shown below:"
   ]
  },
  {
   "cell_type": "code",
   "execution_count": 139,
   "metadata": {
    "collapsed": true,
    "scrolled": false
   },
   "outputs": [],
   "source": [
    "# set this to display the # of float places\n",
    "pandas.set_option('display.float_format', lambda x: '%.6f' % x)\n",
    "\n",
    "# extract best classifer for precision\n",
    "importance = clf.best_estimator_.feature_importances_\n",
    "# extract \n",
    "importance = clf.best_estimator_.feature_importances_\n",
    "importance = pandas.DataFrame(\n",
    "    importance,\n",
    "    index=X_train.columns, \n",
    "    columns=[\"Importance\"])\n",
    "# For each of the 750 Trees in forest, extract estimators to creator std deviaton\n",
    "importance[\"Std\"] = numpy.std(\n",
    "    [tree.feature_importances_\n",
    "     for tree in clf.best_estimator_.estimators_], axis=0)\n",
    "importance = importance.sort_values('Importance', ascending=False)"
   ]
  },
  {
   "cell_type": "code",
   "execution_count": 158,
   "metadata": {
    "scrolled": false
   },
   "outputs": [
    {
     "data": {
      "image/png": "[encoded data removed]",
      "text/plain": [
       "<matplotlib.figure.Figure at 0x2829751f4e0>"
      ]
     },
     "metadata": {},
     "output_type": "display_data"
    }
   ],
   "source": [
    "to_plot = importance.head(25)\n",
    "x = range(to_plot.shape[0])\n",
    "y = to_plot.ix[:, 0]\n",
    "yerr = to_plot.ix[:, 1]\n",
    "pyplot.bar(x, y, yerr=yerr, align=\"center\")\n",
    "pyplot.show()"
   ]
  },
  {
   "cell_type": "code",
   "execution_count": 162,
   "metadata": {
    "scrolled": false
   },
   "outputs": [
    {
     "data": {
      "text/html": [
       "<div>\n",
       "<table border=\"1\" class=\"dataframe\">\n",
       "  <thead>\n",
       "    <tr style=\"text-align: right;\">\n",
       "      <th></th>\n",
       "      <th>Importance</th>\n",
       "      <th>Std</th>\n",
       "    </tr>\n",
       "  </thead>\n",
       "  <tbody>\n",
       "    <tr>\n",
       "      <th>2</th>\n",
       "      <td>0.067213</td>\n",
       "      <td>0.099682</td>\n",
       "    </tr>\n",
       "    <tr>\n",
       "      <th>3</th>\n",
       "      <td>0.009970</td>\n",
       "      <td>0.014229</td>\n",
       "    </tr>\n",
       "    <tr>\n",
       "      <th>6</th>\n",
       "      <td>0.009903</td>\n",
       "      <td>0.014772</td>\n",
       "    </tr>\n",
       "    <tr>\n",
       "      <th>4</th>\n",
       "      <td>0.008150</td>\n",
       "      <td>0.012524</td>\n",
       "    </tr>\n",
       "    <tr>\n",
       "      <th>12</th>\n",
       "      <td>0.006933</td>\n",
       "      <td>0.010098</td>\n",
       "    </tr>\n",
       "    <tr>\n",
       "      <th>15</th>\n",
       "      <td>0.006505</td>\n",
       "      <td>0.010319</td>\n",
       "    </tr>\n",
       "    <tr>\n",
       "      <th>punct_ct</th>\n",
       "      <td>0.006094</td>\n",
       "      <td>0.009489</td>\n",
       "    </tr>\n",
       "    <tr>\n",
       "      <th>1</th>\n",
       "      <td>0.005517</td>\n",
       "      <td>0.008539</td>\n",
       "    </tr>\n",
       "    <tr>\n",
       "      <th>21</th>\n",
       "      <td>0.005031</td>\n",
       "      <td>0.007966</td>\n",
       "    </tr>\n",
       "    <tr>\n",
       "      <th>5</th>\n",
       "      <td>0.004517</td>\n",
       "      <td>0.007037</td>\n",
       "    </tr>\n",
       "    <tr>\n",
       "      <th>hotel_fairmont</th>\n",
       "      <td>0.000168</td>\n",
       "      <td>0.001018</td>\n",
       "    </tr>\n",
       "    <tr>\n",
       "      <th>hotel_intercontinental</th>\n",
       "      <td>0.000165</td>\n",
       "      <td>0.001017</td>\n",
       "    </tr>\n",
       "    <tr>\n",
       "      <th>hotel_hilton</th>\n",
       "      <td>0.000162</td>\n",
       "      <td>0.000866</td>\n",
       "    </tr>\n",
       "    <tr>\n",
       "      <th>hotel_james</th>\n",
       "      <td>0.000151</td>\n",
       "      <td>0.000796</td>\n",
       "    </tr>\n",
       "    <tr>\n",
       "      <th>hotel_omni</th>\n",
       "      <td>0.000147</td>\n",
       "      <td>0.000793</td>\n",
       "    </tr>\n",
       "    <tr>\n",
       "      <th>hotel_knickerbocker</th>\n",
       "      <td>0.000144</td>\n",
       "      <td>0.000714</td>\n",
       "    </tr>\n",
       "    <tr>\n",
       "      <th>hotel_allegro</th>\n",
       "      <td>0.000142</td>\n",
       "      <td>0.000790</td>\n",
       "    </tr>\n",
       "    <tr>\n",
       "      <th>hotel_ambassador</th>\n",
       "      <td>0.000142</td>\n",
       "      <td>0.000759</td>\n",
       "    </tr>\n",
       "    <tr>\n",
       "      <th>hotel_sofitel</th>\n",
       "      <td>0.000134</td>\n",
       "      <td>0.000869</td>\n",
       "    </tr>\n",
       "    <tr>\n",
       "      <th>hotel_swissotel</th>\n",
       "      <td>0.000134</td>\n",
       "      <td>0.000714</td>\n",
       "    </tr>\n",
       "  </tbody>\n",
       "</table>\n",
       "</div>"
      ],
      "text/plain": [
       "                        Importance      Std\n",
       "2                         0.067213 0.099682\n",
       "3                         0.009970 0.014229\n",
       "6                         0.009903 0.014772\n",
       "4                         0.008150 0.012524\n",
       "12                        0.006933 0.010098\n",
       "15                        0.006505 0.010319\n",
       "punct_ct                  0.006094 0.009489\n",
       "1                         0.005517 0.008539\n",
       "21                        0.005031 0.007966\n",
       "5                         0.004517 0.007037\n",
       "hotel_fairmont            0.000168 0.001018\n",
       "hotel_intercontinental    0.000165 0.001017\n",
       "hotel_hilton              0.000162 0.000866\n",
       "hotel_james               0.000151 0.000796\n",
       "hotel_omni                0.000147 0.000793\n",
       "hotel_knickerbocker       0.000144 0.000714\n",
       "hotel_allegro             0.000142 0.000790\n",
       "hotel_ambassador          0.000142 0.000759\n",
       "hotel_sofitel             0.000134 0.000869\n",
       "hotel_swissotel           0.000134 0.000714"
      ]
     },
     "execution_count": 162,
     "metadata": {},
     "output_type": "execute_result"
    }
   ],
   "source": [
    "importance.head(10).append(importance.tail(10))"
   ]
  },
  {
   "cell_type": "markdown",
   "metadata": {},
   "source": [
    "#### The most important topics\n",
    "\n",
    "These words are the most meaningful when it comes to predicting deceptiveness."
   ]
  },
  {
   "cell_type": "code",
   "execution_count": 377,
   "metadata": {},
   "outputs": [
    {
     "data": {
      "text/html": [
       "<div>\n",
       "<table border=\"1\" class=\"dataframe\">\n",
       "  <thead>\n",
       "    <tr style=\"text-align: right;\">\n",
       "      <th></th>\n",
       "      <th>Word</th>\n",
       "      <th>Weight</th>\n",
       "      <th>topic</th>\n",
       "    </tr>\n",
       "  </thead>\n",
       "  <tbody>\n",
       "    <tr>\n",
       "      <th>0</th>\n",
       "      <td>'</td>\n",
       "      <td>-0.220435</td>\n",
       "      <td>2</td>\n",
       "    </tr>\n",
       "    <tr>\n",
       "      <th>1</th>\n",
       "      <td>great</td>\n",
       "      <td>0.174719</td>\n",
       "      <td>2</td>\n",
       "    </tr>\n",
       "    <tr>\n",
       "      <th>2</th>\n",
       "      <td>comfortable</td>\n",
       "      <td>0.129017</td>\n",
       "      <td>2</td>\n",
       "    </tr>\n",
       "    <tr>\n",
       "      <th>3</th>\n",
       "      <td>beautiful</td>\n",
       "      <td>0.116217</td>\n",
       "      <td>2</td>\n",
       "    </tr>\n",
       "    <tr>\n",
       "      <th>4</th>\n",
       "      <td>enjoyed</td>\n",
       "      <td>0.113881</td>\n",
       "      <td>2</td>\n",
       "    </tr>\n",
       "    <tr>\n",
       "      <th>5</th>\n",
       "      <td>definitely</td>\n",
       "      <td>0.112520</td>\n",
       "      <td>2</td>\n",
       "    </tr>\n",
       "    <tr>\n",
       "      <th>6</th>\n",
       "      <td>When</td>\n",
       "      <td>-0.110258</td>\n",
       "      <td>2</td>\n",
       "    </tr>\n",
       "    <tr>\n",
       "      <th>7</th>\n",
       "      <td>wonderful</td>\n",
       "      <td>0.109318</td>\n",
       "      <td>2</td>\n",
       "    </tr>\n",
       "    <tr>\n",
       "      <th>8</th>\n",
       "      <td>called</td>\n",
       "      <td>-0.104774</td>\n",
       "      <td>2</td>\n",
       "    </tr>\n",
       "    <tr>\n",
       "      <th>9</th>\n",
       "      <td>helpful</td>\n",
       "      <td>0.104349</td>\n",
       "      <td>2</td>\n",
       "    </tr>\n",
       "    <tr>\n",
       "      <th>0</th>\n",
       "      <td>)</td>\n",
       "      <td>-0.231787</td>\n",
       "      <td>3</td>\n",
       "    </tr>\n",
       "    <tr>\n",
       "      <th>1</th>\n",
       "      <td>(</td>\n",
       "      <td>-0.222080</td>\n",
       "      <td>3</td>\n",
       "    </tr>\n",
       "    <tr>\n",
       "      <th>2</th>\n",
       "      <td>...</td>\n",
       "      <td>-0.209614</td>\n",
       "      <td>3</td>\n",
       "    </tr>\n",
       "    <tr>\n",
       "      <th>3</th>\n",
       "      <td>$</td>\n",
       "      <td>-0.204756</td>\n",
       "      <td>3</td>\n",
       "    </tr>\n",
       "    <tr>\n",
       "      <th>4</th>\n",
       "      <td>Hotel</td>\n",
       "      <td>0.144645</td>\n",
       "      <td>3</td>\n",
       "    </tr>\n",
       "    <tr>\n",
       "      <th>5</th>\n",
       "      <td>:</td>\n",
       "      <td>-0.138168</td>\n",
       "      <td>3</td>\n",
       "    </tr>\n",
       "    <tr>\n",
       "      <th>6</th>\n",
       "      <td>-</td>\n",
       "      <td>-0.128593</td>\n",
       "      <td>3</td>\n",
       "    </tr>\n",
       "    <tr>\n",
       "      <th>7</th>\n",
       "      <td>Michigan</td>\n",
       "      <td>-0.122722</td>\n",
       "      <td>3</td>\n",
       "    </tr>\n",
       "    <tr>\n",
       "      <th>8</th>\n",
       "      <td>'</td>\n",
       "      <td>-0.114381</td>\n",
       "      <td>3</td>\n",
       "    </tr>\n",
       "    <tr>\n",
       "      <th>9</th>\n",
       "      <td>/</td>\n",
       "      <td>-0.102856</td>\n",
       "      <td>3</td>\n",
       "    </tr>\n",
       "    <tr>\n",
       "      <th>0</th>\n",
       "      <td>!</td>\n",
       "      <td>-0.450184</td>\n",
       "      <td>6</td>\n",
       "    </tr>\n",
       "    <tr>\n",
       "      <th>1</th>\n",
       "      <td>...</td>\n",
       "      <td>-0.403010</td>\n",
       "      <td>6</td>\n",
       "    </tr>\n",
       "    <tr>\n",
       "      <th>2</th>\n",
       "      <td>We</td>\n",
       "      <td>0.183113</td>\n",
       "      <td>6</td>\n",
       "    </tr>\n",
       "    <tr>\n",
       "      <th>3</th>\n",
       "      <td>'</td>\n",
       "      <td>0.179120</td>\n",
       "      <td>6</td>\n",
       "    </tr>\n",
       "    <tr>\n",
       "      <th>4</th>\n",
       "      <td>?</td>\n",
       "      <td>-0.148561</td>\n",
       "      <td>6</td>\n",
       "    </tr>\n",
       "    <tr>\n",
       "      <th>5</th>\n",
       "      <td>*</td>\n",
       "      <td>-0.113071</td>\n",
       "      <td>6</td>\n",
       "    </tr>\n",
       "    <tr>\n",
       "      <th>6</th>\n",
       "      <td>:</td>\n",
       "      <td>-0.102240</td>\n",
       "      <td>6</td>\n",
       "    </tr>\n",
       "    <tr>\n",
       "      <th>7</th>\n",
       "      <td>....</td>\n",
       "      <td>-0.092991</td>\n",
       "      <td>6</td>\n",
       "    </tr>\n",
       "    <tr>\n",
       "      <th>8</th>\n",
       "      <td>us</td>\n",
       "      <td>0.088713</td>\n",
       "      <td>6</td>\n",
       "    </tr>\n",
       "    <tr>\n",
       "      <th>9</th>\n",
       "      <td>place</td>\n",
       "      <td>-0.086004</td>\n",
       "      <td>6</td>\n",
       "    </tr>\n",
       "  </tbody>\n",
       "</table>\n",
       "</div>"
      ],
      "text/plain": [
       "          Word    Weight  topic\n",
       "0            ' -0.220435      2\n",
       "1        great  0.174719      2\n",
       "2  comfortable  0.129017      2\n",
       "3    beautiful  0.116217      2\n",
       "4      enjoyed  0.113881      2\n",
       "5   definitely  0.112520      2\n",
       "6         When -0.110258      2\n",
       "7    wonderful  0.109318      2\n",
       "8       called -0.104774      2\n",
       "9      helpful  0.104349      2\n",
       "0            ) -0.231787      3\n",
       "1            ( -0.222080      3\n",
       "2          ... -0.209614      3\n",
       "3            $ -0.204756      3\n",
       "4        Hotel  0.144645      3\n",
       "5            : -0.138168      3\n",
       "6            - -0.128593      3\n",
       "7     Michigan -0.122722      3\n",
       "8            ' -0.114381      3\n",
       "9            / -0.102856      3\n",
       "0            ! -0.450184      6\n",
       "1          ... -0.403010      6\n",
       "2           We  0.183113      6\n",
       "3            '  0.179120      6\n",
       "4            ? -0.148561      6\n",
       "5            * -0.113071      6\n",
       "6            : -0.102240      6\n",
       "7         .... -0.092991      6\n",
       "8           us  0.088713      6\n",
       "9        place -0.086004      6"
      ]
     },
     "execution_count": 377,
     "metadata": {},
     "output_type": "execute_result"
    }
   ],
   "source": [
    "selection = importance.head(3).index\n",
    "x = []\n",
    "for z in selection:\n",
    "    data = pandas.DataFrame(built[3].show_topic(z-1), columns = ['Word','Weight'])\n",
    "    data['topic'] = z\n",
    "    x.append(data)\n",
    "x = pandas.concat(x, axis=0)\n",
    "x"
   ]
  },
  {
   "cell_type": "markdown",
   "metadata": {},
   "source": [
    "#### Distribution of Punctuation\n",
    "Punctuation Count is the 7th most important indicator of whether a review is deceptive or genuine.\n",
    "\n",
    "The graphic below shows us that \"Deceptive\" reviews generally has a lower count of punctuations per review."
   ]
  },
  {
   "cell_type": "code",
   "execution_count": 408,
   "metadata": {},
   "outputs": [
    {
     "data": {
      "text/plain": [
       "<matplotlib.axes._subplots.AxesSubplot at 0x28297561588>"
      ]
     },
     "execution_count": 408,
     "metadata": {},
     "output_type": "execute_result"
    },
    {
     "data": {
      "image/png": "[encoded data removed]",
      "text/plain": [
       "<matplotlib.figure.Figure at 0x28296f6f0b8>"
      ]
     },
     "metadata": {},
     "output_type": "display_data"
    }
   ],
   "source": [
    "truthful = data_nlp[data_nlp.deceptive == \"truthful\"]\n",
    "truthful['Truthful'] = truthful['punct_ct']\n",
    "\n",
    "deceptive = data_nlp[data_nlp.deceptive != \"truthful\"]\n",
    "deceptive['Deceptive'] = deceptive['punct_ct']\n",
    "\n",
    "truthful['Truthful'].plot(legend = True, kind = 'hist')\n",
    "deceptive['Deceptive'].plot(legend = True, title = \"Punctuation Distribution\",kind = 'hist')\n"
   ]
  },
  {
   "cell_type": "markdown",
   "metadata": {},
   "source": [
    "# 7. Package Trained Model for API \n",
    "\n",
    "https://medium.com/@amirziai/a-flask-api-for-serving-scikit-learn-models-c8bcdaa41daa\n",
    "\n",
    "\"Pickle\" the following:\n",
    "- Model to be persisted\n",
    "- Transformation pipeline for a \"text\" review\n",
    "- Support dataframe in the case that input variables into api are missing. For example: a default variable for x,y,z\n"
   ]
  },
  {
   "cell_type": "code",
   "execution_count": 217,
   "metadata": {},
   "outputs": [],
   "source": [
    "# model\n",
    "joblib.dump(clf.best_estimator_, 'rf_opinion_model.pkl')\n",
    "# transformation\n",
    "# support file\n",
    "placeholder_inputs = X_test.iloc[0:1,:]"
   ]
  }
 ],
 "metadata": {
  "kernelspec": {
   "display_name": "Python 3",
   "language": "python",
   "name": "python3"
  },
  "language_info": {
   "codemirror_mode": {
    "name": "ipython",
    "version": 3
   },
   "file_extension": ".py",
   "mimetype": "text/x-python",
   "name": "python",
   "nbconvert_exporter": "python",
   "pygments_lexer": "ipython3",
   "version": "3.6.0"
  }
 },
 "nbformat": 4,
 "nbformat_minor": 2
}
