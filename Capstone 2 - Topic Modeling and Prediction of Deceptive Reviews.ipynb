{
 "cells": [
  {
   "cell_type": "markdown",
   "metadata": {},
   "source": [
    "# Overview\n",
    "\n",
    "The purpose of this jupyter notebook is to outline a the problem, approach, and outcomes associated with the detection of \"truthful\" and \"deceptive\" hotel reviews that a typical hotel review aggregator (or some sort of similar service) would come across as important to business operations.\n",
    "\n",
    "This notebook is structured in the following manner:\n",
    "0. **Motivation**: The problem, and why it is important\n",
    "1. **Setting up**: Tools, models, Data utilized\n",
    "2. **Description**: A description of the data\n",
    "3. **Data transformation**: Steps that facilitate the detection stage\n",
    "4. **Classification and Tuning**: The actual dete\n",
    "5. **Results**"
   ]
  },
  {
   "cell_type": "markdown",
   "metadata": {},
   "source": [
    "## 1. Motivation\n",
    "\n",
    "The problem of detecting truthful versus deceptive content is an important focus in many areas including spam detection, consumer-facing information about businesses, and even political information in democratic societies (fake news). \n",
    "\n",
    "The purpose of this project focuses on consumer-facing information. Given a data set of about 1600 hotel reviews, where 800 are truthful (pulled from sources such as Trip Advisor), and 800 are deceptive (Generated using Amazon's Mechanical Turk -- a market place for tasks requiring human intelligence), this notebook seeks to detect deceptive reviews by using latent semantic indexing and machine learning. "
   ]
  },
  {
   "cell_type": "markdown",
   "metadata": {},
   "source": [
    "## 2. Setting Up"
   ]
  },
  {
   "cell_type": "code",
   "execution_count": 1,
   "metadata": {
    "scrolled": true
   },
   "outputs": [
    {
     "name": "stderr",
     "output_type": "stream",
     "text": [
      "C:\\Users\\Chris\\Anaconda3\\lib\\site-packages\\gensim\\utils.py:865: UserWarning: detected Windows; aliasing chunkize to chunkize_serial\n",
      "  warnings.warn(\"detected Windows; aliasing chunkize to chunkize_serial\")\n",
      "C:\\Users\\Chris\\Anaconda3\\lib\\site-packages\\sklearn\\lda.py:6: DeprecationWarning: lda.LDA has been moved to discriminant_analysis.LinearDiscriminantAnalysis in 0.17 and will be removed in 0.19\n",
      "  \"in 0.17 and will be removed in 0.19\", DeprecationWarning)\n"
     ]
    }
   ],
   "source": [
    "# General Data Manipulation\n",
    "import pandas\n",
    "import numpy\n",
    "import re\n",
    "\n",
    "# Feature Engineering, Descriptives\n",
    "from scipy.stats import ttest_ind\n",
    "from nltk.corpus import stopwords\n",
    "from collections import defaultdict\n",
    "\n",
    "# NLP Modules\n",
    "import gensim \n",
    "import spacy\n",
    "\n",
    "# Supervised Learning Modules\n",
    "from sklearn.lda import LDA \n",
    "from sklearn.model_selection import GridSearchCV\n",
    "from sklearn.model_selection import KFold\n",
    "from sklearn.metrics import classification_report\n",
    "\n",
    "from sklearn import model_selection\n",
    "from sklearn.linear_model import LogisticRegression\n",
    "from sklearn.tree import DecisionTreeClassifier\n",
    "from sklearn.neighbors import KNeighborsClassifier\n",
    "from sklearn.discriminant_analysis import LinearDiscriminantAnalysis\n",
    "from sklearn.naive_bayes import GaussianNB\n",
    "from sklearn.svm import SVC\n",
    "from sklearn.ensemble import RandomForestClassifier\n",
    "\n",
    "# Package Results\n",
    "from sklearn.externals import joblib\n",
    "\n",
    "# Plotting\n",
    "from matplotlib import pyplot\n",
    "%matplotlib inline\n",
    "\n",
    "# Read Data\n",
    "data_in = pandas.read_csv('deceptive-opinion.csv')\n",
    "stop = set(stopwords.words('english'))\n",
    "\n",
    "import warnings\n",
    "warnings.filterwarnings('ignore')"
   ]
  },
  {
   "cell_type": "markdown",
   "metadata": {},
   "source": [
    "## 3. Description of Data\n",
    "\n",
    "    A. Show the top 5 and bottom 5 records.\n",
    "    B. Pivot table on categorical labels, and count.\n",
    "    C. Barplot data\n",
    "    D. Hypothesis testing"
   ]
  },
  {
   "cell_type": "markdown",
   "metadata": {},
   "source": [
    "### A. Head / Tail of Data"
   ]
  },
  {
   "cell_type": "code",
   "execution_count": 2,
   "metadata": {
    "scrolled": true
   },
   "outputs": [
    {
     "data": {
      "text/html": [
       "<div>\n",
       "<style>\n",
       "    .dataframe thead tr:only-child th {\n",
       "        text-align: right;\n",
       "    }\n",
       "\n",
       "    .dataframe thead th {\n",
       "        text-align: left;\n",
       "    }\n",
       "\n",
       "    .dataframe tbody tr th {\n",
       "        vertical-align: top;\n",
       "    }\n",
       "</style>\n",
       "<table border=\"1\" class=\"dataframe\">\n",
       "  <thead>\n",
       "    <tr style=\"text-align: right;\">\n",
       "      <th></th>\n",
       "      <th>deceptive</th>\n",
       "      <th>hotel</th>\n",
       "      <th>polarity</th>\n",
       "      <th>source</th>\n",
       "      <th>text</th>\n",
       "    </tr>\n",
       "  </thead>\n",
       "  <tbody>\n",
       "    <tr>\n",
       "      <th>0</th>\n",
       "      <td>truthful</td>\n",
       "      <td>conrad</td>\n",
       "      <td>positive</td>\n",
       "      <td>TripAdvisor</td>\n",
       "      <td>We stayed for a one night getaway with family ...</td>\n",
       "    </tr>\n",
       "    <tr>\n",
       "      <th>1</th>\n",
       "      <td>truthful</td>\n",
       "      <td>hyatt</td>\n",
       "      <td>positive</td>\n",
       "      <td>TripAdvisor</td>\n",
       "      <td>Triple A rate with upgrade to view room was le...</td>\n",
       "    </tr>\n",
       "    <tr>\n",
       "      <th>2</th>\n",
       "      <td>truthful</td>\n",
       "      <td>hyatt</td>\n",
       "      <td>positive</td>\n",
       "      <td>TripAdvisor</td>\n",
       "      <td>This comes a little late as I'm finally catchi...</td>\n",
       "    </tr>\n",
       "    <tr>\n",
       "      <th>1597</th>\n",
       "      <td>deceptive</td>\n",
       "      <td>intercontinental</td>\n",
       "      <td>negative</td>\n",
       "      <td>MTurk</td>\n",
       "      <td>The Intercontinental Chicago Magnificent Mile ...</td>\n",
       "    </tr>\n",
       "    <tr>\n",
       "      <th>1598</th>\n",
       "      <td>deceptive</td>\n",
       "      <td>palmer</td>\n",
       "      <td>negative</td>\n",
       "      <td>MTurk</td>\n",
       "      <td>The Palmer House Hilton, while it looks good i...</td>\n",
       "    </tr>\n",
       "    <tr>\n",
       "      <th>1599</th>\n",
       "      <td>deceptive</td>\n",
       "      <td>amalfi</td>\n",
       "      <td>negative</td>\n",
       "      <td>MTurk</td>\n",
       "      <td>As a former Chicagoan, I'm appalled at the Ama...</td>\n",
       "    </tr>\n",
       "  </tbody>\n",
       "</table>\n",
       "</div>"
      ],
      "text/plain": [
       "      deceptive             hotel  polarity       source  \\\n",
       "0      truthful            conrad  positive  TripAdvisor   \n",
       "1      truthful             hyatt  positive  TripAdvisor   \n",
       "2      truthful             hyatt  positive  TripAdvisor   \n",
       "1597  deceptive  intercontinental  negative        MTurk   \n",
       "1598  deceptive            palmer  negative        MTurk   \n",
       "1599  deceptive            amalfi  negative        MTurk   \n",
       "\n",
       "                                                   text  \n",
       "0     We stayed for a one night getaway with family ...  \n",
       "1     Triple A rate with upgrade to view room was le...  \n",
       "2     This comes a little late as I'm finally catchi...  \n",
       "1597  The Intercontinental Chicago Magnificent Mile ...  \n",
       "1598  The Palmer House Hilton, while it looks good i...  \n",
       "1599  As a former Chicagoan, I'm appalled at the Ama...  "
      ]
     },
     "execution_count": 2,
     "metadata": {},
     "output_type": "execute_result"
    }
   ],
   "source": [
    "data_in.head(3).append(data_in.tail(3))"
   ]
  },
  {
   "cell_type": "markdown",
   "metadata": {},
   "source": [
    "### B. Pivot Table by Categories"
   ]
  },
  {
   "cell_type": "code",
   "execution_count": 3,
   "metadata": {},
   "outputs": [
    {
     "data": {
      "text/html": [
       "<div>\n",
       "<style>\n",
       "    .dataframe thead tr:only-child th {\n",
       "        text-align: right;\n",
       "    }\n",
       "\n",
       "    .dataframe thead th {\n",
       "        text-align: left;\n",
       "    }\n",
       "\n",
       "    .dataframe tbody tr th {\n",
       "        vertical-align: top;\n",
       "    }\n",
       "</style>\n",
       "<table border=\"1\" class=\"dataframe\">\n",
       "  <thead>\n",
       "    <tr>\n",
       "      <th></th>\n",
       "      <th colspan=\"4\" halign=\"left\">source</th>\n",
       "      <th colspan=\"4\" halign=\"left\">text</th>\n",
       "    </tr>\n",
       "    <tr>\n",
       "      <th>deceptive</th>\n",
       "      <th colspan=\"2\" halign=\"left\">deceptive</th>\n",
       "      <th colspan=\"2\" halign=\"left\">truthful</th>\n",
       "      <th colspan=\"2\" halign=\"left\">deceptive</th>\n",
       "      <th colspan=\"2\" halign=\"left\">truthful</th>\n",
       "    </tr>\n",
       "    <tr>\n",
       "      <th>polarity</th>\n",
       "      <th>negative</th>\n",
       "      <th>positive</th>\n",
       "      <th>negative</th>\n",
       "      <th>positive</th>\n",
       "      <th>negative</th>\n",
       "      <th>positive</th>\n",
       "      <th>negative</th>\n",
       "      <th>positive</th>\n",
       "    </tr>\n",
       "    <tr>\n",
       "      <th>hotel</th>\n",
       "      <th></th>\n",
       "      <th></th>\n",
       "      <th></th>\n",
       "      <th></th>\n",
       "      <th></th>\n",
       "      <th></th>\n",
       "      <th></th>\n",
       "      <th></th>\n",
       "    </tr>\n",
       "  </thead>\n",
       "  <tbody>\n",
       "    <tr>\n",
       "      <th>affinia</th>\n",
       "      <td>20</td>\n",
       "      <td>20</td>\n",
       "      <td>20</td>\n",
       "      <td>20</td>\n",
       "      <td>20</td>\n",
       "      <td>20</td>\n",
       "      <td>20</td>\n",
       "      <td>20</td>\n",
       "    </tr>\n",
       "    <tr>\n",
       "      <th>allegro</th>\n",
       "      <td>20</td>\n",
       "      <td>20</td>\n",
       "      <td>20</td>\n",
       "      <td>20</td>\n",
       "      <td>20</td>\n",
       "      <td>20</td>\n",
       "      <td>20</td>\n",
       "      <td>20</td>\n",
       "    </tr>\n",
       "    <tr>\n",
       "      <th>amalfi</th>\n",
       "      <td>20</td>\n",
       "      <td>20</td>\n",
       "      <td>20</td>\n",
       "      <td>20</td>\n",
       "      <td>20</td>\n",
       "      <td>20</td>\n",
       "      <td>20</td>\n",
       "      <td>20</td>\n",
       "    </tr>\n",
       "    <tr>\n",
       "      <th>ambassador</th>\n",
       "      <td>20</td>\n",
       "      <td>20</td>\n",
       "      <td>20</td>\n",
       "      <td>20</td>\n",
       "      <td>20</td>\n",
       "      <td>20</td>\n",
       "      <td>20</td>\n",
       "      <td>20</td>\n",
       "    </tr>\n",
       "    <tr>\n",
       "      <th>conrad</th>\n",
       "      <td>20</td>\n",
       "      <td>20</td>\n",
       "      <td>20</td>\n",
       "      <td>20</td>\n",
       "      <td>20</td>\n",
       "      <td>20</td>\n",
       "      <td>20</td>\n",
       "      <td>20</td>\n",
       "    </tr>\n",
       "    <tr>\n",
       "      <th>fairmont</th>\n",
       "      <td>20</td>\n",
       "      <td>20</td>\n",
       "      <td>20</td>\n",
       "      <td>20</td>\n",
       "      <td>20</td>\n",
       "      <td>20</td>\n",
       "      <td>20</td>\n",
       "      <td>20</td>\n",
       "    </tr>\n",
       "    <tr>\n",
       "      <th>hardrock</th>\n",
       "      <td>20</td>\n",
       "      <td>20</td>\n",
       "      <td>20</td>\n",
       "      <td>20</td>\n",
       "      <td>20</td>\n",
       "      <td>20</td>\n",
       "      <td>20</td>\n",
       "      <td>20</td>\n",
       "    </tr>\n",
       "    <tr>\n",
       "      <th>hilton</th>\n",
       "      <td>20</td>\n",
       "      <td>20</td>\n",
       "      <td>20</td>\n",
       "      <td>20</td>\n",
       "      <td>20</td>\n",
       "      <td>20</td>\n",
       "      <td>20</td>\n",
       "      <td>20</td>\n",
       "    </tr>\n",
       "    <tr>\n",
       "      <th>homewood</th>\n",
       "      <td>20</td>\n",
       "      <td>20</td>\n",
       "      <td>20</td>\n",
       "      <td>20</td>\n",
       "      <td>20</td>\n",
       "      <td>20</td>\n",
       "      <td>20</td>\n",
       "      <td>20</td>\n",
       "    </tr>\n",
       "    <tr>\n",
       "      <th>hyatt</th>\n",
       "      <td>20</td>\n",
       "      <td>20</td>\n",
       "      <td>20</td>\n",
       "      <td>20</td>\n",
       "      <td>20</td>\n",
       "      <td>20</td>\n",
       "      <td>20</td>\n",
       "      <td>20</td>\n",
       "    </tr>\n",
       "    <tr>\n",
       "      <th>intercontinental</th>\n",
       "      <td>20</td>\n",
       "      <td>20</td>\n",
       "      <td>20</td>\n",
       "      <td>20</td>\n",
       "      <td>20</td>\n",
       "      <td>20</td>\n",
       "      <td>20</td>\n",
       "      <td>20</td>\n",
       "    </tr>\n",
       "    <tr>\n",
       "      <th>james</th>\n",
       "      <td>20</td>\n",
       "      <td>20</td>\n",
       "      <td>20</td>\n",
       "      <td>20</td>\n",
       "      <td>20</td>\n",
       "      <td>20</td>\n",
       "      <td>20</td>\n",
       "      <td>20</td>\n",
       "    </tr>\n",
       "    <tr>\n",
       "      <th>knickerbocker</th>\n",
       "      <td>20</td>\n",
       "      <td>20</td>\n",
       "      <td>20</td>\n",
       "      <td>20</td>\n",
       "      <td>20</td>\n",
       "      <td>20</td>\n",
       "      <td>20</td>\n",
       "      <td>20</td>\n",
       "    </tr>\n",
       "    <tr>\n",
       "      <th>monaco</th>\n",
       "      <td>20</td>\n",
       "      <td>20</td>\n",
       "      <td>20</td>\n",
       "      <td>20</td>\n",
       "      <td>20</td>\n",
       "      <td>20</td>\n",
       "      <td>20</td>\n",
       "      <td>20</td>\n",
       "    </tr>\n",
       "    <tr>\n",
       "      <th>omni</th>\n",
       "      <td>20</td>\n",
       "      <td>20</td>\n",
       "      <td>20</td>\n",
       "      <td>20</td>\n",
       "      <td>20</td>\n",
       "      <td>20</td>\n",
       "      <td>20</td>\n",
       "      <td>20</td>\n",
       "    </tr>\n",
       "    <tr>\n",
       "      <th>palmer</th>\n",
       "      <td>20</td>\n",
       "      <td>20</td>\n",
       "      <td>20</td>\n",
       "      <td>20</td>\n",
       "      <td>20</td>\n",
       "      <td>20</td>\n",
       "      <td>20</td>\n",
       "      <td>20</td>\n",
       "    </tr>\n",
       "    <tr>\n",
       "      <th>sheraton</th>\n",
       "      <td>20</td>\n",
       "      <td>20</td>\n",
       "      <td>20</td>\n",
       "      <td>20</td>\n",
       "      <td>20</td>\n",
       "      <td>20</td>\n",
       "      <td>20</td>\n",
       "      <td>20</td>\n",
       "    </tr>\n",
       "    <tr>\n",
       "      <th>sofitel</th>\n",
       "      <td>20</td>\n",
       "      <td>20</td>\n",
       "      <td>20</td>\n",
       "      <td>20</td>\n",
       "      <td>20</td>\n",
       "      <td>20</td>\n",
       "      <td>20</td>\n",
       "      <td>20</td>\n",
       "    </tr>\n",
       "    <tr>\n",
       "      <th>swissotel</th>\n",
       "      <td>20</td>\n",
       "      <td>20</td>\n",
       "      <td>20</td>\n",
       "      <td>20</td>\n",
       "      <td>20</td>\n",
       "      <td>20</td>\n",
       "      <td>20</td>\n",
       "      <td>20</td>\n",
       "    </tr>\n",
       "    <tr>\n",
       "      <th>talbott</th>\n",
       "      <td>20</td>\n",
       "      <td>20</td>\n",
       "      <td>20</td>\n",
       "      <td>20</td>\n",
       "      <td>20</td>\n",
       "      <td>20</td>\n",
       "      <td>20</td>\n",
       "      <td>20</td>\n",
       "    </tr>\n",
       "  </tbody>\n",
       "</table>\n",
       "</div>"
      ],
      "text/plain": [
       "                    source                                 text           \\\n",
       "deceptive        deceptive          truthful          deceptive            \n",
       "polarity          negative positive negative positive  negative positive   \n",
       "hotel                                                                      \n",
       "affinia                 20       20       20       20        20       20   \n",
       "allegro                 20       20       20       20        20       20   \n",
       "amalfi                  20       20       20       20        20       20   \n",
       "ambassador              20       20       20       20        20       20   \n",
       "conrad                  20       20       20       20        20       20   \n",
       "fairmont                20       20       20       20        20       20   \n",
       "hardrock                20       20       20       20        20       20   \n",
       "hilton                  20       20       20       20        20       20   \n",
       "homewood                20       20       20       20        20       20   \n",
       "hyatt                   20       20       20       20        20       20   \n",
       "intercontinental        20       20       20       20        20       20   \n",
       "james                   20       20       20       20        20       20   \n",
       "knickerbocker           20       20       20       20        20       20   \n",
       "monaco                  20       20       20       20        20       20   \n",
       "omni                    20       20       20       20        20       20   \n",
       "palmer                  20       20       20       20        20       20   \n",
       "sheraton                20       20       20       20        20       20   \n",
       "sofitel                 20       20       20       20        20       20   \n",
       "swissotel               20       20       20       20        20       20   \n",
       "talbott                 20       20       20       20        20       20   \n",
       "\n",
       "                                    \n",
       "deceptive        truthful           \n",
       "polarity         negative positive  \n",
       "hotel                               \n",
       "affinia                20       20  \n",
       "allegro                20       20  \n",
       "amalfi                 20       20  \n",
       "ambassador             20       20  \n",
       "conrad                 20       20  \n",
       "fairmont               20       20  \n",
       "hardrock               20       20  \n",
       "hilton                 20       20  \n",
       "homewood               20       20  \n",
       "hyatt                  20       20  \n",
       "intercontinental       20       20  \n",
       "james                  20       20  \n",
       "knickerbocker          20       20  \n",
       "monaco                 20       20  \n",
       "omni                   20       20  \n",
       "palmer                 20       20  \n",
       "sheraton               20       20  \n",
       "sofitel                20       20  \n",
       "swissotel              20       20  \n",
       "talbott                20       20  "
      ]
     },
     "execution_count": 3,
     "metadata": {},
     "output_type": "execute_result"
    }
   ],
   "source": [
    "data_in.pivot_table(\n",
    "    columns=['deceptive','polarity'],\n",
    "    index = ['hotel'],\n",
    "    aggfunc = len).fillna(0)"
   ]
  },
  {
   "cell_type": "markdown",
   "metadata": {},
   "source": [
    "### C. Barplot of Various Text Features\n",
    "\n",
    "From the descriptive charts below, there seems to be no difference in deceptive review length on average. On average, Positive reviews are shorter than negative."
   ]
  },
  {
   "cell_type": "code",
   "execution_count": 4,
   "metadata": {
    "collapsed": true,
    "scrolled": true
   },
   "outputs": [],
   "source": [
    "#Mean Length Funciton\n",
    "def mean_len(group, mean = True):\n",
    "    if mean == True:\n",
    "        return numpy.mean(group.text.str.len())\n",
    "    else:\n",
    "        return group.text.str.len()"
   ]
  },
  {
   "cell_type": "code",
   "execution_count": 5,
   "metadata": {
    "collapsed": true,
    "scrolled": false
   },
   "outputs": [],
   "source": [
    "a = data_in.groupby(\n",
    "    ['deceptive']).apply(\n",
    "    mean_len, mean = True)\n",
    "\n",
    "b = data_in.groupby(\n",
    "    ['polarity']).apply(\n",
    "    mean_len, mean = True)\n",
    "\n",
    "c = data_in.groupby(\n",
    "    ['deceptive','polarity']).apply(\n",
    "    mean_len, mean = True)\n",
    "\n",
    "d = data_in.groupby(\n",
    "    ['hotel','polarity']).apply(\n",
    "    mean_len, mean = True)"
   ]
  },
  {
   "cell_type": "code",
   "execution_count": 6,
   "metadata": {},
   "outputs": [
    {
     "data": {
      "text/plain": [
       "<matplotlib.axes._subplots.AxesSubplot at 0x1a971255ef0>"
      ]
     },
     "execution_count": 6,
     "metadata": {},
     "output_type": "execute_result"
    },
    {
     "data": {
      "image/png": "[encoded data removed]",
      "text/plain": [
       "<matplotlib.figure.Figure at 0x1a9710da3c8>"
      ]
     },
     "metadata": {},
     "output_type": "display_data"
    }
   ],
   "source": [
    "fig, ax =pyplot.subplots(4,1,figsize=(15,14))\n",
    "\n",
    "a.plot('bar',ax = ax[0], rot = 0 )\n",
    "\n",
    "b.plot('bar',ax = ax[1], rot = 0 )\n",
    "\n",
    "c.plot('bar',ax = ax[2], rot = 0)\n",
    "\n",
    "d.plot('bar',ax = ax[3])"
   ]
  },
  {
   "cell_type": "markdown",
   "metadata": {},
   "source": [
    "### A. Hypothesis Tests on Text Features"
   ]
  },
  {
   "cell_type": "markdown",
   "metadata": {},
   "source": [
    "From the results of hypotheses tests we cna see that:\n",
    "\n",
    "1. There is a statistically signifincant difference between positive and negative average length of words (p-value of about 0)\n",
    "2. There is a statistically signifincant difference between trip advisor and non trip advisor sources (p-value of about 0)\n",
    "3. There is a no detectable statistical significance when it comes to deceptive and genuine reviews. (p-value = .2)"
   ]
  },
  {
   "cell_type": "code",
   "execution_count": 8,
   "metadata": {
    "collapsed": true
   },
   "outputs": [],
   "source": [
    "pandas.set_option('display.float_format', lambda x: '%.f' % x)\n",
    "\n",
    "test_a = ttest_ind(\n",
    "    data_in[data_in.polarity == 'positive'].text.str.len(),\n",
    "    data_in[data_in.polarity == 'negative'].text.str.len())\n",
    "\n",
    "test_b = ttest_ind(\n",
    "    data_in[data_in.source == 'TripAdvisor'].text.str.len(),\n",
    "    data_in[data_in.source != 'TripAdvisor'].text.str.len())\n",
    "\n",
    "test_c = ttest_ind(\n",
    "    data_in[data_in.deceptive == 'deceptive'].text.str.len(),\n",
    "    data_in[data_in.deceptive == 'truthful'].text.str.len())\n"
   ]
  },
  {
   "cell_type": "code",
   "execution_count": 9,
   "metadata": {},
   "outputs": [
    {
     "name": "stdout",
     "output_type": "stream",
     "text": [
      "Positive vs Negative: Statisitcally Significant\n",
      "Ttest_indResult(statistic=-13.507204854821099, pvalue=1.8968798894685588e-39)\n"
     ]
    }
   ],
   "source": [
    "print('Positive vs Negative: Statisitcally Significant'), \n",
    "print(test_a)"
   ]
  },
  {
   "cell_type": "code",
   "execution_count": 10,
   "metadata": {},
   "outputs": [
    {
     "name": "stdout",
     "output_type": "stream",
     "text": [
      "TripAdvisor vs Non TripAdvisor:  Statisitcally Significant\n",
      "Ttest_indResult(statistic=-6.4399626289335314, pvalue=1.5767614748756925e-10)\n"
     ]
    }
   ],
   "source": [
    "print('TripAdvisor vs Non TripAdvisor:  Statisitcally Significant'), \n",
    "print(test_b)"
   ]
  },
  {
   "cell_type": "code",
   "execution_count": 11,
   "metadata": {},
   "outputs": [
    {
     "name": "stdout",
     "output_type": "stream",
     "text": [
      "Deceptive vs Truthfull: Not Statistically Significant\n",
      "Ttest_indResult(statistic=-1.2520931090803307, pvalue=0.21071916472895064)\n"
     ]
    }
   ],
   "source": [
    "print('Deceptive vs Truthfull: Not Statistically Significant'), \n",
    "print(test_c)"
   ]
  },
  {
   "cell_type": "markdown",
   "metadata": {},
   "source": [
    "# 4. Data Transformations\n",
    "\n",
    "    A. Parse Data\n",
    "    B. Create Features\n",
    "    C. Topic Modeling\n",
    "    D. Dummy variables"
   ]
  },
  {
   "cell_type": "markdown",
   "metadata": {},
   "source": [
    "## A. Set up Instance and Parse Data"
   ]
  },
  {
   "cell_type": "code",
   "execution_count": 13,
   "metadata": {},
   "outputs": [
    {
     "ename": "ModuleNotFoundError",
     "evalue": "No module named 'en_core_web_md'",
     "output_type": "error",
     "traceback": [
      "\u001b[0;31m---------------------------------------------------------------------------\u001b[0m",
      "\u001b[0;31mModuleNotFoundError\u001b[0m                       Traceback (most recent call last)",
      "\u001b[0;32m<ipython-input-13-0c5d155e435c>\u001b[0m in \u001b[0;36m<module>\u001b[0;34m()\u001b[0m\n\u001b[1;32m      1\u001b[0m \u001b[1;31m# Create Instance and Add Data to NLP object.\u001b[0m\u001b[1;33m\u001b[0m\u001b[1;33m\u001b[0m\u001b[0m\n\u001b[1;32m      2\u001b[0m \u001b[0mdata_nlp\u001b[0m \u001b[1;33m=\u001b[0m \u001b[0mdata_in\u001b[0m\u001b[1;33m.\u001b[0m\u001b[0mcopy\u001b[0m\u001b[1;33m(\u001b[0m\u001b[1;33m)\u001b[0m\u001b[1;33m\u001b[0m\u001b[0m\n\u001b[0;32m----> 3\u001b[0;31m \u001b[1;32mimport\u001b[0m \u001b[0men_core_web_md\u001b[0m\u001b[1;33m\u001b[0m\u001b[0m\n\u001b[0m\u001b[1;32m      4\u001b[0m \u001b[0mnlp\u001b[0m \u001b[1;33m=\u001b[0m \u001b[0men_core_web_md\u001b[0m\u001b[1;33m.\u001b[0m\u001b[0mload\u001b[0m\u001b[1;33m(\u001b[0m\u001b[1;33m)\u001b[0m\u001b[1;33m\u001b[0m\u001b[0m\n",
      "\u001b[0;31mModuleNotFoundError\u001b[0m: No module named 'en_core_web_md'"
     ]
    }
   ],
   "source": [
    "# Create Instance and Add Data to NLP object.\n",
    "data_nlp = data_in.copy()\n",
    "import en_core_web_md\n",
    "nlp = en_core_web_md.load()"
   ]
  },
  {
   "cell_type": "code",
   "execution_count": null,
   "metadata": {},
   "outputs": [],
   "source": [
    "parsed = nlp.pipe(iter(data_nlp['text']), batch_size=1, n_threads=4)\n",
    "\n",
    "# Create Features\n",
    "tokens, lemma, parts, stopword = [], [], [], []\n",
    "\n",
    "for parsed_doc in parsed:\n",
    "    tokens.append([n.text for n in parsed_doc])\n",
    "    lemma.append([n.lemma_ for n in parsed_doc])\n",
    "    parts.append([n.pos_ for n in parsed_doc])\n",
    "    stopword.append([n.is_stop for n in parsed_doc])\n",
    "\n",
    "# Assign Parsed into Dataframe\n",
    "data_nlp['tokens'] = tokens     \n",
    "data_nlp['tokens_stopwords'] = data_nlp['tokens'].apply(lambda x: [item for item in x if item not in stop])\n",
    "data_nlp['lemma'] = lemma\n",
    "data_nlp['pos'] = parts\n",
    "data_nlp['stopword'] = stopword\n",
    "\n",
    "# Describe resulting frame\n",
    "data_nlp.head(2).append(data_nlp.tail(2))"
   ]
  },
  {
   "cell_type": "markdown",
   "metadata": {},
   "source": [
    "## B. Create Features from Parsed Data"
   ]
  },
  {
   "cell_type": "code",
   "execution_count": null,
   "metadata": {},
   "outputs": [],
   "source": [
    "# Set up dataframe columns for new metrics\n",
    "pron_ct = []\n",
    "noun_ct = []\n",
    "punct_ct = []\n",
    "verb_ct = []\n",
    "# tag parts of speech\n",
    "for row in data_nlp.pos:\n",
    "    pron_ct.append(sum([i == 'PRON'  for i in row]))\n",
    "    noun_ct.append(sum([i == 'NOUN'  for i in row]))\n",
    "    punct_ct.append(sum([i == 'PUNCT'  for i in row]))\n",
    "    verb_ct.append(sum([i == 'VERB'  for i in row]))\n",
    "\n",
    "## Create Number of stopword\n",
    "stop_row = []\n",
    "for row in data_nlp.stopword:\n",
    "    stop_row.append(sum(row))\n",
    "    \n",
    "# Create POS Counts\n",
    "data_nlp['pron_ct'] = pron_ct\n",
    "data_nlp['noun_ct'] = noun_ct\n",
    "data_nlp['punct_ct'] = punct_ct\n",
    "data_nlp['verb_ct'] = verb_ct\n",
    "data_nlp['stoprow'] = stop_row\n",
    "# Describe Data\n",
    "data_nlp.head(2).append(data_nlp.tail(2))"
   ]
  },
  {
   "cell_type": "markdown",
   "metadata": {},
   "source": [
    "## C. Topic Modeling\n",
    "- Latent Semantic Analysis by setting the number of topics to 300"
   ]
  },
  {
   "cell_type": "code",
   "execution_count": null,
   "metadata": {
    "collapsed": true
   },
   "outputs": [],
   "source": [
    "# helper function\n",
    "\n",
    "def build_model(train_data, topic_n):\n",
    "    frequency = defaultdict(int)\n",
    "    for text in train_data:\n",
    "        for token in text:\n",
    "            frequency[token] += 1\n",
    "    # get freq > 1\n",
    "    word_freq_1plus = [[x for x in words if frequency[x] > 1] for words in train_data]\n",
    "    # Create dictionary\n",
    "    dictionary = gensim.corpora.Dictionary(word_freq_1plus)\n",
    "    # Create Corpus\n",
    "    corpus = [dictionary.doc2bow(text) for text in train_data]\n",
    "    # corpus to tfidf\n",
    "    tfidf = gensim.models.TfidfModel(corpus) \n",
    "    corp_tf = tfidf[corpus] \n",
    "    # Unsupervised Component. Reduce space into 300 topics. \n",
    "    topic_n = topic_n\n",
    "    lsi = gensim.models.LsiModel(corp_tf, id2word=dictionary, num_topics = topic_n)\n",
    "    corp_topics = lsi[corp_tf] \n",
    "    return corp_topics, dictionary, tfidf, lsi  \n",
    "\n",
    "train_data = data_nlp.tokens_stopwords\n",
    "topic_n = 300\n",
    "\n",
    "built = build_model(\n",
    "    train_data = train_data,\n",
    "    topic_n = 300)"
   ]
  },
  {
   "cell_type": "markdown",
   "metadata": {},
   "source": [
    "## D. Build Dataframe from Topics"
   ]
  },
  {
   "cell_type": "code",
   "execution_count": null,
   "metadata": {
    "collapsed": true
   },
   "outputs": [],
   "source": [
    "data_nlp_decomposed = pandas.DataFrame([dict(row) for row in built[0]])\n",
    "topic_only = data_nlp_decomposed"
   ]
  },
  {
   "cell_type": "markdown",
   "metadata": {},
   "source": [
    "# 5. Classification and Tuning\n",
    "\n",
    "Below, three sets of 6 models are run with 10 folds cross validation. Each set successively adds more data:\n",
    "\n",
    "- Topics (300 Variables)\n",
    "- Topics (300 Variables) + Parts of Speech Metrics (4 variables)\n",
    "- Topics (300 Variables) + Parts of Speech Metrics (4 variables) + Dummy Variables (22 variables)\n",
    "\n",
    "This approach is used as it is cheaper (computationally) when compared to feature selection being run for each model. Feature selection is important as the curse of dimensionality and overfitting can occur in this application. \n",
    "\n",
    "## A.  Setting up data + Models"
   ]
  },
  {
   "cell_type": "code",
   "execution_count": null,
   "metadata": {
    "collapsed": true
   },
   "outputs": [],
   "source": [
    "# Setting Up Three Datasets\n",
    "X1 = topic_only\n",
    "X2 = pandas.concat(\n",
    "    [topic_only,\n",
    "     data_nlp[['pron_ct', 'noun_ct', 'punct_ct', 'verb_ct']]],\n",
    "    axis = 1)\n",
    "X3 = pandas.concat(\n",
    "    [X2,\n",
    "     pandas.get_dummies(data_nlp[['hotel','polarity']])],\n",
    "    axis = 1)\n",
    "Y = data_nlp.deceptive == 'deceptive'"
   ]
  },
  {
   "cell_type": "code",
   "execution_count": null,
   "metadata": {
    "collapsed": true,
    "scrolled": true
   },
   "outputs": [],
   "source": [
    "# prepare configuration for cross validation test harness\n",
    "seed = 7\n",
    "# prepare models\n",
    "models = []\n",
    "models.append(('LR', LogisticRegression()))\n",
    "models.append(('LDA', LinearDiscriminantAnalysis()))\n",
    "models.append(('KNN', KNeighborsClassifier()))\n",
    "models.append(('CART', DecisionTreeClassifier()))\n",
    "models.append(('NB', GaussianNB()))\n",
    "models.append(('SVM', SVC()))\n",
    "models.append(('RF', RandomForestClassifier(n_jobs = -1, class_weight= 'balanced', n_estimators = 500)))"
   ]
  },
  {
   "cell_type": "code",
   "execution_count": null,
   "metadata": {
    "collapsed": true
   },
   "outputs": [],
   "source": [
    "# evaluate each model in turn\n",
    "\n",
    "def run_models(train_data, title):\n",
    "    results = []\n",
    "    names = []\n",
    "\n",
    "    for name, model in models:\n",
    "        kfold = model_selection.KFold(n_splits=5, random_state=seed)\n",
    "        cv_results = model_selection.cross_val_score(model, train_data, Y, cv=kfold, scoring='accuracy')\n",
    "        results.append(cv_results)\n",
    "        names.append(name)\n",
    "        msg = \"%s: %f (%f)\" % (name, cv_results.mean(), cv_results.std())\n",
    "        print(msg)\n",
    "\n",
    "    # boxplot algorithm comparison\n",
    "    fig = pyplot.figure()\n",
    "    fig.suptitle(title)\n",
    "    ax = fig.add_subplot(111)\n",
    "    pyplot.boxplot(results)\n",
    "    ax.set_xticklabels(names)\n",
    "    pyplot.ylim(0,1)\n",
    "    pyplot.show()"
   ]
  },
  {
   "cell_type": "markdown",
   "metadata": {},
   "source": [
    "### Model Comparison 1:\n",
    "Compare 6 Models with variables:\n",
    "- Topics (300 Variables)\n"
   ]
  },
  {
   "cell_type": "code",
   "execution_count": null,
   "metadata": {},
   "outputs": [],
   "source": [
    "X1.shape"
   ]
  },
  {
   "cell_type": "code",
   "execution_count": null,
   "metadata": {},
   "outputs": [],
   "source": [
    "run_models(X1, title= 'Set 1, Algorithm Comparison')"
   ]
  },
  {
   "cell_type": "markdown",
   "metadata": {},
   "source": [
    "### Model Comparison 2:\n",
    "Compare 6 Models with variables:\n",
    "- Topics (300 Variables)\n",
    "- Parts of Speech Metrics (4 variables)"
   ]
  },
  {
   "cell_type": "code",
   "execution_count": null,
   "metadata": {},
   "outputs": [],
   "source": [
    "X2.shape"
   ]
  },
  {
   "cell_type": "code",
   "execution_count": null,
   "metadata": {},
   "outputs": [],
   "source": [
    "run_models(X2, title= 'Set 2, Algorithm Comparison')"
   ]
  },
  {
   "cell_type": "markdown",
   "metadata": {},
   "source": [
    "### Model Comparison 3:\n",
    "Compare 6 Models with variables:\n",
    "- Topics (300 Variables)\n",
    "- Parts of Speech Metrics (4 variables)\n",
    "- Dummy Variables (22 variables)"
   ]
  },
  {
   "cell_type": "code",
   "execution_count": null,
   "metadata": {},
   "outputs": [],
   "source": [
    "X3.shape"
   ]
  },
  {
   "cell_type": "code",
   "execution_count": null,
   "metadata": {
    "scrolled": false
   },
   "outputs": [],
   "source": [
    "run_models(X3, title= 'Set 3, Algorithm Comparison')"
   ]
  },
  {
   "cell_type": "markdown",
   "metadata": {},
   "source": [
    "#### Model Comparison Results:\n",
    "\n",
    "Of the three sets of features, "
   ]
  },
  {
   "cell_type": "markdown",
   "metadata": {},
   "source": [
    "### Tune Random Forest Model\n",
    "From the above results, an untuned random forest model is performing well. \n",
    "\n",
    "The parameters to tune:\n",
    "1. n_estimators: The number of trees for the model to create\n",
    "2. max_features: The number of features per tree, where auto is set to the square root of total features\n",
    "3. criterion: Gauge of split quality; Gini or Entropy\n",
    "4. min_samples_split: Affects the depth of each tree by setting the minimum number of observations required to split a tree.\n"
   ]
  },
  {
   "cell_type": "markdown",
   "metadata": {},
   "source": [
    "#### Train Test Split\n",
    "- Save 10% for final hold out\n",
    "- look at distribution of final hold out"
   ]
  },
  {
   "cell_type": "code",
   "execution_count": null,
   "metadata": {
    "collapsed": true
   },
   "outputs": [],
   "source": [
    "X_train, X_test, Y_train, Y_test = model_selection.train_test_split(X3, Y, test_size=0.10, random_state=42)\n"
   ]
  },
  {
   "cell_type": "code",
   "execution_count": null,
   "metadata": {},
   "outputs": [],
   "source": [
    "pandas.DataFrame(Y_test).groupby('deceptive').size()"
   ]
  },
  {
   "cell_type": "markdown",
   "metadata": {},
   "source": [
    "#### Tune for Accuracy, Precision, Recall"
   ]
  },
  {
   "cell_type": "code",
   "execution_count": null,
   "metadata": {
    "scrolled": true
   },
   "outputs": [],
   "source": [
    "#http://scikit-learn.org/0.15/auto_examples/grid_search_digits.html\n",
    "\n",
    "# for classification, square root of # of featuyres is a good starting point. Try that value divided by 2 and 3.\n",
    "max_features = [round(numpy.sqrt(X_train.shape[1])/x) for x in [1,2,3]]\n",
    "\n",
    "tuned_parameters = [\n",
    "    {'n_estimators' : [500,750],'max_features':max_features, 'criterion':['gini','entropy'], 'min_samples_split':[2,4,6,8]}]\n",
    "\n",
    "scores = ['recall', 'accuracy', 'precision']\n",
    "\n",
    "for score in scores:\n",
    "    print(\"# Tuning hyper-parameters for %s\" % score)\n",
    "    print()\n",
    "    clf = GridSearchCV(RandomForestClassifier(class_weight='balanced', n_jobs=-1), tuned_parameters, cv=5, scoring=score)\n",
    "    clf.fit(X_train, Y_train)\n",
    "    print(\"Best parameters set found on development set:\")\n",
    "    print()\n",
    "    print(clf.best_estimator_)\n",
    "    \n",
    "    print(\"Grid scores on development set:\")\n",
    "    print()\n",
    "    for params, mean_score, scores in clf.grid_scores_:\n",
    "        print(\"%0.3f (+/-%0.03f) for %r\"\n",
    "              % (mean_score, scores.std() / 2, params))\n",
    "    print(\"Detailed classification report:\")\n",
    "    print(\"The model is trained on the full development set.\")\n",
    "    print(\"The scores are computed on the full evaluation set.\")\n",
    "    y_true, y_pred = Y_test, clf.predict(X_test)\n",
    "    print(classification_report(y_true, y_pred))\n",
    "    print()"
   ]
  },
  {
   "cell_type": "markdown",
   "metadata": {},
   "source": [
    "#### Show the best estimator for Precision\n",
    "Based on tuning procedure above, the best estimator for precision is what's shown below:"
   ]
  },
  {
   "cell_type": "code",
   "execution_count": null,
   "metadata": {},
   "outputs": [],
   "source": [
    "clf.best_estimator_"
   ]
  },
  {
   "cell_type": "markdown",
   "metadata": {},
   "source": [
    "# 6. Results\n",
    "\n",
    "From results above, a tuned random forest model on feature set 3 (all variables) out performs a Linear Discriminant Model on features set 2.\n",
    "\n",
    "#### Winning Random Forest Model based on Precision\n"
   ]
  },
  {
   "cell_type": "code",
   "execution_count": null,
   "metadata": {
    "scrolled": true
   },
   "outputs": [],
   "source": [
    "pandas.crosstab(clf.best_estimator_.predict(X_test),Y_test)\n",
    "print(classification_report(y_true=Y_test, y_pred=clf.predict(X_test)))"
   ]
  },
  {
   "cell_type": "markdown",
   "metadata": {},
   "source": [
    "#### Show Feature Importance\n",
    "Based on tuning procedure above, the best estimator for accuracy and precision is what's shown below:"
   ]
  },
  {
   "cell_type": "code",
   "execution_count": null,
   "metadata": {
    "collapsed": true,
    "scrolled": false
   },
   "outputs": [],
   "source": [
    "# set this to display the # of float places\n",
    "pandas.set_option('display.float_format', lambda x: '%.6f' % x)\n",
    "\n",
    "# extract best classifer for precision\n",
    "importance = clf.best_estimator_.feature_importances_\n",
    "# extract \n",
    "importance = clf.best_estimator_.feature_importances_\n",
    "importance = pandas.DataFrame(\n",
    "    importance,\n",
    "    index=X_train.columns, \n",
    "    columns=[\"Importance\"])\n",
    "# For each of the 750 Trees in forest, extract estimators to creator std deviaton\n",
    "importance[\"Std\"] = numpy.std(\n",
    "    [tree.feature_importances_\n",
    "     for tree in clf.best_estimator_.estimators_], axis=0)\n",
    "importance = importance.sort_values('Importance', ascending=False)"
   ]
  },
  {
   "cell_type": "code",
   "execution_count": null,
   "metadata": {
    "scrolled": false
   },
   "outputs": [],
   "source": [
    "to_plot = importance.head(25)\n",
    "x = range(to_plot.shape[0])\n",
    "y = to_plot.ix[:, 0]\n",
    "yerr = to_plot.ix[:, 1]\n",
    "pyplot.bar(x, y, yerr=yerr, align=\"center\")\n",
    "pyplot.show()"
   ]
  },
  {
   "cell_type": "code",
   "execution_count": null,
   "metadata": {
    "scrolled": false
   },
   "outputs": [],
   "source": [
    "importance.head(10).append(importance.tail(10))"
   ]
  },
  {
   "cell_type": "markdown",
   "metadata": {},
   "source": [
    "#### The most important topics\n",
    "\n",
    "These words are the most meaningful when it comes to predicting deceptiveness."
   ]
  },
  {
   "cell_type": "code",
   "execution_count": null,
   "metadata": {},
   "outputs": [],
   "source": [
    "selection = importance.head(3).index\n",
    "x = []\n",
    "for z in selection:\n",
    "    data = pandas.DataFrame(built[3].show_topic(z-1), columns = ['Word','Weight'])\n",
    "    data['topic'] = z\n",
    "    x.append(data)\n",
    "x = pandas.concat(x, axis=0)\n",
    "x"
   ]
  },
  {
   "cell_type": "markdown",
   "metadata": {},
   "source": [
    "#### Distribution of Punctuation\n",
    "Punctuation Count is the 7th most important indicator of whether a review is deceptive or genuine.\n",
    "\n",
    "The graphic below shows us that \"Deceptive\" reviews generally has a lower count of punctuations per review."
   ]
  },
  {
   "cell_type": "code",
   "execution_count": null,
   "metadata": {},
   "outputs": [],
   "source": [
    "truthful = data_nlp[data_nlp.deceptive == \"truthful\"]\n",
    "truthful['Truthful'] = truthful['punct_ct']\n",
    "\n",
    "deceptive = data_nlp[data_nlp.deceptive != \"truthful\"]\n",
    "deceptive['Deceptive'] = deceptive['punct_ct']\n",
    "\n",
    "truthful['Truthful'].plot(legend = True, kind = 'hist')\n",
    "deceptive['Deceptive'].plot(legend = True, title = \"Punctuation Distribution\",kind = 'hist')\n"
   ]
  },
  {
   "cell_type": "markdown",
   "metadata": {},
   "source": [
    "# 7. Package Trained Model for API \n",
    "\n",
    "\n",
    "\"Pickle\" to-dos:\n",
    "- Model to be persisted\n",
    "- Transformation pipeline for a \"text\" review\n",
    "- Support dataframe in the case that input variables into api are missing. For example: a default variable for x,y,z\n"
   ]
  }
 ],
 "metadata": {
  "kernelspec": {
   "display_name": "Python 3",
   "language": "python",
   "name": "python3"
  },
  "language_info": {
   "codemirror_mode": {
    "name": "ipython",
    "version": 3
   },
   "file_extension": ".py",
   "mimetype": "text/x-python",
   "name": "python",
   "nbconvert_exporter": "python",
   "pygments_lexer": "ipython3",
   "version": "3.6.0"
  }
 },
 "nbformat": 4,
 "nbformat_minor": 2
}
