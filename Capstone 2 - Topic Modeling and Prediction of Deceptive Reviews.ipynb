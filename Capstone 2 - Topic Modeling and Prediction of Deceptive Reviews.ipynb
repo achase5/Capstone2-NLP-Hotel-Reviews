{
 "cells": [
  {
   "cell_type": "markdown",
   "metadata": {},
   "source": [
    "# Overview\n",
    "\n",
    "The purpose of this jupyter notebook is to outline a the problem, approach, and outcomes associated with the detection of \"truthful\" and \"deceptive\" hotel reviews that a typical hotel review aggregator (or some sort of similar service) would come across as important to business operations.\n",
    "\n",
    "This notebook is structured in the following manner:\n",
    "0. **Motivation**: The problem, and why it is important\n",
    "1. **Setting up**: Tools, models, Data utilized\n",
    "2. **Description**: A description of the data\n",
    "3. **Data transformation**: Steps that facilitate the detection stage\n",
    "4. **Classification and Tuning**: The actual dete\n",
    "5. **Results**"
   ]
  },
  {
   "cell_type": "markdown",
   "metadata": {},
   "source": [
    "## 1. Motivation\n",
    "\n",
    "The problem of detecting truthful versus deceptive content is an important focus in many areas including spam detection, consumer-facing information about businesses, and even political information in democratic societies (fake news). \n",
    "\n",
    "The purpose of this project focuses on consumer-facing information. Given a data set of about 1600 hotel reviews, where 800 are truthful (pulled from sources such as Trip Advisor), and 800 are deceptive (Generated using Amazon's Mechanical Turk -- a market place for tasks requiring human intelligence), this notebook seeks to detect deceptive reviews by using latent semantic indexing and machine learning. "
   ]
  },
  {
   "cell_type": "markdown",
   "metadata": {},
   "source": [
    "## 2. Setting Up"
   ]
  },
  {
   "cell_type": "code",
   "execution_count": 1,
   "metadata": {
    "scrolled": true
   },
   "outputs": [
    {
     "name": "stderr",
     "output_type": "stream",
     "text": [
      "C:\\Users\\Cglan\\AppData\\Local\\Continuum\\Anaconda3\\lib\\site-packages\\gensim\\utils.py:860: UserWarning: detected Windows; aliasing chunkize to chunkize_serial\n",
      "  warnings.warn(\"detected Windows; aliasing chunkize to chunkize_serial\")\n",
      "Slow version of gensim.models.doc2vec is being used\n",
      "C:\\Users\\Cglan\\AppData\\Local\\Continuum\\Anaconda3\\lib\\site-packages\\sklearn\\lda.py:6: DeprecationWarning: lda.LDA has been moved to discriminant_analysis.LinearDiscriminantAnalysis in 0.17 and will be removed in 0.19\n",
      "  \"in 0.17 and will be removed in 0.19\", DeprecationWarning)\n"
     ]
    }
   ],
   "source": [
    "# General Data Manipulation\n",
    "import pandas\n",
    "import numpy\n",
    "import re\n",
    "\n",
    "# Feature Engineering, Descriptives\n",
    "from scipy.stats import ttest_ind\n",
    "from nltk.corpus import stopwords\n",
    "from collections import defaultdict\n",
    "\n",
    "# NLP Modules\n",
    "import gensim \n",
    "import spacy\n",
    "\n",
    "# Supervised Learning Modules\n",
    "from sklearn.lda import LDA \n",
    "from sklearn.model_selection import GridSearchCV\n",
    "from sklearn.model_selection import KFold\n",
    "from sklearn.metrics import classification_report\n",
    "\n",
    "from sklearn import model_selection\n",
    "from sklearn.linear_model import LogisticRegression\n",
    "from sklearn.tree import DecisionTreeClassifier\n",
    "from sklearn.neighbors import KNeighborsClassifier\n",
    "from sklearn.discriminant_analysis import LinearDiscriminantAnalysis\n",
    "from sklearn.naive_bayes import GaussianNB\n",
    "from sklearn.svm import SVC\n",
    "\n",
    "# Plotting\n",
    "from matplotlib import pyplot\n",
    "%matplotlib inline\n",
    "\n",
    "# Read Data\n",
    "data_in = pandas.read_csv('deceptive-opinion.csv')\n",
    "stop = set(stopwords.words('english'))\n",
    "\n",
    "import warnings\n",
    "warnings.filterwarnings('ignore')"
   ]
  },
  {
   "cell_type": "markdown",
   "metadata": {},
   "source": [
    "## 3. Description of Data\n",
    "\n",
    "    A. Show the top 5 and bottom 5 records.\n",
    "    B. Pivot table on categorical labels, and count.\n",
    "    C. Barplot data\n",
    "    D. Hypothesis testing"
   ]
  },
  {
   "cell_type": "markdown",
   "metadata": {},
   "source": [
    "### A. Head / Tail of Data"
   ]
  },
  {
   "cell_type": "code",
   "execution_count": 2,
   "metadata": {
    "scrolled": true
   },
   "outputs": [
    {
     "data": {
      "text/html": [
       "<div>\n",
       "<table border=\"1\" class=\"dataframe\">\n",
       "  <thead>\n",
       "    <tr style=\"text-align: right;\">\n",
       "      <th></th>\n",
       "      <th>deceptive</th>\n",
       "      <th>hotel</th>\n",
       "      <th>polarity</th>\n",
       "      <th>source</th>\n",
       "      <th>text</th>\n",
       "    </tr>\n",
       "  </thead>\n",
       "  <tbody>\n",
       "    <tr>\n",
       "      <th>0</th>\n",
       "      <td>truthful</td>\n",
       "      <td>conrad</td>\n",
       "      <td>positive</td>\n",
       "      <td>TripAdvisor</td>\n",
       "      <td>We stayed for a one night getaway with family ...</td>\n",
       "    </tr>\n",
       "    <tr>\n",
       "      <th>1</th>\n",
       "      <td>truthful</td>\n",
       "      <td>hyatt</td>\n",
       "      <td>positive</td>\n",
       "      <td>TripAdvisor</td>\n",
       "      <td>Triple A rate with upgrade to view room was le...</td>\n",
       "    </tr>\n",
       "    <tr>\n",
       "      <th>2</th>\n",
       "      <td>truthful</td>\n",
       "      <td>hyatt</td>\n",
       "      <td>positive</td>\n",
       "      <td>TripAdvisor</td>\n",
       "      <td>This comes a little late as I'm finally catchi...</td>\n",
       "    </tr>\n",
       "    <tr>\n",
       "      <th>3</th>\n",
       "      <td>truthful</td>\n",
       "      <td>omni</td>\n",
       "      <td>positive</td>\n",
       "      <td>TripAdvisor</td>\n",
       "      <td>The Omni Chicago really delivers on all fronts...</td>\n",
       "    </tr>\n",
       "    <tr>\n",
       "      <th>4</th>\n",
       "      <td>truthful</td>\n",
       "      <td>hyatt</td>\n",
       "      <td>positive</td>\n",
       "      <td>TripAdvisor</td>\n",
       "      <td>I asked for a high floor away from the elevato...</td>\n",
       "    </tr>\n",
       "    <tr>\n",
       "      <th>1595</th>\n",
       "      <td>deceptive</td>\n",
       "      <td>intercontinental</td>\n",
       "      <td>negative</td>\n",
       "      <td>MTurk</td>\n",
       "      <td>Problems started when I booked the InterContin...</td>\n",
       "    </tr>\n",
       "    <tr>\n",
       "      <th>1596</th>\n",
       "      <td>deceptive</td>\n",
       "      <td>amalfi</td>\n",
       "      <td>negative</td>\n",
       "      <td>MTurk</td>\n",
       "      <td>The Amalfi Hotel has a beautiful website and i...</td>\n",
       "    </tr>\n",
       "    <tr>\n",
       "      <th>1597</th>\n",
       "      <td>deceptive</td>\n",
       "      <td>intercontinental</td>\n",
       "      <td>negative</td>\n",
       "      <td>MTurk</td>\n",
       "      <td>The Intercontinental Chicago Magnificent Mile ...</td>\n",
       "    </tr>\n",
       "    <tr>\n",
       "      <th>1598</th>\n",
       "      <td>deceptive</td>\n",
       "      <td>palmer</td>\n",
       "      <td>negative</td>\n",
       "      <td>MTurk</td>\n",
       "      <td>The Palmer House Hilton, while it looks good i...</td>\n",
       "    </tr>\n",
       "    <tr>\n",
       "      <th>1599</th>\n",
       "      <td>deceptive</td>\n",
       "      <td>amalfi</td>\n",
       "      <td>negative</td>\n",
       "      <td>MTurk</td>\n",
       "      <td>As a former Chicagoan, I'm appalled at the Ama...</td>\n",
       "    </tr>\n",
       "  </tbody>\n",
       "</table>\n",
       "</div>"
      ],
      "text/plain": [
       "      deceptive             hotel  polarity       source  \\\n",
       "0      truthful            conrad  positive  TripAdvisor   \n",
       "1      truthful             hyatt  positive  TripAdvisor   \n",
       "2      truthful             hyatt  positive  TripAdvisor   \n",
       "3      truthful              omni  positive  TripAdvisor   \n",
       "4      truthful             hyatt  positive  TripAdvisor   \n",
       "1595  deceptive  intercontinental  negative        MTurk   \n",
       "1596  deceptive            amalfi  negative        MTurk   \n",
       "1597  deceptive  intercontinental  negative        MTurk   \n",
       "1598  deceptive            palmer  negative        MTurk   \n",
       "1599  deceptive            amalfi  negative        MTurk   \n",
       "\n",
       "                                                   text  \n",
       "0     We stayed for a one night getaway with family ...  \n",
       "1     Triple A rate with upgrade to view room was le...  \n",
       "2     This comes a little late as I'm finally catchi...  \n",
       "3     The Omni Chicago really delivers on all fronts...  \n",
       "4     I asked for a high floor away from the elevato...  \n",
       "1595  Problems started when I booked the InterContin...  \n",
       "1596  The Amalfi Hotel has a beautiful website and i...  \n",
       "1597  The Intercontinental Chicago Magnificent Mile ...  \n",
       "1598  The Palmer House Hilton, while it looks good i...  \n",
       "1599  As a former Chicagoan, I'm appalled at the Ama...  "
      ]
     },
     "execution_count": 2,
     "metadata": {},
     "output_type": "execute_result"
    }
   ],
   "source": [
    "data_in.head().append(data_in.tail())"
   ]
  },
  {
   "cell_type": "markdown",
   "metadata": {},
   "source": [
    "### B. Pivot Table by Categories"
   ]
  },
  {
   "cell_type": "code",
   "execution_count": 3,
   "metadata": {},
   "outputs": [
    {
     "data": {
      "text/html": [
       "<div>\n",
       "<table border=\"1\" class=\"dataframe\">\n",
       "  <thead>\n",
       "    <tr>\n",
       "      <th></th>\n",
       "      <th colspan=\"4\" halign=\"left\">source</th>\n",
       "      <th colspan=\"4\" halign=\"left\">text</th>\n",
       "    </tr>\n",
       "    <tr>\n",
       "      <th>deceptive</th>\n",
       "      <th colspan=\"2\" halign=\"left\">deceptive</th>\n",
       "      <th colspan=\"2\" halign=\"left\">truthful</th>\n",
       "      <th colspan=\"2\" halign=\"left\">deceptive</th>\n",
       "      <th colspan=\"2\" halign=\"left\">truthful</th>\n",
       "    </tr>\n",
       "    <tr>\n",
       "      <th>polarity</th>\n",
       "      <th>negative</th>\n",
       "      <th>positive</th>\n",
       "      <th>negative</th>\n",
       "      <th>positive</th>\n",
       "      <th>negative</th>\n",
       "      <th>positive</th>\n",
       "      <th>negative</th>\n",
       "      <th>positive</th>\n",
       "    </tr>\n",
       "    <tr>\n",
       "      <th>hotel</th>\n",
       "      <th></th>\n",
       "      <th></th>\n",
       "      <th></th>\n",
       "      <th></th>\n",
       "      <th></th>\n",
       "      <th></th>\n",
       "      <th></th>\n",
       "      <th></th>\n",
       "    </tr>\n",
       "  </thead>\n",
       "  <tbody>\n",
       "    <tr>\n",
       "      <th>affinia</th>\n",
       "      <td>20</td>\n",
       "      <td>20</td>\n",
       "      <td>20</td>\n",
       "      <td>20</td>\n",
       "      <td>20</td>\n",
       "      <td>20</td>\n",
       "      <td>20</td>\n",
       "      <td>20</td>\n",
       "    </tr>\n",
       "    <tr>\n",
       "      <th>allegro</th>\n",
       "      <td>20</td>\n",
       "      <td>20</td>\n",
       "      <td>20</td>\n",
       "      <td>20</td>\n",
       "      <td>20</td>\n",
       "      <td>20</td>\n",
       "      <td>20</td>\n",
       "      <td>20</td>\n",
       "    </tr>\n",
       "    <tr>\n",
       "      <th>amalfi</th>\n",
       "      <td>20</td>\n",
       "      <td>20</td>\n",
       "      <td>20</td>\n",
       "      <td>20</td>\n",
       "      <td>20</td>\n",
       "      <td>20</td>\n",
       "      <td>20</td>\n",
       "      <td>20</td>\n",
       "    </tr>\n",
       "    <tr>\n",
       "      <th>ambassador</th>\n",
       "      <td>20</td>\n",
       "      <td>20</td>\n",
       "      <td>20</td>\n",
       "      <td>20</td>\n",
       "      <td>20</td>\n",
       "      <td>20</td>\n",
       "      <td>20</td>\n",
       "      <td>20</td>\n",
       "    </tr>\n",
       "    <tr>\n",
       "      <th>conrad</th>\n",
       "      <td>20</td>\n",
       "      <td>20</td>\n",
       "      <td>20</td>\n",
       "      <td>20</td>\n",
       "      <td>20</td>\n",
       "      <td>20</td>\n",
       "      <td>20</td>\n",
       "      <td>20</td>\n",
       "    </tr>\n",
       "    <tr>\n",
       "      <th>fairmont</th>\n",
       "      <td>20</td>\n",
       "      <td>20</td>\n",
       "      <td>20</td>\n",
       "      <td>20</td>\n",
       "      <td>20</td>\n",
       "      <td>20</td>\n",
       "      <td>20</td>\n",
       "      <td>20</td>\n",
       "    </tr>\n",
       "    <tr>\n",
       "      <th>hardrock</th>\n",
       "      <td>20</td>\n",
       "      <td>20</td>\n",
       "      <td>20</td>\n",
       "      <td>20</td>\n",
       "      <td>20</td>\n",
       "      <td>20</td>\n",
       "      <td>20</td>\n",
       "      <td>20</td>\n",
       "    </tr>\n",
       "    <tr>\n",
       "      <th>hilton</th>\n",
       "      <td>20</td>\n",
       "      <td>20</td>\n",
       "      <td>20</td>\n",
       "      <td>20</td>\n",
       "      <td>20</td>\n",
       "      <td>20</td>\n",
       "      <td>20</td>\n",
       "      <td>20</td>\n",
       "    </tr>\n",
       "    <tr>\n",
       "      <th>homewood</th>\n",
       "      <td>20</td>\n",
       "      <td>20</td>\n",
       "      <td>20</td>\n",
       "      <td>20</td>\n",
       "      <td>20</td>\n",
       "      <td>20</td>\n",
       "      <td>20</td>\n",
       "      <td>20</td>\n",
       "    </tr>\n",
       "    <tr>\n",
       "      <th>hyatt</th>\n",
       "      <td>20</td>\n",
       "      <td>20</td>\n",
       "      <td>20</td>\n",
       "      <td>20</td>\n",
       "      <td>20</td>\n",
       "      <td>20</td>\n",
       "      <td>20</td>\n",
       "      <td>20</td>\n",
       "    </tr>\n",
       "    <tr>\n",
       "      <th>intercontinental</th>\n",
       "      <td>20</td>\n",
       "      <td>20</td>\n",
       "      <td>20</td>\n",
       "      <td>20</td>\n",
       "      <td>20</td>\n",
       "      <td>20</td>\n",
       "      <td>20</td>\n",
       "      <td>20</td>\n",
       "    </tr>\n",
       "    <tr>\n",
       "      <th>james</th>\n",
       "      <td>20</td>\n",
       "      <td>20</td>\n",
       "      <td>20</td>\n",
       "      <td>20</td>\n",
       "      <td>20</td>\n",
       "      <td>20</td>\n",
       "      <td>20</td>\n",
       "      <td>20</td>\n",
       "    </tr>\n",
       "    <tr>\n",
       "      <th>knickerbocker</th>\n",
       "      <td>20</td>\n",
       "      <td>20</td>\n",
       "      <td>20</td>\n",
       "      <td>20</td>\n",
       "      <td>20</td>\n",
       "      <td>20</td>\n",
       "      <td>20</td>\n",
       "      <td>20</td>\n",
       "    </tr>\n",
       "    <tr>\n",
       "      <th>monaco</th>\n",
       "      <td>20</td>\n",
       "      <td>20</td>\n",
       "      <td>20</td>\n",
       "      <td>20</td>\n",
       "      <td>20</td>\n",
       "      <td>20</td>\n",
       "      <td>20</td>\n",
       "      <td>20</td>\n",
       "    </tr>\n",
       "    <tr>\n",
       "      <th>omni</th>\n",
       "      <td>20</td>\n",
       "      <td>20</td>\n",
       "      <td>20</td>\n",
       "      <td>20</td>\n",
       "      <td>20</td>\n",
       "      <td>20</td>\n",
       "      <td>20</td>\n",
       "      <td>20</td>\n",
       "    </tr>\n",
       "    <tr>\n",
       "      <th>palmer</th>\n",
       "      <td>20</td>\n",
       "      <td>20</td>\n",
       "      <td>20</td>\n",
       "      <td>20</td>\n",
       "      <td>20</td>\n",
       "      <td>20</td>\n",
       "      <td>20</td>\n",
       "      <td>20</td>\n",
       "    </tr>\n",
       "    <tr>\n",
       "      <th>sheraton</th>\n",
       "      <td>20</td>\n",
       "      <td>20</td>\n",
       "      <td>20</td>\n",
       "      <td>20</td>\n",
       "      <td>20</td>\n",
       "      <td>20</td>\n",
       "      <td>20</td>\n",
       "      <td>20</td>\n",
       "    </tr>\n",
       "    <tr>\n",
       "      <th>sofitel</th>\n",
       "      <td>20</td>\n",
       "      <td>20</td>\n",
       "      <td>20</td>\n",
       "      <td>20</td>\n",
       "      <td>20</td>\n",
       "      <td>20</td>\n",
       "      <td>20</td>\n",
       "      <td>20</td>\n",
       "    </tr>\n",
       "    <tr>\n",
       "      <th>swissotel</th>\n",
       "      <td>20</td>\n",
       "      <td>20</td>\n",
       "      <td>20</td>\n",
       "      <td>20</td>\n",
       "      <td>20</td>\n",
       "      <td>20</td>\n",
       "      <td>20</td>\n",
       "      <td>20</td>\n",
       "    </tr>\n",
       "    <tr>\n",
       "      <th>talbott</th>\n",
       "      <td>20</td>\n",
       "      <td>20</td>\n",
       "      <td>20</td>\n",
       "      <td>20</td>\n",
       "      <td>20</td>\n",
       "      <td>20</td>\n",
       "      <td>20</td>\n",
       "      <td>20</td>\n",
       "    </tr>\n",
       "  </tbody>\n",
       "</table>\n",
       "</div>"
      ],
      "text/plain": [
       "                    source                                 text           \\\n",
       "deceptive        deceptive          truthful          deceptive            \n",
       "polarity          negative positive negative positive  negative positive   \n",
       "hotel                                                                      \n",
       "affinia                 20       20       20       20        20       20   \n",
       "allegro                 20       20       20       20        20       20   \n",
       "amalfi                  20       20       20       20        20       20   \n",
       "ambassador              20       20       20       20        20       20   \n",
       "conrad                  20       20       20       20        20       20   \n",
       "fairmont                20       20       20       20        20       20   \n",
       "hardrock                20       20       20       20        20       20   \n",
       "hilton                  20       20       20       20        20       20   \n",
       "homewood                20       20       20       20        20       20   \n",
       "hyatt                   20       20       20       20        20       20   \n",
       "intercontinental        20       20       20       20        20       20   \n",
       "james                   20       20       20       20        20       20   \n",
       "knickerbocker           20       20       20       20        20       20   \n",
       "monaco                  20       20       20       20        20       20   \n",
       "omni                    20       20       20       20        20       20   \n",
       "palmer                  20       20       20       20        20       20   \n",
       "sheraton                20       20       20       20        20       20   \n",
       "sofitel                 20       20       20       20        20       20   \n",
       "swissotel               20       20       20       20        20       20   \n",
       "talbott                 20       20       20       20        20       20   \n",
       "\n",
       "                                    \n",
       "deceptive        truthful           \n",
       "polarity         negative positive  \n",
       "hotel                               \n",
       "affinia                20       20  \n",
       "allegro                20       20  \n",
       "amalfi                 20       20  \n",
       "ambassador             20       20  \n",
       "conrad                 20       20  \n",
       "fairmont               20       20  \n",
       "hardrock               20       20  \n",
       "hilton                 20       20  \n",
       "homewood               20       20  \n",
       "hyatt                  20       20  \n",
       "intercontinental       20       20  \n",
       "james                  20       20  \n",
       "knickerbocker          20       20  \n",
       "monaco                 20       20  \n",
       "omni                   20       20  \n",
       "palmer                 20       20  \n",
       "sheraton               20       20  \n",
       "sofitel                20       20  \n",
       "swissotel              20       20  \n",
       "talbott                20       20  "
      ]
     },
     "execution_count": 3,
     "metadata": {},
     "output_type": "execute_result"
    }
   ],
   "source": [
    "data_in.pivot_table(\n",
    "    columns=['deceptive','polarity'],\n",
    "    index = ['hotel'],\n",
    "    aggfunc = len).fillna(0)"
   ]
  },
  {
   "cell_type": "markdown",
   "metadata": {},
   "source": [
    "### C. Barplot of Various Text Features\n",
    "\n",
    "From the descriptive charts below, there seems to be no difference in deceptive review length on average. On average, Positive reviews are shorter than negative."
   ]
  },
  {
   "cell_type": "code",
   "execution_count": 4,
   "metadata": {
    "collapsed": true,
    "scrolled": true
   },
   "outputs": [],
   "source": [
    "#Mean Length Funciton\n",
    "def mean_len(group, mean = True):\n",
    "    if mean == True:\n",
    "        return numpy.mean(group.text.str.len())\n",
    "    else:\n",
    "        return group.text.str.len()"
   ]
  },
  {
   "cell_type": "code",
   "execution_count": 64,
   "metadata": {
    "collapsed": true,
    "scrolled": false
   },
   "outputs": [],
   "source": [
    "a = data_in.groupby(\n",
    "    ['deceptive']).apply(\n",
    "    mean_len, mean = True)\n",
    "\n",
    "b = data_in.groupby(\n",
    "    ['polarity']).apply(\n",
    "    mean_len, mean = True)\n",
    "\n",
    "c = data_in.groupby(\n",
    "    ['deceptive','polarity']).apply(\n",
    "    mean_len, mean = True)\n",
    "\n",
    "d = data_in.groupby(\n",
    "    ['hotel','polarity']).apply(\n",
    "    mean_len, mean = True)"
   ]
  },
  {
   "cell_type": "code",
   "execution_count": 69,
   "metadata": {},
   "outputs": [
    {
     "data": {
      "text/plain": [
       "<matplotlib.axes._subplots.AxesSubplot at 0x23b1aae9ba8>"
      ]
     },
     "execution_count": 69,
     "metadata": {},
     "output_type": "execute_result"
    },
    {
     "data": {
      "image/png": "[encoded data removed]",
      "text/plain": [
       "<matplotlib.figure.Figure at 0x23b1a9c2dd8>"
      ]
     },
     "metadata": {},
     "output_type": "display_data"
    }
   ],
   "source": [
    "fig, ax =pyplot.subplots(4,1,figsize=(15,14))\n",
    "\n",
    "a.plot('bar',ax = ax[0], rot = 0 )\n",
    "\n",
    "b.plot('bar',ax = ax[1], rot = 0 )\n",
    "\n",
    "c.plot('bar',ax = ax[2], rot = 0)\n",
    "\n",
    "d.plot('bar',ax = ax[3])"
   ]
  },
  {
   "cell_type": "markdown",
   "metadata": {},
   "source": [
    "### A. Hypothesis Tests on Text Features"
   ]
  },
  {
   "cell_type": "markdown",
   "metadata": {},
   "source": [
    "From the results of hypotheses tests we cna see that:\n",
    "\n",
    "1. There is a statistically signifincant difference between positive and negative average length of words (p-value of about 0)\n",
    "2. There is a statistically signifincant difference between trip advisor and non trip advisor sources (p-value of about 0)\n",
    "3. There is a no detectable statistical significance when it comes to deceptive and genuine reviews. (p-value = .2)"
   ]
  },
  {
   "cell_type": "code",
   "execution_count": 84,
   "metadata": {},
   "outputs": [
    {
     "name": "stdout",
     "output_type": "stream",
     "text": [
      "Positive vs Negative\n",
      "Ttest_indResult(statistic=-13.507204854821099, pvalue=1.8968798894685588e-39)\n",
      "TripAdvisor vs Non TripAdvisor\n",
      "Ttest_indResult(statistic=-6.4399626289335314, pvalue=1.5767614748756925e-10)\n",
      "Deceptive vs Truthfull\n",
      "Ttest_indResult(statistic=-1.2520931090803307, pvalue=0.21071916472895064)\n"
     ]
    }
   ],
   "source": [
    "pandas.set_option('display.float_format', lambda x: '%.f' % x)\n",
    "\n",
    "test_a = ttest_ind(\n",
    "    data_in[data_in.polarity == 'positive'].text.str.len(),\n",
    "    data_in[data_in.polarity == 'negative'].text.str.len())\n",
    "\n",
    "test_b = ttest_ind(\n",
    "    data_in[data_in.source == 'TripAdvisor'].text.str.len(),\n",
    "    data_in[data_in.source != 'TripAdvisor'].text.str.len())\n",
    "\n",
    "test_c = ttest_ind(\n",
    "    data_in[data_in.deceptive == 'deceptive'].text.str.len(),\n",
    "    data_in[data_in.deceptive == 'truthful'].text.str.len())\n"
   ]
  },
  {
   "cell_type": "code",
   "execution_count": 89,
   "metadata": {},
   "outputs": [
    {
     "name": "stdout",
     "output_type": "stream",
     "text": [
      "Positive vs Negative: Statisitcally Significant\n",
      "Ttest_indResult(statistic=-13.507204854821099, pvalue=1.8968798894685588e-39)\n"
     ]
    }
   ],
   "source": [
    "print('Positive vs Negative: Statisitcally Significant'), \n",
    "print(test_a)"
   ]
  },
  {
   "cell_type": "code",
   "execution_count": 92,
   "metadata": {},
   "outputs": [
    {
     "name": "stdout",
     "output_type": "stream",
     "text": [
      "TripAdvisor vs Non TripAdvisor:  Statisitcally Significant\n",
      "Ttest_indResult(statistic=-6.4399626289335314, pvalue=1.5767614748756925e-10)\n"
     ]
    }
   ],
   "source": [
    "print('TripAdvisor vs Non TripAdvisor:  Statisitcally Significant'), \n",
    "print(test_b)"
   ]
  },
  {
   "cell_type": "code",
   "execution_count": 91,
   "metadata": {},
   "outputs": [
    {
     "name": "stdout",
     "output_type": "stream",
     "text": [
      "Deceptive vs Truthfull: Not Statistically Significant\n",
      "Ttest_indResult(statistic=-1.2520931090803307, pvalue=0.21071916472895064)\n"
     ]
    }
   ],
   "source": [
    "print('Deceptive vs Truthfull: Not Statistically Significant'), \n",
    "print(test_c)"
   ]
  },
  {
   "cell_type": "markdown",
   "metadata": {},
   "source": [
    "# 4. Data Transformations\n",
    "\n",
    "    A. Parse Data\n",
    "    B. Create Features\n",
    "    C. Topic Modeling\n",
    "    D. Dummy variables"
   ]
  },
  {
   "cell_type": "markdown",
   "metadata": {},
   "source": [
    "## A. Set up Instance and Parse Data"
   ]
  },
  {
   "cell_type": "code",
   "execution_count": 8,
   "metadata": {
    "collapsed": true
   },
   "outputs": [],
   "source": [
    "# Create Instance and Add Data to NLP object.\n",
    "data_nlp = data_in.copy()\n",
    "import en_core_web_md\n",
    "nlp = en_core_web_md.load()"
   ]
  },
  {
   "cell_type": "code",
   "execution_count": 9,
   "metadata": {},
   "outputs": [
    {
     "data": {
      "text/html": [
       "<div>\n",
       "<table border=\"1\" class=\"dataframe\">\n",
       "  <thead>\n",
       "    <tr style=\"text-align: right;\">\n",
       "      <th></th>\n",
       "      <th>deceptive</th>\n",
       "      <th>hotel</th>\n",
       "      <th>polarity</th>\n",
       "      <th>source</th>\n",
       "      <th>text</th>\n",
       "      <th>tokens</th>\n",
       "      <th>tokens_stopwords</th>\n",
       "      <th>lemma</th>\n",
       "      <th>pos</th>\n",
       "      <th>stopword</th>\n",
       "    </tr>\n",
       "  </thead>\n",
       "  <tbody>\n",
       "    <tr>\n",
       "      <th>0</th>\n",
       "      <td>truthful</td>\n",
       "      <td>conrad</td>\n",
       "      <td>positive</td>\n",
       "      <td>TripAdvisor</td>\n",
       "      <td>We stayed for a one night getaway with family ...</td>\n",
       "      <td>[We, stayed, for, a, one, night, getaway, with...</td>\n",
       "      <td>[We, stayed, one, night, getaway, family, thur...</td>\n",
       "      <td>[-PRON-, stay, for, a, one, night, getaway, wi...</td>\n",
       "      <td>[PRON, VERB, ADP, DET, NUM, NOUN, NOUN, ADP, N...</td>\n",
       "      <td>[False, False, False, False, False, False, Fal...</td>\n",
       "    </tr>\n",
       "    <tr>\n",
       "      <th>1</th>\n",
       "      <td>truthful</td>\n",
       "      <td>hyatt</td>\n",
       "      <td>positive</td>\n",
       "      <td>TripAdvisor</td>\n",
       "      <td>Triple A rate with upgrade to view room was le...</td>\n",
       "      <td>[Triple, A, rate, with, upgrade, to, view, roo...</td>\n",
       "      <td>[Triple, A, rate, upgrade, view, room, less, $...</td>\n",
       "      <td>[triple, a, rate, with, upgrade, to, view, roo...</td>\n",
       "      <td>[ADJ, DET, NOUN, ADP, NOUN, PART, NOUN, NOUN, ...</td>\n",
       "      <td>[False, False, False, False, False, False, Fal...</td>\n",
       "    </tr>\n",
       "    <tr>\n",
       "      <th>1598</th>\n",
       "      <td>deceptive</td>\n",
       "      <td>palmer</td>\n",
       "      <td>negative</td>\n",
       "      <td>MTurk</td>\n",
       "      <td>The Palmer House Hilton, while it looks good i...</td>\n",
       "      <td>[The, Palmer, House, Hilton, ,, while, it, loo...</td>\n",
       "      <td>[The, Palmer, House, Hilton, ,, looks, good, p...</td>\n",
       "      <td>[the, palmer, house, hilton, ,, while, -PRON-,...</td>\n",
       "      <td>[DET, PROPN, PROPN, PROPN, PUNCT, ADP, PRON, V...</td>\n",
       "      <td>[False, False, False, False, False, False, Fal...</td>\n",
       "    </tr>\n",
       "    <tr>\n",
       "      <th>1599</th>\n",
       "      <td>deceptive</td>\n",
       "      <td>amalfi</td>\n",
       "      <td>negative</td>\n",
       "      <td>MTurk</td>\n",
       "      <td>As a former Chicagoan, I'm appalled at the Ama...</td>\n",
       "      <td>[As, a, former, Chicagoan, ,, I, 'm, appalled,...</td>\n",
       "      <td>[As, former, Chicagoan, ,, I, 'm, appalled, Am...</td>\n",
       "      <td>[as, a, former, chicagoan, ,, -PRON-, be, appa...</td>\n",
       "      <td>[ADP, DET, ADJ, PROPN, PUNCT, PRON, VERB, VERB...</td>\n",
       "      <td>[False, False, False, False, False, False, Fal...</td>\n",
       "    </tr>\n",
       "  </tbody>\n",
       "</table>\n",
       "</div>"
      ],
      "text/plain": [
       "      deceptive   hotel  polarity       source  \\\n",
       "0      truthful  conrad  positive  TripAdvisor   \n",
       "1      truthful   hyatt  positive  TripAdvisor   \n",
       "1598  deceptive  palmer  negative        MTurk   \n",
       "1599  deceptive  amalfi  negative        MTurk   \n",
       "\n",
       "                                                   text  \\\n",
       "0     We stayed for a one night getaway with family ...   \n",
       "1     Triple A rate with upgrade to view room was le...   \n",
       "1598  The Palmer House Hilton, while it looks good i...   \n",
       "1599  As a former Chicagoan, I'm appalled at the Ama...   \n",
       "\n",
       "                                                 tokens  \\\n",
       "0     [We, stayed, for, a, one, night, getaway, with...   \n",
       "1     [Triple, A, rate, with, upgrade, to, view, roo...   \n",
       "1598  [The, Palmer, House, Hilton, ,, while, it, loo...   \n",
       "1599  [As, a, former, Chicagoan, ,, I, 'm, appalled,...   \n",
       "\n",
       "                                       tokens_stopwords  \\\n",
       "0     [We, stayed, one, night, getaway, family, thur...   \n",
       "1     [Triple, A, rate, upgrade, view, room, less, $...   \n",
       "1598  [The, Palmer, House, Hilton, ,, looks, good, p...   \n",
       "1599  [As, former, Chicagoan, ,, I, 'm, appalled, Am...   \n",
       "\n",
       "                                                  lemma  \\\n",
       "0     [-PRON-, stay, for, a, one, night, getaway, wi...   \n",
       "1     [triple, a, rate, with, upgrade, to, view, roo...   \n",
       "1598  [the, palmer, house, hilton, ,, while, -PRON-,...   \n",
       "1599  [as, a, former, chicagoan, ,, -PRON-, be, appa...   \n",
       "\n",
       "                                                    pos  \\\n",
       "0     [PRON, VERB, ADP, DET, NUM, NOUN, NOUN, ADP, N...   \n",
       "1     [ADJ, DET, NOUN, ADP, NOUN, PART, NOUN, NOUN, ...   \n",
       "1598  [DET, PROPN, PROPN, PROPN, PUNCT, ADP, PRON, V...   \n",
       "1599  [ADP, DET, ADJ, PROPN, PUNCT, PRON, VERB, VERB...   \n",
       "\n",
       "                                               stopword  \n",
       "0     [False, False, False, False, False, False, Fal...  \n",
       "1     [False, False, False, False, False, False, Fal...  \n",
       "1598  [False, False, False, False, False, False, Fal...  \n",
       "1599  [False, False, False, False, False, False, Fal...  "
      ]
     },
     "execution_count": 9,
     "metadata": {},
     "output_type": "execute_result"
    }
   ],
   "source": [
    "parsed = nlp.pipe(iter(data_nlp['text']), batch_size=1, n_threads=4)\n",
    "\n",
    "# Create Features\n",
    "tokens, lemma, parts, stopword = [], [], [], []\n",
    "\n",
    "for parsed_doc in parsed:\n",
    "    tokens.append([n.text for n in parsed_doc])\n",
    "    lemma.append([n.lemma_ for n in parsed_doc])\n",
    "    parts.append([n.pos_ for n in parsed_doc])\n",
    "    stopword.append([n.is_stop for n in parsed_doc])\n",
    "\n",
    "# Assign Parsed into Dataframe\n",
    "data_nlp['tokens'] = tokens     \n",
    "data_nlp['tokens_stopwords'] = data_nlp['tokens'].apply(lambda x: [item for item in x if item not in stop])\n",
    "data_nlp['lemma'] = lemma\n",
    "data_nlp['pos'] = parts\n",
    "data_nlp['stopword'] = stopword\n",
    "\n",
    "# Describe resulting frame\n",
    "data_nlp.head(2).append(data_nlp.tail(2))"
   ]
  },
  {
   "cell_type": "markdown",
   "metadata": {},
   "source": [
    "## B. Create Features from Parsed Data"
   ]
  },
  {
   "cell_type": "code",
   "execution_count": 10,
   "metadata": {},
   "outputs": [
    {
     "data": {
      "text/html": [
       "<div>\n",
       "<table border=\"1\" class=\"dataframe\">\n",
       "  <thead>\n",
       "    <tr style=\"text-align: right;\">\n",
       "      <th></th>\n",
       "      <th>deceptive</th>\n",
       "      <th>hotel</th>\n",
       "      <th>polarity</th>\n",
       "      <th>source</th>\n",
       "      <th>text</th>\n",
       "      <th>tokens</th>\n",
       "      <th>tokens_stopwords</th>\n",
       "      <th>lemma</th>\n",
       "      <th>pos</th>\n",
       "      <th>stopword</th>\n",
       "      <th>pron_ct</th>\n",
       "      <th>noun_ct</th>\n",
       "      <th>punct_ct</th>\n",
       "      <th>verb_ct</th>\n",
       "      <th>stoprow</th>\n",
       "    </tr>\n",
       "  </thead>\n",
       "  <tbody>\n",
       "    <tr>\n",
       "      <th>0</th>\n",
       "      <td>truthful</td>\n",
       "      <td>conrad</td>\n",
       "      <td>positive</td>\n",
       "      <td>TripAdvisor</td>\n",
       "      <td>We stayed for a one night getaway with family ...</td>\n",
       "      <td>[We, stayed, for, a, one, night, getaway, with...</td>\n",
       "      <td>[We, stayed, one, night, getaway, family, thur...</td>\n",
       "      <td>[-PRON-, stay, for, a, one, night, getaway, wi...</td>\n",
       "      <td>[PRON, VERB, ADP, DET, NUM, NOUN, NOUN, ADP, N...</td>\n",
       "      <td>[False, False, False, False, False, False, Fal...</td>\n",
       "      <td>5</td>\n",
       "      <td>30</td>\n",
       "      <td>12</td>\n",
       "      <td>14</td>\n",
       "      <td>0</td>\n",
       "    </tr>\n",
       "    <tr>\n",
       "      <th>1</th>\n",
       "      <td>truthful</td>\n",
       "      <td>hyatt</td>\n",
       "      <td>positive</td>\n",
       "      <td>TripAdvisor</td>\n",
       "      <td>Triple A rate with upgrade to view room was le...</td>\n",
       "      <td>[Triple, A, rate, with, upgrade, to, view, roo...</td>\n",
       "      <td>[Triple, A, rate, upgrade, view, room, less, $...</td>\n",
       "      <td>[triple, a, rate, with, upgrade, to, view, roo...</td>\n",
       "      <td>[ADJ, DET, NOUN, ADP, NOUN, PART, NOUN, NOUN, ...</td>\n",
       "      <td>[False, False, False, False, False, False, Fal...</td>\n",
       "      <td>0</td>\n",
       "      <td>14</td>\n",
       "      <td>9</td>\n",
       "      <td>4</td>\n",
       "      <td>0</td>\n",
       "    </tr>\n",
       "    <tr>\n",
       "      <th>1598</th>\n",
       "      <td>deceptive</td>\n",
       "      <td>palmer</td>\n",
       "      <td>negative</td>\n",
       "      <td>MTurk</td>\n",
       "      <td>The Palmer House Hilton, while it looks good i...</td>\n",
       "      <td>[The, Palmer, House, Hilton, ,, while, it, loo...</td>\n",
       "      <td>[The, Palmer, House, Hilton, ,, looks, good, p...</td>\n",
       "      <td>[the, palmer, house, hilton, ,, while, -PRON-,...</td>\n",
       "      <td>[DET, PROPN, PROPN, PROPN, PUNCT, ADP, PRON, V...</td>\n",
       "      <td>[False, False, False, False, False, False, Fal...</td>\n",
       "      <td>10</td>\n",
       "      <td>17</td>\n",
       "      <td>13</td>\n",
       "      <td>20</td>\n",
       "      <td>0</td>\n",
       "    </tr>\n",
       "    <tr>\n",
       "      <th>1599</th>\n",
       "      <td>deceptive</td>\n",
       "      <td>amalfi</td>\n",
       "      <td>negative</td>\n",
       "      <td>MTurk</td>\n",
       "      <td>As a former Chicagoan, I'm appalled at the Ama...</td>\n",
       "      <td>[As, a, former, Chicagoan, ,, I, 'm, appalled,...</td>\n",
       "      <td>[As, former, Chicagoan, ,, I, 'm, appalled, Am...</td>\n",
       "      <td>[as, a, former, chicagoan, ,, -PRON-, be, appa...</td>\n",
       "      <td>[ADP, DET, ADJ, PROPN, PUNCT, PRON, VERB, VERB...</td>\n",
       "      <td>[False, False, False, False, False, False, Fal...</td>\n",
       "      <td>25</td>\n",
       "      <td>40</td>\n",
       "      <td>29</td>\n",
       "      <td>61</td>\n",
       "      <td>0</td>\n",
       "    </tr>\n",
       "  </tbody>\n",
       "</table>\n",
       "</div>"
      ],
      "text/plain": [
       "      deceptive   hotel  polarity       source  \\\n",
       "0      truthful  conrad  positive  TripAdvisor   \n",
       "1      truthful   hyatt  positive  TripAdvisor   \n",
       "1598  deceptive  palmer  negative        MTurk   \n",
       "1599  deceptive  amalfi  negative        MTurk   \n",
       "\n",
       "                                                   text  \\\n",
       "0     We stayed for a one night getaway with family ...   \n",
       "1     Triple A rate with upgrade to view room was le...   \n",
       "1598  The Palmer House Hilton, while it looks good i...   \n",
       "1599  As a former Chicagoan, I'm appalled at the Ama...   \n",
       "\n",
       "                                                 tokens  \\\n",
       "0     [We, stayed, for, a, one, night, getaway, with...   \n",
       "1     [Triple, A, rate, with, upgrade, to, view, roo...   \n",
       "1598  [The, Palmer, House, Hilton, ,, while, it, loo...   \n",
       "1599  [As, a, former, Chicagoan, ,, I, 'm, appalled,...   \n",
       "\n",
       "                                       tokens_stopwords  \\\n",
       "0     [We, stayed, one, night, getaway, family, thur...   \n",
       "1     [Triple, A, rate, upgrade, view, room, less, $...   \n",
       "1598  [The, Palmer, House, Hilton, ,, looks, good, p...   \n",
       "1599  [As, former, Chicagoan, ,, I, 'm, appalled, Am...   \n",
       "\n",
       "                                                  lemma  \\\n",
       "0     [-PRON-, stay, for, a, one, night, getaway, wi...   \n",
       "1     [triple, a, rate, with, upgrade, to, view, roo...   \n",
       "1598  [the, palmer, house, hilton, ,, while, -PRON-,...   \n",
       "1599  [as, a, former, chicagoan, ,, -PRON-, be, appa...   \n",
       "\n",
       "                                                    pos  \\\n",
       "0     [PRON, VERB, ADP, DET, NUM, NOUN, NOUN, ADP, N...   \n",
       "1     [ADJ, DET, NOUN, ADP, NOUN, PART, NOUN, NOUN, ...   \n",
       "1598  [DET, PROPN, PROPN, PROPN, PUNCT, ADP, PRON, V...   \n",
       "1599  [ADP, DET, ADJ, PROPN, PUNCT, PRON, VERB, VERB...   \n",
       "\n",
       "                                               stopword  pron_ct  noun_ct  \\\n",
       "0     [False, False, False, False, False, False, Fal...        5       30   \n",
       "1     [False, False, False, False, False, False, Fal...        0       14   \n",
       "1598  [False, False, False, False, False, False, Fal...       10       17   \n",
       "1599  [False, False, False, False, False, False, Fal...       25       40   \n",
       "\n",
       "      punct_ct  verb_ct  stoprow  \n",
       "0           12       14        0  \n",
       "1            9        4        0  \n",
       "1598        13       20        0  \n",
       "1599        29       61        0  "
      ]
     },
     "execution_count": 10,
     "metadata": {},
     "output_type": "execute_result"
    }
   ],
   "source": [
    "# Set up dataframe columns for new metrics\n",
    "pron_ct = []\n",
    "noun_ct = []\n",
    "punct_ct = []\n",
    "verb_ct = []\n",
    "# tag parts of speech\n",
    "for row in data_nlp.pos:\n",
    "    pron_ct.append(sum([i == 'PRON'  for i in row]))\n",
    "    noun_ct.append(sum([i == 'NOUN'  for i in row]))\n",
    "    punct_ct.append(sum([i == 'PUNCT'  for i in row]))\n",
    "    verb_ct.append(sum([i == 'VERB'  for i in row]))\n",
    "\n",
    "## Create Number of stopword\n",
    "stop_row = []\n",
    "for row in data_nlp.stopword:\n",
    "    stop_row.append(sum(row))\n",
    "    \n",
    "# Create POS Counts\n",
    "data_nlp['pron_ct'] = pron_ct\n",
    "data_nlp['noun_ct'] = noun_ct\n",
    "data_nlp['punct_ct'] = punct_ct\n",
    "data_nlp['verb_ct'] = verb_ct\n",
    "data_nlp['stoprow'] = stop_row\n",
    "# Describe Data\n",
    "data_nlp.head(2).append(data_nlp.tail(2))"
   ]
  },
  {
   "cell_type": "markdown",
   "metadata": {},
   "source": [
    "## C. Topic Modeling\n",
    "- Latent Semantic Analysis by setting the number of topics to 300"
   ]
  },
  {
   "cell_type": "code",
   "execution_count": 11,
   "metadata": {
    "collapsed": true
   },
   "outputs": [],
   "source": [
    "# helper function\n",
    "\n",
    "def build_model(train_data, topic_n):\n",
    "    frequency = defaultdict(int)\n",
    "    for text in train_data:\n",
    "        for token in text:\n",
    "            frequency[token] += 1\n",
    "    # get freq > 1\n",
    "    word_freq_1plus = [[x for x in words if frequency[x] > 1] for words in train_data]\n",
    "    # Create dictionary\n",
    "    dictionary = gensim.corpora.Dictionary(word_freq_1plus)\n",
    "    # Create Corpus\n",
    "    corpus = [dictionary.doc2bow(text) for text in train_data]\n",
    "    # corpus to tfidf\n",
    "    tfidf = gensim.models.TfidfModel(corpus) \n",
    "    corp_tf = tfidf[corpus] \n",
    "    # Unsupervised Component. Reduce space into 300 topics. \n",
    "    topic_n = topic_n\n",
    "    lsi = gensim.models.LsiModel(corp_tf, id2word=dictionary, num_topics = topic_n)\n",
    "    corp_topics = lsi[corp_tf] \n",
    "    return corp_topics, dictionary, tfidf, lsi  \n",
    "\n",
    "train_data = data_nlp.tokens_stopwords\n",
    "topic_n = 300\n",
    "\n",
    "built = build_model(\n",
    "    train_data = train_data,\n",
    "    topic_n = 300)"
   ]
  },
  {
   "cell_type": "markdown",
   "metadata": {},
   "source": [
    "## D. Build Dataframe from Topics"
   ]
  },
  {
   "cell_type": "code",
   "execution_count": 12,
   "metadata": {
    "collapsed": true
   },
   "outputs": [],
   "source": [
    "data_nlp_decomposed = pandas.DataFrame([dict(row) for row in built[0]])\n",
    "topic_only = data_nlp_decomposed"
   ]
  },
  {
   "cell_type": "markdown",
   "metadata": {},
   "source": [
    "# 5. Classification and Tuning\n",
    "\n",
    "Below, three sets of 6 models are run with 10 folds cross validation. Each set successively adds more data:\n",
    "\n",
    "- X1: 300 Topics Only from Latent Semantic Indexing\n",
    "- X2: X1 + Parts of Speech Metrics\n",
    "- X3: X2 + Dummy variables from dataset\n",
    "\n",
    "\n",
    "## A.  Setting up data + Models"
   ]
  },
  {
   "cell_type": "code",
   "execution_count": 23,
   "metadata": {},
   "outputs": [],
   "source": [
    "# Setting Up Three Datasets\n",
    "X1 = topic_only\n",
    "X2 = pandas.concat(\n",
    "    [topic_only,\n",
    "     data_nlp[['pron_ct', 'noun_ct', 'punct_ct', 'verb_ct']]],\n",
    "    axis = 1)\n",
    "X3 = pandas.concat(\n",
    "    [X2,\n",
    "     pandas.get_dummies(data_nlp[['hotel','polarity']])],\n",
    "    axis = 1)\n",
    "Y = data_nlp.deceptive == 'deceptive'"
   ]
  },
  {
   "cell_type": "code",
   "execution_count": 24,
   "metadata": {
    "collapsed": true,
    "scrolled": true
   },
   "outputs": [],
   "source": [
    "# prepare configuration for cross validation test harness\n",
    "seed = 7\n",
    "# prepare models\n",
    "models = []\n",
    "models.append(('LR', LogisticRegression()))\n",
    "models.append(('LDA', LinearDiscriminantAnalysis()))\n",
    "models.append(('KNN', KNeighborsClassifier()))\n",
    "models.append(('CART', DecisionTreeClassifier()))\n",
    "models.append(('NB', GaussianNB()))\n",
    "models.append(('SVM', SVC()))"
   ]
  },
  {
   "cell_type": "code",
   "execution_count": 31,
   "metadata": {
    "collapsed": true
   },
   "outputs": [],
   "source": [
    "# evaluate each model in turn\n",
    "\n",
    "def run_models(train_data, title):\n",
    "    results = []\n",
    "    names = []\n",
    "\n",
    "    for name, model in models:\n",
    "        kfold = model_selection.KFold(n_splits=10, random_state=seed)\n",
    "        cv_results = model_selection.cross_val_score(model, train_data, Y, cv=kfold, scoring='accuracy')\n",
    "        results.append(cv_results)\n",
    "        names.append(name)\n",
    "        msg = \"%s: %f (%f)\" % (name, cv_results.mean(), cv_results.std())\n",
    "        print(msg)\n",
    "\n",
    "    # boxplot algorithm comparison\n",
    "    fig = pyplot.figure()\n",
    "    fig.suptitle(title)\n",
    "    ax = fig.add_subplot(111)\n",
    "    pyplot.boxplot(results)\n",
    "    ax.set_xticklabels(names)\n",
    "    pyplot.ylim(0,1)\n",
    "    pyplot.show()"
   ]
  },
  {
   "cell_type": "markdown",
   "metadata": {},
   "source": [
    "### Model Comparison 1:\n",
    "Compare 6 Models with variables:\n",
    "- 300 Topics"
   ]
  },
  {
   "cell_type": "code",
   "execution_count": 26,
   "metadata": {},
   "outputs": [
    {
     "data": {
      "text/plain": [
       "(1600, 300)"
      ]
     },
     "execution_count": 26,
     "metadata": {},
     "output_type": "execute_result"
    }
   ],
   "source": [
    "X1.shape"
   ]
  },
  {
   "cell_type": "code",
   "execution_count": 27,
   "metadata": {},
   "outputs": [
    {
     "data": {
      "text/plain": [
       "array([  0,   1,   2,   3,   4,   5,   6,   7,   8,   9,  10,  11,  12,\n",
       "        13,  14,  15,  16,  17,  18,  19,  20,  21,  22,  23,  24,  25,\n",
       "        26,  27,  28,  29,  30,  31,  32,  33,  34,  35,  36,  37,  38,\n",
       "        39,  40,  41,  42,  43,  44,  45,  46,  47,  48,  49,  50,  51,\n",
       "        52,  53,  54,  55,  56,  57,  58,  59,  60,  61,  62,  63,  64,\n",
       "        65,  66,  67,  68,  69,  70,  71,  72,  73,  74,  75,  76,  77,\n",
       "        78,  79,  80,  81,  82,  83,  84,  85,  86,  87,  88,  89,  90,\n",
       "        91,  92,  93,  94,  95,  96,  97,  98,  99, 100, 101, 102, 103,\n",
       "       104, 105, 106, 107, 108, 109, 110, 111, 112, 113, 114, 115, 116,\n",
       "       117, 118, 119, 120, 121, 122, 123, 124, 125, 126, 127, 128, 129,\n",
       "       130, 131, 132, 133, 134, 135, 136, 137, 138, 139, 140, 141, 142,\n",
       "       143, 144, 145, 146, 147, 148, 149, 150, 151, 152, 153, 154, 155,\n",
       "       156, 157, 158, 159, 160, 161, 162, 163, 164, 165, 166, 167, 168,\n",
       "       169, 170, 171, 172, 173, 174, 175, 176, 177, 178, 179, 180, 181,\n",
       "       182, 183, 184, 185, 186, 187, 188, 189, 190, 191, 192, 193, 194,\n",
       "       195, 196, 197, 198, 199, 200, 201, 202, 203, 204, 205, 206, 207,\n",
       "       208, 209, 210, 211, 212, 213, 214, 215, 216, 217, 218, 219, 220,\n",
       "       221, 222, 223, 224, 225, 226, 227, 228, 229, 230, 231, 232, 233,\n",
       "       234, 235, 236, 237, 238, 239, 240, 241, 242, 243, 244, 245, 246,\n",
       "       247, 248, 249, 250, 251, 252, 253, 254, 255, 256, 257, 258, 259,\n",
       "       260, 261, 262, 263, 264, 265, 266, 267, 268, 269, 270, 271, 272,\n",
       "       273, 274, 275, 276, 277, 278, 279, 280, 281, 282, 283, 284, 285,\n",
       "       286, 287, 288, 289, 290, 291, 292, 293, 294, 295, 296, 297, 298, 299], dtype=int64)"
      ]
     },
     "execution_count": 27,
     "metadata": {},
     "output_type": "execute_result"
    }
   ],
   "source": [
    "X1.columns.values"
   ]
  },
  {
   "cell_type": "code",
   "execution_count": 43,
   "metadata": {},
   "outputs": [
    {
     "name": "stdout",
     "output_type": "stream",
     "text": [
      "LR: 0.755625 (0.066582)\n",
      "LDA: 0.818750 (0.041174)\n",
      "KNN: 0.551875 (0.085744)\n",
      "CART: 0.699375 (0.070459)\n",
      "NB: 0.665000 (0.148171)\n",
      "SVM: 0.175000 (0.350011)\n"
     ]
    },
    {
     "data": {
      "image/png": "[encoded data removed]",
      "text/plain": [
       "<matplotlib.figure.Figure at 0x23b133b7f60>"
      ]
     },
     "metadata": {},
     "output_type": "display_data"
    }
   ],
   "source": [
    "run_models(X1, title= 'Set 1, Algorithm Comparison')"
   ]
  },
  {
   "cell_type": "markdown",
   "metadata": {},
   "source": [
    "### Model Comparison 2:\n",
    "Compare 6 Models with variables:\n",
    "- 300 Topics\n",
    "- Parts of Speech Metrics"
   ]
  },
  {
   "cell_type": "code",
   "execution_count": 33,
   "metadata": {},
   "outputs": [
    {
     "data": {
      "text/plain": [
       "(1600, 304)"
      ]
     },
     "execution_count": 33,
     "metadata": {},
     "output_type": "execute_result"
    }
   ],
   "source": [
    "X2.shape"
   ]
  },
  {
   "cell_type": "code",
   "execution_count": 34,
   "metadata": {},
   "outputs": [
    {
     "data": {
      "text/plain": [
       "array([0, 1, 2, 3, 4, 5, 6, 7, 8, 9, 10, 11, 12, 13, 14, 15, 16, 17, 18,\n",
       "       19, 20, 21, 22, 23, 24, 25, 26, 27, 28, 29, 30, 31, 32, 33, 34, 35,\n",
       "       36, 37, 38, 39, 40, 41, 42, 43, 44, 45, 46, 47, 48, 49, 50, 51, 52,\n",
       "       53, 54, 55, 56, 57, 58, 59, 60, 61, 62, 63, 64, 65, 66, 67, 68, 69,\n",
       "       70, 71, 72, 73, 74, 75, 76, 77, 78, 79, 80, 81, 82, 83, 84, 85, 86,\n",
       "       87, 88, 89, 90, 91, 92, 93, 94, 95, 96, 97, 98, 99, 100, 101, 102,\n",
       "       103, 104, 105, 106, 107, 108, 109, 110, 111, 112, 113, 114, 115,\n",
       "       116, 117, 118, 119, 120, 121, 122, 123, 124, 125, 126, 127, 128,\n",
       "       129, 130, 131, 132, 133, 134, 135, 136, 137, 138, 139, 140, 141,\n",
       "       142, 143, 144, 145, 146, 147, 148, 149, 150, 151, 152, 153, 154,\n",
       "       155, 156, 157, 158, 159, 160, 161, 162, 163, 164, 165, 166, 167,\n",
       "       168, 169, 170, 171, 172, 173, 174, 175, 176, 177, 178, 179, 180,\n",
       "       181, 182, 183, 184, 185, 186, 187, 188, 189, 190, 191, 192, 193,\n",
       "       194, 195, 196, 197, 198, 199, 200, 201, 202, 203, 204, 205, 206,\n",
       "       207, 208, 209, 210, 211, 212, 213, 214, 215, 216, 217, 218, 219,\n",
       "       220, 221, 222, 223, 224, 225, 226, 227, 228, 229, 230, 231, 232,\n",
       "       233, 234, 235, 236, 237, 238, 239, 240, 241, 242, 243, 244, 245,\n",
       "       246, 247, 248, 249, 250, 251, 252, 253, 254, 255, 256, 257, 258,\n",
       "       259, 260, 261, 262, 263, 264, 265, 266, 267, 268, 269, 270, 271,\n",
       "       272, 273, 274, 275, 276, 277, 278, 279, 280, 281, 282, 283, 284,\n",
       "       285, 286, 287, 288, 289, 290, 291, 292, 293, 294, 295, 296, 297,\n",
       "       298, 299, 'pron_ct', 'noun_ct', 'punct_ct', 'verb_ct'], dtype=object)"
      ]
     },
     "execution_count": 34,
     "metadata": {},
     "output_type": "execute_result"
    }
   ],
   "source": [
    "X2.columns.values"
   ]
  },
  {
   "cell_type": "code",
   "execution_count": 44,
   "metadata": {},
   "outputs": [
    {
     "name": "stdout",
     "output_type": "stream",
     "text": [
      "LR: 0.727500 (0.070112)\n",
      "LDA: 0.822500 (0.041477)\n",
      "KNN: 0.496250 (0.086159)\n",
      "CART: 0.700625 (0.045022)\n",
      "NB: 0.661250 (0.133867)\n",
      "SVM: 0.468750 (0.108253)\n"
     ]
    },
    {
     "data": {
      "image/png": "[encoded data removed]",
      "text/plain": [
       "<matplotlib.figure.Figure at 0x23b14106e10>"
      ]
     },
     "metadata": {},
     "output_type": "display_data"
    }
   ],
   "source": [
    "run_models(X2, title= 'Set 2, Algorithm Comparison')"
   ]
  },
  {
   "cell_type": "markdown",
   "metadata": {},
   "source": [
    "### Model Comparison 3:\n",
    "Compare 6 Models with variables:\n",
    "- 300 Topics\n",
    "- Parts of Speech Metrics\n",
    "- Dummy Variables"
   ]
  },
  {
   "cell_type": "code",
   "execution_count": 36,
   "metadata": {},
   "outputs": [
    {
     "data": {
      "text/plain": [
       "(1600, 326)"
      ]
     },
     "execution_count": 36,
     "metadata": {},
     "output_type": "execute_result"
    }
   ],
   "source": [
    "X3.shape"
   ]
  },
  {
   "cell_type": "code",
   "execution_count": 37,
   "metadata": {
    "scrolled": false
   },
   "outputs": [
    {
     "data": {
      "text/plain": [
       "array([0, 1, 2, 3, 4, 5, 6, 7, 8, 9, 10, 11, 12, 13, 14, 15, 16, 17, 18,\n",
       "       19, 20, 21, 22, 23, 24, 25, 26, 27, 28, 29, 30, 31, 32, 33, 34, 35,\n",
       "       36, 37, 38, 39, 40, 41, 42, 43, 44, 45, 46, 47, 48, 49, 50, 51, 52,\n",
       "       53, 54, 55, 56, 57, 58, 59, 60, 61, 62, 63, 64, 65, 66, 67, 68, 69,\n",
       "       70, 71, 72, 73, 74, 75, 76, 77, 78, 79, 80, 81, 82, 83, 84, 85, 86,\n",
       "       87, 88, 89, 90, 91, 92, 93, 94, 95, 96, 97, 98, 99, 100, 101, 102,\n",
       "       103, 104, 105, 106, 107, 108, 109, 110, 111, 112, 113, 114, 115,\n",
       "       116, 117, 118, 119, 120, 121, 122, 123, 124, 125, 126, 127, 128,\n",
       "       129, 130, 131, 132, 133, 134, 135, 136, 137, 138, 139, 140, 141,\n",
       "       142, 143, 144, 145, 146, 147, 148, 149, 150, 151, 152, 153, 154,\n",
       "       155, 156, 157, 158, 159, 160, 161, 162, 163, 164, 165, 166, 167,\n",
       "       168, 169, 170, 171, 172, 173, 174, 175, 176, 177, 178, 179, 180,\n",
       "       181, 182, 183, 184, 185, 186, 187, 188, 189, 190, 191, 192, 193,\n",
       "       194, 195, 196, 197, 198, 199, 200, 201, 202, 203, 204, 205, 206,\n",
       "       207, 208, 209, 210, 211, 212, 213, 214, 215, 216, 217, 218, 219,\n",
       "       220, 221, 222, 223, 224, 225, 226, 227, 228, 229, 230, 231, 232,\n",
       "       233, 234, 235, 236, 237, 238, 239, 240, 241, 242, 243, 244, 245,\n",
       "       246, 247, 248, 249, 250, 251, 252, 253, 254, 255, 256, 257, 258,\n",
       "       259, 260, 261, 262, 263, 264, 265, 266, 267, 268, 269, 270, 271,\n",
       "       272, 273, 274, 275, 276, 277, 278, 279, 280, 281, 282, 283, 284,\n",
       "       285, 286, 287, 288, 289, 290, 291, 292, 293, 294, 295, 296, 297,\n",
       "       298, 299, 'pron_ct', 'noun_ct', 'punct_ct', 'verb_ct',\n",
       "       'hotel_affinia', 'hotel_allegro', 'hotel_amalfi',\n",
       "       'hotel_ambassador', 'hotel_conrad', 'hotel_fairmont',\n",
       "       'hotel_hardrock', 'hotel_hilton', 'hotel_homewood', 'hotel_hyatt',\n",
       "       'hotel_intercontinental', 'hotel_james', 'hotel_knickerbocker',\n",
       "       'hotel_monaco', 'hotel_omni', 'hotel_palmer', 'hotel_sheraton',\n",
       "       'hotel_sofitel', 'hotel_swissotel', 'hotel_talbott',\n",
       "       'polarity_negative', 'polarity_positive'], dtype=object)"
      ]
     },
     "execution_count": 37,
     "metadata": {},
     "output_type": "execute_result"
    }
   ],
   "source": [
    "X3.columns.values"
   ]
  },
  {
   "cell_type": "code",
   "execution_count": 41,
   "metadata": {
    "scrolled": false
   },
   "outputs": [
    {
     "name": "stdout",
     "output_type": "stream",
     "text": [
      "LR: 0.456875 (0.125637)\n",
      "LDA: 0.774375 (0.050191)\n",
      "KNN: 0.480625 (0.080110)\n",
      "CART: 0.715625 (0.060418)\n",
      "NB: 0.075000 (0.041363)\n",
      "SVM: 0.436875 (0.111329)\n"
     ]
    },
    {
     "data": {
      "image/png": "[encoded data removed]",
      "text/plain": [
       "<matplotlib.figure.Figure at 0x23b133b7f28>"
      ]
     },
     "metadata": {},
     "output_type": "display_data"
    }
   ],
   "source": [
    "run_models(X3, title= 'Set 3, Algorithm Comparison')"
   ]
  },
  {
   "cell_type": "markdown",
   "metadata": {},
   "source": [
    "# 6. Results\n",
    "\n",
    "From above, the model with the best performance is the Latent Discriminant Analysis with data set 2 which contains a 300 topic solution with parts of speech tagging.  \n",
    "\n",
    "\n"
   ]
  },
  {
   "cell_type": "code",
   "execution_count": 58,
   "metadata": {},
   "outputs": [
    {
     "name": "stdout",
     "output_type": "stream",
     "text": [
      "             precision    recall  f1-score   support\n",
      "\n",
      "      False       0.94      0.95      0.94       800\n",
      "       True       0.95      0.94      0.94       800\n",
      "\n",
      "avg / total       0.94      0.94      0.94      1600\n",
      "\n"
     ]
    }
   ],
   "source": [
    "clf = LDA()\n",
    "clf = clf.fit(X2,Y)\n",
    "\n",
    "pandas.crosstab(clf.predict(X2),Y)\n",
    "print(classification_report(y_true=Y, y_pred=clf.predict(X2)))"
   ]
  }
 ],
 "metadata": {
  "kernelspec": {
   "display_name": "Python 3",
   "language": "python",
   "name": "python3"
  },
  "language_info": {
   "codemirror_mode": {
    "name": "ipython",
    "version": 3
   },
   "file_extension": ".py",
   "mimetype": "text/x-python",
   "name": "python",
   "nbconvert_exporter": "python",
   "pygments_lexer": "ipython3",
   "version": "3.6.0"
  }
 },
 "nbformat": 4,
 "nbformat_minor": 2
}
